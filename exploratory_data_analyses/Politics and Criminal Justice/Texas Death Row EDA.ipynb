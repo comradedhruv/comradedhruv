{
 "cells": [
  {
   "cell_type": "markdown",
   "id": "f6f5408f",
   "metadata": {},
   "source": [
    "# Scraping and Analysing the Texas Death Row Database\n",
    "\n",
    "Conducted by Dhruv Rachakonda <br>\n",
    "University of Utah, Salt Lake City, Utah <br>\n",
    "November 2024"
   ]
  },
  {
   "cell_type": "markdown",
   "id": "83800bd9",
   "metadata": {},
   "source": [
    "## Introduction\n",
    "\n",
    "The purpose of this exploratory data analysis (EDA) is to scrape the web table found on the Texas Department of Criminal Justice website, which publishes a table of up-to-date executed inmates with information regarding their execution. \n",
    "\n",
    "The following questions will be looked into\n",
    "\n",
    "<b>Which counties have the most executions?</b> <br> \n",
    "<b>What are the most common crimes of those committed on death row?</b> <br>\n",
    "<b>What are the most common words/phrases in the last words</b>\n",
    "<b>What are some common patterns in those who are executed</b>\n",
    "\n",
    "Let us start off by importing the neccesary libraries"
   ]
  },
  {
   "cell_type": "code",
   "execution_count": null,
   "id": "adc7469d",
   "metadata": {},
   "outputs": [],
   "source": []
  }
 ],
 "metadata": {
  "kernelspec": {
   "display_name": "Python 3 (ipykernel)",
   "language": "python",
   "name": "python3"
  },
  "language_info": {
   "codemirror_mode": {
    "name": "ipython",
    "version": 3
   },
   "file_extension": ".py",
   "mimetype": "text/x-python",
   "name": "python",
   "nbconvert_exporter": "python",
   "pygments_lexer": "ipython3",
   "version": "3.9.13"
  }
 },
 "nbformat": 4,
 "nbformat_minor": 5
}
