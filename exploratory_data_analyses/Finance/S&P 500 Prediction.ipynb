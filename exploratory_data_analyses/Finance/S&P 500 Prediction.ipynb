{
 "cells": [
  {
   "cell_type": "markdown",
   "id": "230b5bc8",
   "metadata": {},
   "source": [
    "# Predicting the S&P 500 Stock Price\n",
    "### Based on Previous S&P 500 Historical Data\n",
    "\n",
    "#### By Dhruv Rachakonda\n",
    "\n",
    "In this exporatory data analysis, I will be conducting an extensive EDA, and attempt to predict the S&P 500 Price for the next day\n",
    "\n",
    "Let us begin by important the yfinance package, which will download up to date financial data as needed. We will also import other neccesary libraries "
   ]
  },
  {
   "cell_type": "code",
   "execution_count": 228,
   "id": "dee4da97",
   "metadata": {},
   "outputs": [],
   "source": [
    "import yfinance as yf\n",
    "import seaborn as sb\n",
    "import matplotlib.pyplot as mt\n",
    "import pandas as pd\n",
    "import datetime as dt\n",
    "from pytz import timezone\n",
    "from sklearn.ensemble import RandomForestClassifier\n",
    "from sklearn.metrics import precision_score\n"
   ]
  },
  {
   "cell_type": "markdown",
   "id": "c4e378c3",
   "metadata": {},
   "source": [
    "Now, let us initilize a \"ticker class\" which will allow us to download data for a specific single symbol.\n",
    "\n",
    "The GSPC symbol is the S&P 500's symbol\n",
    "\n",
    "Let us get the maximum amount of data availible for the S&P 500"
   ]
  },
  {
   "cell_type": "code",
   "execution_count": 229,
   "id": "f92d04d0",
   "metadata": {},
   "outputs": [],
   "source": [
    "s_p500 = yf.Ticker(\"^GSPC\")"
   ]
  },
  {
   "cell_type": "code",
   "execution_count": 230,
   "id": "fe376cbc",
   "metadata": {},
   "outputs": [],
   "source": [
    "s_p500 = s_p500.history(period = \"max\")"
   ]
  },
  {
   "cell_type": "code",
   "execution_count": 231,
   "id": "70c2d9c4",
   "metadata": {},
   "outputs": [
    {
     "data": {
      "text/html": [
       "<div>\n",
       "<style scoped>\n",
       "    .dataframe tbody tr th:only-of-type {\n",
       "        vertical-align: middle;\n",
       "    }\n",
       "\n",
       "    .dataframe tbody tr th {\n",
       "        vertical-align: top;\n",
       "    }\n",
       "\n",
       "    .dataframe thead th {\n",
       "        text-align: right;\n",
       "    }\n",
       "</style>\n",
       "<table border=\"1\" class=\"dataframe\">\n",
       "  <thead>\n",
       "    <tr style=\"text-align: right;\">\n",
       "      <th></th>\n",
       "      <th>Open</th>\n",
       "      <th>High</th>\n",
       "      <th>Low</th>\n",
       "      <th>Close</th>\n",
       "      <th>Volume</th>\n",
       "      <th>Dividends</th>\n",
       "      <th>Stock Splits</th>\n",
       "    </tr>\n",
       "    <tr>\n",
       "      <th>Date</th>\n",
       "      <th></th>\n",
       "      <th></th>\n",
       "      <th></th>\n",
       "      <th></th>\n",
       "      <th></th>\n",
       "      <th></th>\n",
       "      <th></th>\n",
       "    </tr>\n",
       "  </thead>\n",
       "  <tbody>\n",
       "    <tr>\n",
       "      <th>1927-12-30 00:00:00-05:00</th>\n",
       "      <td>17.660000</td>\n",
       "      <td>17.660000</td>\n",
       "      <td>17.660000</td>\n",
       "      <td>17.660000</td>\n",
       "      <td>0</td>\n",
       "      <td>0.0</td>\n",
       "      <td>0.0</td>\n",
       "    </tr>\n",
       "    <tr>\n",
       "      <th>1928-01-03 00:00:00-05:00</th>\n",
       "      <td>17.760000</td>\n",
       "      <td>17.760000</td>\n",
       "      <td>17.760000</td>\n",
       "      <td>17.760000</td>\n",
       "      <td>0</td>\n",
       "      <td>0.0</td>\n",
       "      <td>0.0</td>\n",
       "    </tr>\n",
       "    <tr>\n",
       "      <th>1928-01-04 00:00:00-05:00</th>\n",
       "      <td>17.719999</td>\n",
       "      <td>17.719999</td>\n",
       "      <td>17.719999</td>\n",
       "      <td>17.719999</td>\n",
       "      <td>0</td>\n",
       "      <td>0.0</td>\n",
       "      <td>0.0</td>\n",
       "    </tr>\n",
       "    <tr>\n",
       "      <th>1928-01-05 00:00:00-05:00</th>\n",
       "      <td>17.549999</td>\n",
       "      <td>17.549999</td>\n",
       "      <td>17.549999</td>\n",
       "      <td>17.549999</td>\n",
       "      <td>0</td>\n",
       "      <td>0.0</td>\n",
       "      <td>0.0</td>\n",
       "    </tr>\n",
       "    <tr>\n",
       "      <th>1928-01-06 00:00:00-05:00</th>\n",
       "      <td>17.660000</td>\n",
       "      <td>17.660000</td>\n",
       "      <td>17.660000</td>\n",
       "      <td>17.660000</td>\n",
       "      <td>0</td>\n",
       "      <td>0.0</td>\n",
       "      <td>0.0</td>\n",
       "    </tr>\n",
       "  </tbody>\n",
       "</table>\n",
       "</div>"
      ],
      "text/plain": [
       "                                Open       High        Low      Close  Volume  \\\n",
       "Date                                                                            \n",
       "1927-12-30 00:00:00-05:00  17.660000  17.660000  17.660000  17.660000       0   \n",
       "1928-01-03 00:00:00-05:00  17.760000  17.760000  17.760000  17.760000       0   \n",
       "1928-01-04 00:00:00-05:00  17.719999  17.719999  17.719999  17.719999       0   \n",
       "1928-01-05 00:00:00-05:00  17.549999  17.549999  17.549999  17.549999       0   \n",
       "1928-01-06 00:00:00-05:00  17.660000  17.660000  17.660000  17.660000       0   \n",
       "\n",
       "                           Dividends  Stock Splits  \n",
       "Date                                                \n",
       "1927-12-30 00:00:00-05:00        0.0           0.0  \n",
       "1928-01-03 00:00:00-05:00        0.0           0.0  \n",
       "1928-01-04 00:00:00-05:00        0.0           0.0  \n",
       "1928-01-05 00:00:00-05:00        0.0           0.0  \n",
       "1928-01-06 00:00:00-05:00        0.0           0.0  "
      ]
     },
     "execution_count": 231,
     "metadata": {},
     "output_type": "execute_result"
    }
   ],
   "source": [
    "s_p500.head()"
   ]
  },
  {
   "cell_type": "code",
   "execution_count": 232,
   "id": "eae9f53d",
   "metadata": {
    "scrolled": true
   },
   "outputs": [
    {
     "data": {
      "text/html": [
       "<div>\n",
       "<style scoped>\n",
       "    .dataframe tbody tr th:only-of-type {\n",
       "        vertical-align: middle;\n",
       "    }\n",
       "\n",
       "    .dataframe tbody tr th {\n",
       "        vertical-align: top;\n",
       "    }\n",
       "\n",
       "    .dataframe thead th {\n",
       "        text-align: right;\n",
       "    }\n",
       "</style>\n",
       "<table border=\"1\" class=\"dataframe\">\n",
       "  <thead>\n",
       "    <tr style=\"text-align: right;\">\n",
       "      <th></th>\n",
       "      <th>Open</th>\n",
       "      <th>High</th>\n",
       "      <th>Low</th>\n",
       "      <th>Close</th>\n",
       "      <th>Volume</th>\n",
       "      <th>Dividends</th>\n",
       "      <th>Stock Splits</th>\n",
       "    </tr>\n",
       "    <tr>\n",
       "      <th>Date</th>\n",
       "      <th></th>\n",
       "      <th></th>\n",
       "      <th></th>\n",
       "      <th></th>\n",
       "      <th></th>\n",
       "      <th></th>\n",
       "      <th></th>\n",
       "    </tr>\n",
       "  </thead>\n",
       "  <tbody>\n",
       "    <tr>\n",
       "      <th>2024-07-08 00:00:00-04:00</th>\n",
       "      <td>5572.750000</td>\n",
       "      <td>5583.109863</td>\n",
       "      <td>5562.509766</td>\n",
       "      <td>5572.850098</td>\n",
       "      <td>3185670000</td>\n",
       "      <td>0.0</td>\n",
       "      <td>0.0</td>\n",
       "    </tr>\n",
       "    <tr>\n",
       "      <th>2024-07-09 00:00:00-04:00</th>\n",
       "      <td>5584.240234</td>\n",
       "      <td>5590.750000</td>\n",
       "      <td>5574.569824</td>\n",
       "      <td>5576.979980</td>\n",
       "      <td>3232920000</td>\n",
       "      <td>0.0</td>\n",
       "      <td>0.0</td>\n",
       "    </tr>\n",
       "    <tr>\n",
       "      <th>2024-07-10 00:00:00-04:00</th>\n",
       "      <td>5591.259766</td>\n",
       "      <td>5635.390137</td>\n",
       "      <td>5586.439941</td>\n",
       "      <td>5633.910156</td>\n",
       "      <td>3336100000</td>\n",
       "      <td>0.0</td>\n",
       "      <td>0.0</td>\n",
       "    </tr>\n",
       "    <tr>\n",
       "      <th>2024-07-11 00:00:00-04:00</th>\n",
       "      <td>5635.209961</td>\n",
       "      <td>5642.450195</td>\n",
       "      <td>5576.529785</td>\n",
       "      <td>5584.540039</td>\n",
       "      <td>4020950000</td>\n",
       "      <td>0.0</td>\n",
       "      <td>0.0</td>\n",
       "    </tr>\n",
       "    <tr>\n",
       "      <th>2024-07-12 00:00:00-04:00</th>\n",
       "      <td>5590.759766</td>\n",
       "      <td>5655.560059</td>\n",
       "      <td>5590.439941</td>\n",
       "      <td>5615.350098</td>\n",
       "      <td>3700280000</td>\n",
       "      <td>0.0</td>\n",
       "      <td>0.0</td>\n",
       "    </tr>\n",
       "  </tbody>\n",
       "</table>\n",
       "</div>"
      ],
      "text/plain": [
       "                                  Open         High          Low        Close  \\\n",
       "Date                                                                            \n",
       "2024-07-08 00:00:00-04:00  5572.750000  5583.109863  5562.509766  5572.850098   \n",
       "2024-07-09 00:00:00-04:00  5584.240234  5590.750000  5574.569824  5576.979980   \n",
       "2024-07-10 00:00:00-04:00  5591.259766  5635.390137  5586.439941  5633.910156   \n",
       "2024-07-11 00:00:00-04:00  5635.209961  5642.450195  5576.529785  5584.540039   \n",
       "2024-07-12 00:00:00-04:00  5590.759766  5655.560059  5590.439941  5615.350098   \n",
       "\n",
       "                               Volume  Dividends  Stock Splits  \n",
       "Date                                                            \n",
       "2024-07-08 00:00:00-04:00  3185670000        0.0           0.0  \n",
       "2024-07-09 00:00:00-04:00  3232920000        0.0           0.0  \n",
       "2024-07-10 00:00:00-04:00  3336100000        0.0           0.0  \n",
       "2024-07-11 00:00:00-04:00  4020950000        0.0           0.0  \n",
       "2024-07-12 00:00:00-04:00  3700280000        0.0           0.0  "
      ]
     },
     "execution_count": 232,
     "metadata": {},
     "output_type": "execute_result"
    }
   ],
   "source": [
    "s_p500.tail()"
   ]
  },
  {
   "cell_type": "raw",
   "id": "85e53482",
   "metadata": {},
   "source": [
    "Let us start by examining the columns"
   ]
  },
  {
   "cell_type": "code",
   "execution_count": 233,
   "id": "4295589f",
   "metadata": {},
   "outputs": [
    {
     "data": {
      "text/plain": [
       "Index(['Open', 'High', 'Low', 'Close', 'Volume', 'Dividends', 'Stock Splits'], dtype='object')"
      ]
     },
     "execution_count": 233,
     "metadata": {},
     "output_type": "execute_result"
    }
   ],
   "source": [
    "s_p500.columns"
   ]
  },
  {
   "cell_type": "markdown",
   "id": "4dfffc2d",
   "metadata": {},
   "source": [
    "We can see that we have the following columns\n",
    "\n",
    "<ul>\n",
    "    <li><b>Date</b>: The trading day in question</li>\n",
    "    <li><b>Open</b>: The price that the stock started at for the trading day</li>\n",
    "    <li><b>Close</b>: The price that the stock ended at for the trading day</li>\n",
    "    <li><b>High</b>: The highest point that the stock had ever reached for the trading day</li>\n",
    "    <li><b>Low</b>: The lowest point that the stock had ever reached for the trading day</li>\n",
    "</ul>"
   ]
  },
  {
   "cell_type": "markdown",
   "id": "d5a3c359",
   "metadata": {},
   "source": [
    "### Data Examination and Cleaning\n",
    "We will now examine the data and format it as needed to better fit our model. "
   ]
  },
  {
   "cell_type": "markdown",
   "id": "1ed8a803",
   "metadata": {},
   "source": [
    "Let us first plot the dataset. I am using Seaborn to plot this."
   ]
  },
  {
   "cell_type": "code",
   "execution_count": 234,
   "id": "b71d2e96",
   "metadata": {},
   "outputs": [
    {
     "data": {
      "image/png": "[encoded data removed]",
      "text/plain": [
       "<Figure size 640x480 with 1 Axes>"
      ]
     },
     "metadata": {},
     "output_type": "display_data"
    }
   ],
   "source": [
    "s_p_plot = sb.lineplot(data = s_p500, x=\"Date\", y=\"Close\").set_title(\"S&P 500 Historical Data\")"
   ]
  },
  {
   "cell_type": "markdown",
   "id": "f963ccb9",
   "metadata": {},
   "source": [
    "In this plot, we can see some interesting points in history, such as 9/11 in 2001, the major recession in 2008, and the Coronavirus pandemic of 2020. These are all points where the line visibly dropped."
   ]
  },
  {
   "cell_type": "markdown",
   "id": "9105a02d",
   "metadata": {},
   "source": [
    "There are some columns that will not be relevent to the training of our model. We will remove these in order to speed up the processing and training time of our data and model. \n",
    "\n",
    "Firstly, the dividends model is not relevent in predicting the stock price based on this data, so we will delete it. "
   ]
  },
  {
   "cell_type": "code",
   "execution_count": 235,
   "id": "3fb7609f",
   "metadata": {},
   "outputs": [],
   "source": [
    "del s_p500[\"Dividends\"]"
   ]
  },
  {
   "cell_type": "markdown",
   "id": "1fa8b8cc",
   "metadata": {},
   "source": [
    "Addiitionaly, the Stock Splits column is also irrelevent, so we will delete it. "
   ]
  },
  {
   "cell_type": "code",
   "execution_count": 236,
   "id": "fe53a65f",
   "metadata": {},
   "outputs": [],
   "source": [
    "del s_p500[\"Stock Splits\"]"
   ]
  },
  {
   "cell_type": "markdown",
   "id": "81724429",
   "metadata": {},
   "source": [
    "Both of these columns are more relevent for individual stocks, rather than a holisitic analysis of an index such as the S&P 500. We will keep volume since the number of stocks traded on a given day is crucial in predicting the next day's stock price."
   ]
  },
  {
   "cell_type": "markdown",
   "id": "a6dd2448",
   "metadata": {},
   "source": [
    "We also need to determine and construct our target, or the actual metric that we will be predicting. We simply want to predict here, will the price go up or down.\n",
    "<br> \n",
    "<br>\n",
    "Predicting exact values (for example, we predict the stock price will be X dollars tomorrow) is a problematic method. This is because the model can still be extremely accurate at predicting exact values, but it is possible to still lose profit. The objective here is to predict a good directionality on whether or not to invest in a specific stock or ETF. \n",
    "<br>\n",
    "<br>\n",
    "Let us create a column to represent tomorrow's price (our ŷ-value essentially). We can use the shift function for this to shift all the values up and to the left into a new column. This will make it easier to compare the price between two days"
   ]
  },
  {
   "cell_type": "code",
   "execution_count": 237,
   "id": "58332812",
   "metadata": {},
   "outputs": [],
   "source": [
    "s_p500[\"Tomorrow\"] = s_p500[\"Close\"].shift(-1)"
   ]
  },
  {
   "cell_type": "code",
   "execution_count": 238,
   "id": "a1f087c1",
   "metadata": {},
   "outputs": [
    {
     "data": {
      "text/html": [
       "<div>\n",
       "<style scoped>\n",
       "    .dataframe tbody tr th:only-of-type {\n",
       "        vertical-align: middle;\n",
       "    }\n",
       "\n",
       "    .dataframe tbody tr th {\n",
       "        vertical-align: top;\n",
       "    }\n",
       "\n",
       "    .dataframe thead th {\n",
       "        text-align: right;\n",
       "    }\n",
       "</style>\n",
       "<table border=\"1\" class=\"dataframe\">\n",
       "  <thead>\n",
       "    <tr style=\"text-align: right;\">\n",
       "      <th></th>\n",
       "      <th>Open</th>\n",
       "      <th>High</th>\n",
       "      <th>Low</th>\n",
       "      <th>Close</th>\n",
       "      <th>Volume</th>\n",
       "      <th>Tomorrow</th>\n",
       "    </tr>\n",
       "    <tr>\n",
       "      <th>Date</th>\n",
       "      <th></th>\n",
       "      <th></th>\n",
       "      <th></th>\n",
       "      <th></th>\n",
       "      <th></th>\n",
       "      <th></th>\n",
       "    </tr>\n",
       "  </thead>\n",
       "  <tbody>\n",
       "    <tr>\n",
       "      <th>1927-12-30 00:00:00-05:00</th>\n",
       "      <td>17.660000</td>\n",
       "      <td>17.660000</td>\n",
       "      <td>17.660000</td>\n",
       "      <td>17.660000</td>\n",
       "      <td>0</td>\n",
       "      <td>17.760000</td>\n",
       "    </tr>\n",
       "    <tr>\n",
       "      <th>1928-01-03 00:00:00-05:00</th>\n",
       "      <td>17.760000</td>\n",
       "      <td>17.760000</td>\n",
       "      <td>17.760000</td>\n",
       "      <td>17.760000</td>\n",
       "      <td>0</td>\n",
       "      <td>17.719999</td>\n",
       "    </tr>\n",
       "    <tr>\n",
       "      <th>1928-01-04 00:00:00-05:00</th>\n",
       "      <td>17.719999</td>\n",
       "      <td>17.719999</td>\n",
       "      <td>17.719999</td>\n",
       "      <td>17.719999</td>\n",
       "      <td>0</td>\n",
       "      <td>17.549999</td>\n",
       "    </tr>\n",
       "    <tr>\n",
       "      <th>1928-01-05 00:00:00-05:00</th>\n",
       "      <td>17.549999</td>\n",
       "      <td>17.549999</td>\n",
       "      <td>17.549999</td>\n",
       "      <td>17.549999</td>\n",
       "      <td>0</td>\n",
       "      <td>17.660000</td>\n",
       "    </tr>\n",
       "    <tr>\n",
       "      <th>1928-01-06 00:00:00-05:00</th>\n",
       "      <td>17.660000</td>\n",
       "      <td>17.660000</td>\n",
       "      <td>17.660000</td>\n",
       "      <td>17.660000</td>\n",
       "      <td>0</td>\n",
       "      <td>17.500000</td>\n",
       "    </tr>\n",
       "  </tbody>\n",
       "</table>\n",
       "</div>"
      ],
      "text/plain": [
       "                                Open       High        Low      Close  Volume  \\\n",
       "Date                                                                            \n",
       "1927-12-30 00:00:00-05:00  17.660000  17.660000  17.660000  17.660000       0   \n",
       "1928-01-03 00:00:00-05:00  17.760000  17.760000  17.760000  17.760000       0   \n",
       "1928-01-04 00:00:00-05:00  17.719999  17.719999  17.719999  17.719999       0   \n",
       "1928-01-05 00:00:00-05:00  17.549999  17.549999  17.549999  17.549999       0   \n",
       "1928-01-06 00:00:00-05:00  17.660000  17.660000  17.660000  17.660000       0   \n",
       "\n",
       "                            Tomorrow  \n",
       "Date                                  \n",
       "1927-12-30 00:00:00-05:00  17.760000  \n",
       "1928-01-03 00:00:00-05:00  17.719999  \n",
       "1928-01-04 00:00:00-05:00  17.549999  \n",
       "1928-01-05 00:00:00-05:00  17.660000  \n",
       "1928-01-06 00:00:00-05:00  17.500000  "
      ]
     },
     "execution_count": 238,
     "metadata": {},
     "output_type": "execute_result"
    }
   ],
   "source": [
    "s_p500.head()"
   ]
  },
  {
   "cell_type": "markdown",
   "id": "5dd96918",
   "metadata": {},
   "source": [
    "Now, we need to initialize the actual target, which is whether or not the price tomorrow is greater that the price today on any given day. We will do this in the form of a boolean column."
   ]
  },
  {
   "cell_type": "code",
   "execution_count": 239,
   "id": "a0f49763",
   "metadata": {},
   "outputs": [],
   "source": [
    "s_p500[\"Target\"] = (s_p500[\"Tomorrow\"] > s_p500[\"Close\"]).astype(int) #im converting to int since most ML algorithms use 0s and 1s"
   ]
  },
  {
   "cell_type": "code",
   "execution_count": 240,
   "id": "2f5a846d",
   "metadata": {},
   "outputs": [
    {
     "data": {
      "text/html": [
       "<div>\n",
       "<style scoped>\n",
       "    .dataframe tbody tr th:only-of-type {\n",
       "        vertical-align: middle;\n",
       "    }\n",
       "\n",
       "    .dataframe tbody tr th {\n",
       "        vertical-align: top;\n",
       "    }\n",
       "\n",
       "    .dataframe thead th {\n",
       "        text-align: right;\n",
       "    }\n",
       "</style>\n",
       "<table border=\"1\" class=\"dataframe\">\n",
       "  <thead>\n",
       "    <tr style=\"text-align: right;\">\n",
       "      <th></th>\n",
       "      <th>Open</th>\n",
       "      <th>High</th>\n",
       "      <th>Low</th>\n",
       "      <th>Close</th>\n",
       "      <th>Volume</th>\n",
       "      <th>Tomorrow</th>\n",
       "      <th>Target</th>\n",
       "    </tr>\n",
       "    <tr>\n",
       "      <th>Date</th>\n",
       "      <th></th>\n",
       "      <th></th>\n",
       "      <th></th>\n",
       "      <th></th>\n",
       "      <th></th>\n",
       "      <th></th>\n",
       "      <th></th>\n",
       "    </tr>\n",
       "  </thead>\n",
       "  <tbody>\n",
       "    <tr>\n",
       "      <th>1927-12-30 00:00:00-05:00</th>\n",
       "      <td>17.660000</td>\n",
       "      <td>17.660000</td>\n",
       "      <td>17.660000</td>\n",
       "      <td>17.660000</td>\n",
       "      <td>0</td>\n",
       "      <td>17.760000</td>\n",
       "      <td>1</td>\n",
       "    </tr>\n",
       "    <tr>\n",
       "      <th>1928-01-03 00:00:00-05:00</th>\n",
       "      <td>17.760000</td>\n",
       "      <td>17.760000</td>\n",
       "      <td>17.760000</td>\n",
       "      <td>17.760000</td>\n",
       "      <td>0</td>\n",
       "      <td>17.719999</td>\n",
       "      <td>0</td>\n",
       "    </tr>\n",
       "    <tr>\n",
       "      <th>1928-01-04 00:00:00-05:00</th>\n",
       "      <td>17.719999</td>\n",
       "      <td>17.719999</td>\n",
       "      <td>17.719999</td>\n",
       "      <td>17.719999</td>\n",
       "      <td>0</td>\n",
       "      <td>17.549999</td>\n",
       "      <td>0</td>\n",
       "    </tr>\n",
       "    <tr>\n",
       "      <th>1928-01-05 00:00:00-05:00</th>\n",
       "      <td>17.549999</td>\n",
       "      <td>17.549999</td>\n",
       "      <td>17.549999</td>\n",
       "      <td>17.549999</td>\n",
       "      <td>0</td>\n",
       "      <td>17.660000</td>\n",
       "      <td>1</td>\n",
       "    </tr>\n",
       "    <tr>\n",
       "      <th>1928-01-06 00:00:00-05:00</th>\n",
       "      <td>17.660000</td>\n",
       "      <td>17.660000</td>\n",
       "      <td>17.660000</td>\n",
       "      <td>17.660000</td>\n",
       "      <td>0</td>\n",
       "      <td>17.500000</td>\n",
       "      <td>0</td>\n",
       "    </tr>\n",
       "  </tbody>\n",
       "</table>\n",
       "</div>"
      ],
      "text/plain": [
       "                                Open       High        Low      Close  Volume  \\\n",
       "Date                                                                            \n",
       "1927-12-30 00:00:00-05:00  17.660000  17.660000  17.660000  17.660000       0   \n",
       "1928-01-03 00:00:00-05:00  17.760000  17.760000  17.760000  17.760000       0   \n",
       "1928-01-04 00:00:00-05:00  17.719999  17.719999  17.719999  17.719999       0   \n",
       "1928-01-05 00:00:00-05:00  17.549999  17.549999  17.549999  17.549999       0   \n",
       "1928-01-06 00:00:00-05:00  17.660000  17.660000  17.660000  17.660000       0   \n",
       "\n",
       "                            Tomorrow  Target  \n",
       "Date                                          \n",
       "1927-12-30 00:00:00-05:00  17.760000       1  \n",
       "1928-01-03 00:00:00-05:00  17.719999       0  \n",
       "1928-01-04 00:00:00-05:00  17.549999       0  \n",
       "1928-01-05 00:00:00-05:00  17.660000       1  \n",
       "1928-01-06 00:00:00-05:00  17.500000       0  "
      ]
     },
     "execution_count": 240,
     "metadata": {},
     "output_type": "execute_result"
    }
   ],
   "source": [
    "s_p500.head()"
   ]
  },
  {
   "cell_type": "markdown",
   "id": "eff6971e",
   "metadata": {},
   "source": [
    "We have now initilized our target column. Now, we have a column where True represents a day where the stock price did in fact increase over night, and false if otherwise. "
   ]
  },
  {
   "cell_type": "markdown",
   "id": "0967d7cb",
   "metadata": {},
   "source": [
    "We also want to avoid using data before 1990, as financial data may have shifted on an extreme level, and may therefore bias our model. "
   ]
  },
  {
   "cell_type": "code",
   "execution_count": 241,
   "id": "d10dcf36",
   "metadata": {},
   "outputs": [],
   "source": [
    "s_p500 = s_p500.loc[\"1990-01-01\":].copy()"
   ]
  },
  {
   "cell_type": "code",
   "execution_count": 254,
   "id": "a9eb7896",
   "metadata": {},
   "outputs": [
    {
     "data": {
      "text/html": [
       "<div>\n",
       "<style scoped>\n",
       "    .dataframe tbody tr th:only-of-type {\n",
       "        vertical-align: middle;\n",
       "    }\n",
       "\n",
       "    .dataframe tbody tr th {\n",
       "        vertical-align: top;\n",
       "    }\n",
       "\n",
       "    .dataframe thead th {\n",
       "        text-align: right;\n",
       "    }\n",
       "</style>\n",
       "<table border=\"1\" class=\"dataframe\">\n",
       "  <thead>\n",
       "    <tr style=\"text-align: right;\">\n",
       "      <th></th>\n",
       "      <th>Open</th>\n",
       "      <th>High</th>\n",
       "      <th>Low</th>\n",
       "      <th>Close</th>\n",
       "      <th>Volume</th>\n",
       "      <th>Tomorrow</th>\n",
       "      <th>Target</th>\n",
       "    </tr>\n",
       "    <tr>\n",
       "      <th>Date</th>\n",
       "      <th></th>\n",
       "      <th></th>\n",
       "      <th></th>\n",
       "      <th></th>\n",
       "      <th></th>\n",
       "      <th></th>\n",
       "      <th></th>\n",
       "    </tr>\n",
       "  </thead>\n",
       "  <tbody>\n",
       "    <tr>\n",
       "      <th>2024-07-08 00:00:00-04:00</th>\n",
       "      <td>5572.750000</td>\n",
       "      <td>5583.109863</td>\n",
       "      <td>5562.509766</td>\n",
       "      <td>5572.850098</td>\n",
       "      <td>3185670000</td>\n",
       "      <td>5576.979980</td>\n",
       "      <td>1</td>\n",
       "    </tr>\n",
       "    <tr>\n",
       "      <th>2024-07-09 00:00:00-04:00</th>\n",
       "      <td>5584.240234</td>\n",
       "      <td>5590.750000</td>\n",
       "      <td>5574.569824</td>\n",
       "      <td>5576.979980</td>\n",
       "      <td>3232920000</td>\n",
       "      <td>5633.910156</td>\n",
       "      <td>1</td>\n",
       "    </tr>\n",
       "    <tr>\n",
       "      <th>2024-07-10 00:00:00-04:00</th>\n",
       "      <td>5591.259766</td>\n",
       "      <td>5635.390137</td>\n",
       "      <td>5586.439941</td>\n",
       "      <td>5633.910156</td>\n",
       "      <td>3336100000</td>\n",
       "      <td>5584.540039</td>\n",
       "      <td>0</td>\n",
       "    </tr>\n",
       "    <tr>\n",
       "      <th>2024-07-11 00:00:00-04:00</th>\n",
       "      <td>5635.209961</td>\n",
       "      <td>5642.450195</td>\n",
       "      <td>5576.529785</td>\n",
       "      <td>5584.540039</td>\n",
       "      <td>4020950000</td>\n",
       "      <td>5615.350098</td>\n",
       "      <td>1</td>\n",
       "    </tr>\n",
       "    <tr>\n",
       "      <th>2024-07-12 00:00:00-04:00</th>\n",
       "      <td>5590.759766</td>\n",
       "      <td>5655.560059</td>\n",
       "      <td>5590.439941</td>\n",
       "      <td>5615.350098</td>\n",
       "      <td>3700280000</td>\n",
       "      <td>NaN</td>\n",
       "      <td>0</td>\n",
       "    </tr>\n",
       "  </tbody>\n",
       "</table>\n",
       "</div>"
      ],
      "text/plain": [
       "                                  Open         High          Low        Close  \\\n",
       "Date                                                                            \n",
       "2024-07-08 00:00:00-04:00  5572.750000  5583.109863  5562.509766  5572.850098   \n",
       "2024-07-09 00:00:00-04:00  5584.240234  5590.750000  5574.569824  5576.979980   \n",
       "2024-07-10 00:00:00-04:00  5591.259766  5635.390137  5586.439941  5633.910156   \n",
       "2024-07-11 00:00:00-04:00  5635.209961  5642.450195  5576.529785  5584.540039   \n",
       "2024-07-12 00:00:00-04:00  5590.759766  5655.560059  5590.439941  5615.350098   \n",
       "\n",
       "                               Volume     Tomorrow  Target  \n",
       "Date                                                        \n",
       "2024-07-08 00:00:00-04:00  3185670000  5576.979980       1  \n",
       "2024-07-09 00:00:00-04:00  3232920000  5633.910156       1  \n",
       "2024-07-10 00:00:00-04:00  3336100000  5584.540039       0  \n",
       "2024-07-11 00:00:00-04:00  4020950000  5615.350098       1  \n",
       "2024-07-12 00:00:00-04:00  3700280000          NaN       0  "
      ]
     },
     "execution_count": 254,
     "metadata": {},
     "output_type": "execute_result"
    }
   ],
   "source": [
    "s_p500.tail()"
   ]
  },
  {
   "cell_type": "markdown",
   "id": "f761161c",
   "metadata": {},
   "source": [
    "### Development and Assesment of the Predicition Model"
   ]
  },
  {
   "cell_type": "markdown",
   "id": "c2482b3e",
   "metadata": {},
   "source": [
    "To start, we will be using the Random Forest algorithm from SciKit Learn. Random Forest allows us to not only quickly make predictions due to its logarithmic runtime nature, but also allows us to make non-linear correlations such as the one in the dataset due to the multiple decision trees that are constructed during the training process.  "
   ]
  },
  {
   "cell_type": "markdown",
   "id": "587c6e29",
   "metadata": {},
   "source": [
    "Let us start by training our model"
   ]
  },
  {
   "cell_type": "code",
   "execution_count": 272,
   "id": "ed85cd72",
   "metadata": {},
   "outputs": [
    {
     "data": {
      "text/plain": [
       "RandomForestClassifier(min_samples_split=100, random_state=1)"
      ]
     },
     "execution_count": 272,
     "metadata": {},
     "output_type": "execute_result"
    }
   ],
   "source": [
    "# Chose n_estimators = 100 to have a large enough number of trees in the forest for robustness without excessive computation.\n",
    "# Chose min_samples_split = 100 to ensure each internal node has at least 100 samples before it can be split, aiming to control overfitting and promote generalization.\n",
    "# Chose random_state = 1 for reproducibility, ensuring the results are consistent across different runs of the model.\n",
    "model = RandomForestClassifier(n_estimators = 100, min_samples_split = 100, random_state = 1) \n",
    "\n",
    "#our training set will the rows that are not in the last 100 rows to train\n",
    "#our testing set will be the last 100 rows\n",
    "\n",
    "train = s_p500.iloc[:-100]\n",
    "test = s_p500.iloc[-100:]\n",
    "\n",
    "\n",
    "#We will exclude tomorrow in target in the prediction factors, as this will bias our data\n",
    "predictors = [\"Close\", \"Volume\", \"Open\", \"High\", \"Low\"]\n",
    "\n",
    "#We will train now using the predictors and the output as the target\n",
    "model.fit(train[predictors], train[\"Target\"])"
   ]
  },
  {
   "cell_type": "markdown",
   "id": "ae309336",
   "metadata": {},
   "source": [
    "\n",
    "Now, let us assess how this model did. We will use the precision score, and the SciKit Learn precision_score library can help us do this."
   ]
  },
  {
   "cell_type": "code",
   "execution_count": 273,
   "id": "4be66ff5",
   "metadata": {},
   "outputs": [],
   "source": [
    "preds = model.predict(test[predictors])"
   ]
  },
  {
   "cell_type": "code",
   "execution_count": 274,
   "id": "9398a475",
   "metadata": {},
   "outputs": [],
   "source": [
    "preds = pd.Series(preds, index=test.index)"
   ]
  },
  {
   "cell_type": "code",
   "execution_count": 275,
   "id": "bbc3b898",
   "metadata": {},
   "outputs": [
    {
     "data": {
      "text/plain": [
       "0.44"
      ]
     },
     "execution_count": 275,
     "metadata": {},
     "output_type": "execute_result"
    }
   ],
   "source": [
    "precision_score(test[\"Target\"], preds, average='micro')"
   ]
  },
  {
   "cell_type": "markdown",
   "id": "78f4c660",
   "metadata": {},
   "source": [
    "This is a terrible score, and it would actually be more advisable to trade against this algorithm than with it. "
   ]
  },
  {
   "cell_type": "markdown",
   "id": "594f624d",
   "metadata": {},
   "source": [
    "### Backtesting\n",
    "\n",
    "We want a way to test over multiple years of data, as 100 data points is not a solidified metric for testing a machine learning model of this nature \n",
    "\n",
    "To do this, we'll create a prediction function which wraps testing into one function"
   ]
  },
  {
   "cell_type": "code",
   "execution_count": 280,
   "id": "ba282f1c",
   "metadata": {},
   "outputs": [],
   "source": [
    "def predict(train, test, predictors, model):\n",
    "    model.fit(train[predictors], train[\"Target\"])\n",
    "    preds = model.predict(test[predictors])\n",
    "    preds = pd.Series(preds, index=test.index, name=\"Predictions\")\n",
    "    combined = pd.concat([test[\"Target\"], preds], axis=1)\n",
    "    return combined"
   ]
  },
  {
   "cell_type": "markdown",
   "id": "ae495e67",
   "metadata": {},
   "source": [
    "Then, we'll create a backtest function which takes in the S&P 500 data as well the model and the predictors, as well as a start and step value. The start value allows us to tell us how far back to go to train, and the step value tells us how far forward to step when testing.  "
   ]
  },
  {
   "cell_type": "code",
   "execution_count": 281,
   "id": "1f517689",
   "metadata": {},
   "outputs": [],
   "source": [
    "def backtest(data, model, predictors, start=2500, step=250):\n",
    "    all_predictions = []\n",
    "\n",
    "    for i in range(start, data.shape[0], step):\n",
    "        train = data.iloc[0:i].copy()\n",
    "        test = data.iloc[i:(i+step)].copy()\n",
    "        predictions = predict(train, test, predictors, model)\n",
    "        all_predictions.append(predictions)\n",
    "    \n",
    "    return pd.concat(all_predictions)"
   ]
  },
  {
   "cell_type": "code",
   "execution_count": 285,
   "id": "d2768f74",
   "metadata": {},
   "outputs": [],
   "source": [
    "predictions = backtest(s_p500, model, predictors)"
   ]
  },
  {
   "cell_type": "markdown",
   "id": "dbd23e4e",
   "metadata": {},
   "source": [
    "Let us see how many times the algorithm advised of a fall or rise in the market"
   ]
  },
  {
   "cell_type": "code",
   "execution_count": 286,
   "id": "b8b6dbc3",
   "metadata": {},
   "outputs": [
    {
     "data": {
      "text/plain": [
       "0    3602\n",
       "1    2596\n",
       "Name: Predictions, dtype: int64"
      ]
     },
     "execution_count": 286,
     "metadata": {},
     "output_type": "execute_result"
    }
   ],
   "source": [
    "predictions[\"Predictions\"].value_counts()"
   ]
  },
  {
   "cell_type": "code",
   "execution_count": 288,
   "id": "0d63405f",
   "metadata": {},
   "outputs": [
    {
     "data": {
      "text/plain": [
       "0.5288906009244992"
      ]
     },
     "execution_count": 288,
     "metadata": {},
     "output_type": "execute_result"
    }
   ],
   "source": [
    "precision_score(predictions[\"Target\"], predictions[\"Predictions\"])"
   ]
  },
  {
   "cell_type": "markdown",
   "id": "ebaa4162",
   "metadata": {},
   "source": [
    "This was an improvement, but still not very good. Now let us see the number of times the market actually went up"
   ]
  },
  {
   "cell_type": "code",
   "execution_count": 289,
   "id": "a56670f5",
   "metadata": {},
   "outputs": [
    {
     "data": {
      "text/plain": [
       "1    0.535495\n",
       "0    0.464505\n",
       "Name: Target, dtype: float64"
      ]
     },
     "execution_count": 289,
     "metadata": {},
     "output_type": "execute_result"
    }
   ],
   "source": [
    "predictions[\"Target\"].value_counts()/predictions.shape[0]"
   ]
  },
  {
   "cell_type": "markdown",
   "id": "2dd0c779",
   "metadata": {},
   "source": [
    "This is still a terrible measure, but now that we have a backtester, we have more confidence in our model and the ability to test it. "
   ]
  },
  {
   "cell_type": "markdown",
   "id": "35720d40",
   "metadata": {},
   "source": [
    "### Adding Predictors to Improve Accuracy"
   ]
  },
  {
   "cell_type": "markdown",
   "id": "6e329f90",
   "metadata": {},
   "source": [
    "To better create better predictions, we'll add extra metric for averages based on different days. So basically, average of last 2 days, 5 days, 60 days, 250, and 1000 days. We will also add a rolling sum for the number of times a stock price went up in the last X (where x is the given horizon) days"
   ]
  },
  {
   "cell_type": "code",
   "execution_count": 294,
   "id": "edfa2993",
   "metadata": {},
   "outputs": [],
   "source": [
    "horizons = [2,5,60,250,1000]\n",
    "new_predictors = []\n",
    "\n",
    "for horizon in horizons:\n",
    "    rolling_averages = s_p500.rolling(horizon).mean()\n",
    "    \n",
    "    #from here, we'll calculate a rolling average to better predict in our model\n",
    "    ratio_column = f\"Close_Ratio_{horizon}\"\n",
    "    s_p500[ratio_column] = s_p500[\"Close\"] / rolling_averages[\"Close\"]\n",
    "    \n",
    "    #trend is number of days in x days that stock price actually went up\n",
    "    trend_column = f\"Trend_{horizon}\"\n",
    "    s_p500[trend_column] = s_p500.shift(1).rolling(horizon).sum()[\"Target\"]\n",
    "    \n",
    "    new_predictors += [ratio_column, trend_column]"
   ]
  },
  {
   "cell_type": "code",
   "execution_count": 296,
   "id": "7de2fbba",
   "metadata": {
    "scrolled": true
   },
   "outputs": [
    {
     "data": {
      "text/html": [
       "<div>\n",
       "<style scoped>\n",
       "    .dataframe tbody tr th:only-of-type {\n",
       "        vertical-align: middle;\n",
       "    }\n",
       "\n",
       "    .dataframe tbody tr th {\n",
       "        vertical-align: top;\n",
       "    }\n",
       "\n",
       "    .dataframe thead th {\n",
       "        text-align: right;\n",
       "    }\n",
       "</style>\n",
       "<table border=\"1\" class=\"dataframe\">\n",
       "  <thead>\n",
       "    <tr style=\"text-align: right;\">\n",
       "      <th></th>\n",
       "      <th>Open</th>\n",
       "      <th>High</th>\n",
       "      <th>Low</th>\n",
       "      <th>Close</th>\n",
       "      <th>Volume</th>\n",
       "      <th>Tomorrow</th>\n",
       "      <th>Target</th>\n",
       "      <th>Close_Ratio_2</th>\n",
       "      <th>Trend_2</th>\n",
       "      <th>Close_Ratio_5</th>\n",
       "      <th>Trend_5</th>\n",
       "      <th>Close_Ratio_60</th>\n",
       "      <th>Trend_60</th>\n",
       "      <th>Close_Ratio_250</th>\n",
       "      <th>Trend_250</th>\n",
       "      <th>Close_Ratio_1000</th>\n",
       "      <th>Trend_1000</th>\n",
       "    </tr>\n",
       "    <tr>\n",
       "      <th>Date</th>\n",
       "      <th></th>\n",
       "      <th></th>\n",
       "      <th></th>\n",
       "      <th></th>\n",
       "      <th></th>\n",
       "      <th></th>\n",
       "      <th></th>\n",
       "      <th></th>\n",
       "      <th></th>\n",
       "      <th></th>\n",
       "      <th></th>\n",
       "      <th></th>\n",
       "      <th></th>\n",
       "      <th></th>\n",
       "      <th></th>\n",
       "      <th></th>\n",
       "      <th></th>\n",
       "    </tr>\n",
       "  </thead>\n",
       "  <tbody>\n",
       "    <tr>\n",
       "      <th>1990-01-02 00:00:00-05:00</th>\n",
       "      <td>353.399994</td>\n",
       "      <td>359.690002</td>\n",
       "      <td>351.980011</td>\n",
       "      <td>359.690002</td>\n",
       "      <td>162070000</td>\n",
       "      <td>358.760010</td>\n",
       "      <td>0</td>\n",
       "      <td>NaN</td>\n",
       "      <td>NaN</td>\n",
       "      <td>NaN</td>\n",
       "      <td>NaN</td>\n",
       "      <td>NaN</td>\n",
       "      <td>NaN</td>\n",
       "      <td>NaN</td>\n",
       "      <td>NaN</td>\n",
       "      <td>NaN</td>\n",
       "      <td>NaN</td>\n",
       "    </tr>\n",
       "    <tr>\n",
       "      <th>1990-01-03 00:00:00-05:00</th>\n",
       "      <td>359.690002</td>\n",
       "      <td>360.589996</td>\n",
       "      <td>357.890015</td>\n",
       "      <td>358.760010</td>\n",
       "      <td>192330000</td>\n",
       "      <td>355.670013</td>\n",
       "      <td>0</td>\n",
       "      <td>0.998706</td>\n",
       "      <td>NaN</td>\n",
       "      <td>NaN</td>\n",
       "      <td>NaN</td>\n",
       "      <td>NaN</td>\n",
       "      <td>NaN</td>\n",
       "      <td>NaN</td>\n",
       "      <td>NaN</td>\n",
       "      <td>NaN</td>\n",
       "      <td>NaN</td>\n",
       "    </tr>\n",
       "    <tr>\n",
       "      <th>1990-01-04 00:00:00-05:00</th>\n",
       "      <td>358.760010</td>\n",
       "      <td>358.760010</td>\n",
       "      <td>352.890015</td>\n",
       "      <td>355.670013</td>\n",
       "      <td>177000000</td>\n",
       "      <td>352.200012</td>\n",
       "      <td>0</td>\n",
       "      <td>0.995675</td>\n",
       "      <td>0.0</td>\n",
       "      <td>NaN</td>\n",
       "      <td>NaN</td>\n",
       "      <td>NaN</td>\n",
       "      <td>NaN</td>\n",
       "      <td>NaN</td>\n",
       "      <td>NaN</td>\n",
       "      <td>NaN</td>\n",
       "      <td>NaN</td>\n",
       "    </tr>\n",
       "    <tr>\n",
       "      <th>1990-01-05 00:00:00-05:00</th>\n",
       "      <td>355.670013</td>\n",
       "      <td>355.670013</td>\n",
       "      <td>351.350006</td>\n",
       "      <td>352.200012</td>\n",
       "      <td>158530000</td>\n",
       "      <td>353.790009</td>\n",
       "      <td>1</td>\n",
       "      <td>0.995098</td>\n",
       "      <td>0.0</td>\n",
       "      <td>NaN</td>\n",
       "      <td>NaN</td>\n",
       "      <td>NaN</td>\n",
       "      <td>NaN</td>\n",
       "      <td>NaN</td>\n",
       "      <td>NaN</td>\n",
       "      <td>NaN</td>\n",
       "      <td>NaN</td>\n",
       "    </tr>\n",
       "    <tr>\n",
       "      <th>1990-01-08 00:00:00-05:00</th>\n",
       "      <td>352.200012</td>\n",
       "      <td>354.239990</td>\n",
       "      <td>350.540009</td>\n",
       "      <td>353.790009</td>\n",
       "      <td>140110000</td>\n",
       "      <td>349.619995</td>\n",
       "      <td>0</td>\n",
       "      <td>1.002252</td>\n",
       "      <td>1.0</td>\n",
       "      <td>0.993731</td>\n",
       "      <td>NaN</td>\n",
       "      <td>NaN</td>\n",
       "      <td>NaN</td>\n",
       "      <td>NaN</td>\n",
       "      <td>NaN</td>\n",
       "      <td>NaN</td>\n",
       "      <td>NaN</td>\n",
       "    </tr>\n",
       "  </tbody>\n",
       "</table>\n",
       "</div>"
      ],
      "text/plain": [
       "                                 Open        High         Low       Close  \\\n",
       "Date                                                                        \n",
       "1990-01-02 00:00:00-05:00  353.399994  359.690002  351.980011  359.690002   \n",
       "1990-01-03 00:00:00-05:00  359.690002  360.589996  357.890015  358.760010   \n",
       "1990-01-04 00:00:00-05:00  358.760010  358.760010  352.890015  355.670013   \n",
       "1990-01-05 00:00:00-05:00  355.670013  355.670013  351.350006  352.200012   \n",
       "1990-01-08 00:00:00-05:00  352.200012  354.239990  350.540009  353.790009   \n",
       "\n",
       "                              Volume    Tomorrow  Target  Close_Ratio_2  \\\n",
       "Date                                                                      \n",
       "1990-01-02 00:00:00-05:00  162070000  358.760010       0            NaN   \n",
       "1990-01-03 00:00:00-05:00  192330000  355.670013       0       0.998706   \n",
       "1990-01-04 00:00:00-05:00  177000000  352.200012       0       0.995675   \n",
       "1990-01-05 00:00:00-05:00  158530000  353.790009       1       0.995098   \n",
       "1990-01-08 00:00:00-05:00  140110000  349.619995       0       1.002252   \n",
       "\n",
       "                           Trend_2  Close_Ratio_5  Trend_5  Close_Ratio_60  \\\n",
       "Date                                                                         \n",
       "1990-01-02 00:00:00-05:00      NaN            NaN      NaN             NaN   \n",
       "1990-01-03 00:00:00-05:00      NaN            NaN      NaN             NaN   \n",
       "1990-01-04 00:00:00-05:00      0.0            NaN      NaN             NaN   \n",
       "1990-01-05 00:00:00-05:00      0.0            NaN      NaN             NaN   \n",
       "1990-01-08 00:00:00-05:00      1.0       0.993731      NaN             NaN   \n",
       "\n",
       "                           Trend_60  Close_Ratio_250  Trend_250  \\\n",
       "Date                                                              \n",
       "1990-01-02 00:00:00-05:00       NaN              NaN        NaN   \n",
       "1990-01-03 00:00:00-05:00       NaN              NaN        NaN   \n",
       "1990-01-04 00:00:00-05:00       NaN              NaN        NaN   \n",
       "1990-01-05 00:00:00-05:00       NaN              NaN        NaN   \n",
       "1990-01-08 00:00:00-05:00       NaN              NaN        NaN   \n",
       "\n",
       "                           Close_Ratio_1000  Trend_1000  \n",
       "Date                                                     \n",
       "1990-01-02 00:00:00-05:00               NaN         NaN  \n",
       "1990-01-03 00:00:00-05:00               NaN         NaN  \n",
       "1990-01-04 00:00:00-05:00               NaN         NaN  \n",
       "1990-01-05 00:00:00-05:00               NaN         NaN  \n",
       "1990-01-08 00:00:00-05:00               NaN         NaN  "
      ]
     },
     "execution_count": 296,
     "metadata": {},
     "output_type": "execute_result"
    }
   ],
   "source": [
    "s_p500.head()"
   ]
  },
  {
   "cell_type": "markdown",
   "id": "0666c9a3",
   "metadata": {},
   "source": [
    "There are some days where there are no previous days to calculate these rolling metrics, which is what these NAN values are. We'll drop these to avoid contamininating the data. "
   ]
  },
  {
   "cell_type": "code",
   "execution_count": 297,
   "id": "8cbaa70e",
   "metadata": {},
   "outputs": [],
   "source": [
    "s_p500 = s_p500.dropna()"
   ]
  },
  {
   "cell_type": "code",
   "execution_count": 298,
   "id": "4c896efa",
   "metadata": {
    "scrolled": true
   },
   "outputs": [
    {
     "data": {
      "text/html": [
       "<div>\n",
       "<style scoped>\n",
       "    .dataframe tbody tr th:only-of-type {\n",
       "        vertical-align: middle;\n",
       "    }\n",
       "\n",
       "    .dataframe tbody tr th {\n",
       "        vertical-align: top;\n",
       "    }\n",
       "\n",
       "    .dataframe thead th {\n",
       "        text-align: right;\n",
       "    }\n",
       "</style>\n",
       "<table border=\"1\" class=\"dataframe\">\n",
       "  <thead>\n",
       "    <tr style=\"text-align: right;\">\n",
       "      <th></th>\n",
       "      <th>Open</th>\n",
       "      <th>High</th>\n",
       "      <th>Low</th>\n",
       "      <th>Close</th>\n",
       "      <th>Volume</th>\n",
       "      <th>Tomorrow</th>\n",
       "      <th>Target</th>\n",
       "      <th>Close_Ratio_2</th>\n",
       "      <th>Trend_2</th>\n",
       "      <th>Close_Ratio_5</th>\n",
       "      <th>Trend_5</th>\n",
       "      <th>Close_Ratio_60</th>\n",
       "      <th>Trend_60</th>\n",
       "      <th>Close_Ratio_250</th>\n",
       "      <th>Trend_250</th>\n",
       "      <th>Close_Ratio_1000</th>\n",
       "      <th>Trend_1000</th>\n",
       "    </tr>\n",
       "    <tr>\n",
       "      <th>Date</th>\n",
       "      <th></th>\n",
       "      <th></th>\n",
       "      <th></th>\n",
       "      <th></th>\n",
       "      <th></th>\n",
       "      <th></th>\n",
       "      <th></th>\n",
       "      <th></th>\n",
       "      <th></th>\n",
       "      <th></th>\n",
       "      <th></th>\n",
       "      <th></th>\n",
       "      <th></th>\n",
       "      <th></th>\n",
       "      <th></th>\n",
       "      <th></th>\n",
       "      <th></th>\n",
       "    </tr>\n",
       "  </thead>\n",
       "  <tbody>\n",
       "    <tr>\n",
       "      <th>1993-12-14 00:00:00-05:00</th>\n",
       "      <td>465.730011</td>\n",
       "      <td>466.119995</td>\n",
       "      <td>462.459991</td>\n",
       "      <td>463.059998</td>\n",
       "      <td>275050000</td>\n",
       "      <td>461.839996</td>\n",
       "      <td>0</td>\n",
       "      <td>0.997157</td>\n",
       "      <td>1.0</td>\n",
       "      <td>0.996617</td>\n",
       "      <td>1.0</td>\n",
       "      <td>1.000283</td>\n",
       "      <td>32.0</td>\n",
       "      <td>1.028047</td>\n",
       "      <td>127.0</td>\n",
       "      <td>1.176082</td>\n",
       "      <td>512.0</td>\n",
       "    </tr>\n",
       "    <tr>\n",
       "      <th>1993-12-15 00:00:00-05:00</th>\n",
       "      <td>463.059998</td>\n",
       "      <td>463.690002</td>\n",
       "      <td>461.839996</td>\n",
       "      <td>461.839996</td>\n",
       "      <td>331770000</td>\n",
       "      <td>463.339996</td>\n",
       "      <td>1</td>\n",
       "      <td>0.998681</td>\n",
       "      <td>0.0</td>\n",
       "      <td>0.995899</td>\n",
       "      <td>1.0</td>\n",
       "      <td>0.997329</td>\n",
       "      <td>32.0</td>\n",
       "      <td>1.025151</td>\n",
       "      <td>126.0</td>\n",
       "      <td>1.172676</td>\n",
       "      <td>512.0</td>\n",
       "    </tr>\n",
       "    <tr>\n",
       "      <th>1993-12-16 00:00:00-05:00</th>\n",
       "      <td>461.859985</td>\n",
       "      <td>463.980011</td>\n",
       "      <td>461.859985</td>\n",
       "      <td>463.339996</td>\n",
       "      <td>284620000</td>\n",
       "      <td>466.380005</td>\n",
       "      <td>1</td>\n",
       "      <td>1.001621</td>\n",
       "      <td>1.0</td>\n",
       "      <td>0.999495</td>\n",
       "      <td>2.0</td>\n",
       "      <td>1.000311</td>\n",
       "      <td>32.0</td>\n",
       "      <td>1.028274</td>\n",
       "      <td>127.0</td>\n",
       "      <td>1.176163</td>\n",
       "      <td>513.0</td>\n",
       "    </tr>\n",
       "    <tr>\n",
       "      <th>1993-12-17 00:00:00-05:00</th>\n",
       "      <td>463.339996</td>\n",
       "      <td>466.380005</td>\n",
       "      <td>463.339996</td>\n",
       "      <td>466.380005</td>\n",
       "      <td>363750000</td>\n",
       "      <td>465.850006</td>\n",
       "      <td>0</td>\n",
       "      <td>1.003270</td>\n",
       "      <td>2.0</td>\n",
       "      <td>1.004991</td>\n",
       "      <td>3.0</td>\n",
       "      <td>1.006561</td>\n",
       "      <td>32.0</td>\n",
       "      <td>1.034781</td>\n",
       "      <td>128.0</td>\n",
       "      <td>1.183537</td>\n",
       "      <td>514.0</td>\n",
       "    </tr>\n",
       "    <tr>\n",
       "      <th>1993-12-20 00:00:00-05:00</th>\n",
       "      <td>466.380005</td>\n",
       "      <td>466.899994</td>\n",
       "      <td>465.529999</td>\n",
       "      <td>465.850006</td>\n",
       "      <td>255900000</td>\n",
       "      <td>465.299988</td>\n",
       "      <td>0</td>\n",
       "      <td>0.999431</td>\n",
       "      <td>1.0</td>\n",
       "      <td>1.003784</td>\n",
       "      <td>2.0</td>\n",
       "      <td>1.005120</td>\n",
       "      <td>32.0</td>\n",
       "      <td>1.033359</td>\n",
       "      <td>128.0</td>\n",
       "      <td>1.181856</td>\n",
       "      <td>513.0</td>\n",
       "    </tr>\n",
       "  </tbody>\n",
       "</table>\n",
       "</div>"
      ],
      "text/plain": [
       "                                 Open        High         Low       Close  \\\n",
       "Date                                                                        \n",
       "1993-12-14 00:00:00-05:00  465.730011  466.119995  462.459991  463.059998   \n",
       "1993-12-15 00:00:00-05:00  463.059998  463.690002  461.839996  461.839996   \n",
       "1993-12-16 00:00:00-05:00  461.859985  463.980011  461.859985  463.339996   \n",
       "1993-12-17 00:00:00-05:00  463.339996  466.380005  463.339996  466.380005   \n",
       "1993-12-20 00:00:00-05:00  466.380005  466.899994  465.529999  465.850006   \n",
       "\n",
       "                              Volume    Tomorrow  Target  Close_Ratio_2  \\\n",
       "Date                                                                      \n",
       "1993-12-14 00:00:00-05:00  275050000  461.839996       0       0.997157   \n",
       "1993-12-15 00:00:00-05:00  331770000  463.339996       1       0.998681   \n",
       "1993-12-16 00:00:00-05:00  284620000  466.380005       1       1.001621   \n",
       "1993-12-17 00:00:00-05:00  363750000  465.850006       0       1.003270   \n",
       "1993-12-20 00:00:00-05:00  255900000  465.299988       0       0.999431   \n",
       "\n",
       "                           Trend_2  Close_Ratio_5  Trend_5  Close_Ratio_60  \\\n",
       "Date                                                                         \n",
       "1993-12-14 00:00:00-05:00      1.0       0.996617      1.0        1.000283   \n",
       "1993-12-15 00:00:00-05:00      0.0       0.995899      1.0        0.997329   \n",
       "1993-12-16 00:00:00-05:00      1.0       0.999495      2.0        1.000311   \n",
       "1993-12-17 00:00:00-05:00      2.0       1.004991      3.0        1.006561   \n",
       "1993-12-20 00:00:00-05:00      1.0       1.003784      2.0        1.005120   \n",
       "\n",
       "                           Trend_60  Close_Ratio_250  Trend_250  \\\n",
       "Date                                                              \n",
       "1993-12-14 00:00:00-05:00      32.0         1.028047      127.0   \n",
       "1993-12-15 00:00:00-05:00      32.0         1.025151      126.0   \n",
       "1993-12-16 00:00:00-05:00      32.0         1.028274      127.0   \n",
       "1993-12-17 00:00:00-05:00      32.0         1.034781      128.0   \n",
       "1993-12-20 00:00:00-05:00      32.0         1.033359      128.0   \n",
       "\n",
       "                           Close_Ratio_1000  Trend_1000  \n",
       "Date                                                     \n",
       "1993-12-14 00:00:00-05:00          1.176082       512.0  \n",
       "1993-12-15 00:00:00-05:00          1.172676       512.0  \n",
       "1993-12-16 00:00:00-05:00          1.176163       513.0  \n",
       "1993-12-17 00:00:00-05:00          1.183537       514.0  \n",
       "1993-12-20 00:00:00-05:00          1.181856       513.0  "
      ]
     },
     "execution_count": 298,
     "metadata": {},
     "output_type": "execute_result"
    }
   ],
   "source": [
    "s_p500.head()"
   ]
  },
  {
   "cell_type": "markdown",
   "id": "cc871465",
   "metadata": {},
   "source": [
    "We start now at 1993 since the metrics require at least two years of data. "
   ]
  },
  {
   "cell_type": "markdown",
   "id": "55fdd9c3",
   "metadata": {},
   "source": [
    "### Reattempting Training on New Data"
   ]
  },
  {
   "cell_type": "markdown",
   "id": "56b1dfa5",
   "metadata": {},
   "source": [
    "Let us first adjust the hyperparamters on the Random Forest Algorithm"
   ]
  },
  {
   "cell_type": "code",
   "execution_count": 299,
   "id": "b2b5ab9a",
   "metadata": {},
   "outputs": [],
   "source": [
    "#I decided to increase the number of estimators, but reduce the number of sample splits \n",
    "model = RandomForestClassifier(n_estimators = 200, min_samples_split = 50, random_state = 1) "
   ]
  },
  {
   "cell_type": "code",
   "execution_count": 300,
   "id": "5b7b0b7e",
   "metadata": {},
   "outputs": [],
   "source": [
    "#I also want to return a better metric of probability instead of a yes or no\n",
    "def predict(train, test, predictors, model):\n",
    "    model.fit(train[predictors], train[\"Target\"])\n",
    "    preds = model.predict_proba(test[predictors])[:,1]\n",
    "    #I am also increasing the tolerance to 0.6. Basically reduce the number of trades and reduce risk through overfitting\n",
    "    preds[preds >= .6] = 1\n",
    "    preds[preds <= .6] = 0\n",
    "    preds = pd.Series(preds, index=test.index, name=\"Predictions\")\n",
    "    combined = pd.concat([test[\"Target\"], preds], axis=1)\n",
    "    return combined"
   ]
  },
  {
   "cell_type": "code",
   "execution_count": 301,
   "id": "74aec7c5",
   "metadata": {},
   "outputs": [],
   "source": [
    "predictions = backtest(s_p500, model, new_predictors)"
   ]
  },
  {
   "cell_type": "markdown",
   "id": "303c530e",
   "metadata": {},
   "source": [
    "Let us see the value counts for these predictions now"
   ]
  },
  {
   "cell_type": "code",
   "execution_count": 302,
   "id": "d5273efc",
   "metadata": {},
   "outputs": [
    {
     "data": {
      "text/plain": [
       "0.0    4359\n",
       "1.0     838\n",
       "Name: Predictions, dtype: int64"
      ]
     },
     "execution_count": 302,
     "metadata": {},
     "output_type": "execute_result"
    }
   ],
   "source": [
    "predictions[\"Predictions\"].value_counts()"
   ]
  },
  {
   "cell_type": "markdown",
   "id": "10097c72",
   "metadata": {},
   "source": [
    "The algorithm is much more careful now, predicting that more days are considered to be days that the market will fall. This is likely due to the 0.6 tolerance that we have put in place, thus inducing more strictness into what is a good market day. "
   ]
  },
  {
   "cell_type": "code",
   "execution_count": 303,
   "id": "45c13847",
   "metadata": {},
   "outputs": [
    {
     "data": {
      "text/plain": [
       "0.5751789976133651"
      ]
     },
     "execution_count": 303,
     "metadata": {},
     "output_type": "execute_result"
    }
   ],
   "source": [
    "precision_score(predictions[\"Target\"], predictions[\"Predictions\"])"
   ]
  },
  {
   "cell_type": "markdown",
   "id": "33a17444",
   "metadata": {},
   "source": [
    "This means that 57% of the time, you would be correct to use this algorithm in purchasing a stock. In theory, this would actually provide a profit."
   ]
  },
  {
   "cell_type": "markdown",
   "id": "c877b898",
   "metadata": {},
   "source": [
    "### Summary"
   ]
  },
  {
   "cell_type": "markdown",
   "id": "a3b23634",
   "metadata": {},
   "source": [
    "<ul>\n",
    "    <li><b>Cleaning and Analysis</b>: Cleaned the data, formatted it and analysed it as well</li>\n",
    "    <li><b>Initial Testing</b>: Utilized the random forest algorithm. Proved to be 44% accurate.</li>\n",
    "    <li><b>Back Testing</b>: Added a backtesting feature to test on longer periods of data</li>\n",
    "    <li><b>Added Additional Predictions</b>: Added rolling averages and sums to improve the accuracy of the data</li>\n",
    "    <li><b>Final Result</b>: 13% increase in accuracy, and on average will return a profit if used to determine when to buy or sell based on this algorithm alone</li>\n",
    "</ul>"
   ]
  }
 ],
 "metadata": {
  "kernelspec": {
   "display_name": "Python 3 (ipykernel)",
   "language": "python",
   "name": "python3"
  },
  "language_info": {
   "codemirror_mode": {
    "name": "ipython",
    "version": 3
   },
   "file_extension": ".py",
   "mimetype": "text/x-python",
   "name": "python",
   "nbconvert_exporter": "python",
   "pygments_lexer": "ipython3",
   "version": "3.9.13"
  }
 },
 "nbformat": 4,
 "nbformat_minor": 5
}
