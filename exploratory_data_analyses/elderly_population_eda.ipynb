{
  "nbformat": 4,
  "nbformat_minor": 0,
  "metadata": {
    "colab": {
      "provenance": [],
      "authorship_tag": "ABX9TyMBLu7pQ4NqXDdbAUzYKjDh",
      "include_colab_link": true
    },
    "kernelspec": {
      "name": "python3",
      "display_name": "Python 3"
    },
    "language_info": {
      "name": "python"
    }
  },
  "cells": [
    {
      "cell_type": "markdown",
      "metadata": {
        "id": "view-in-github",
        "colab_type": "text"
      },
      "source": [
        "<a href=\"https://colab.research.google.com/github/dvrachakonda/dhruv_varahavenkatasai_rachakondas_projects/blob/main/exploratory_data_analyses/elderly_population_eda.ipynb\" target=\"_parent\"><img src=\"https://colab.research.google.com/assets/colab-badge.svg\" alt=\"Open In Colab\"/></a>"
      ]
    },
    {
      "cell_type": "markdown",
      "source": [
        "#Module Assignment 04 - Analysing the Effect of an Aging Population on Living Costs\n",
        "\n",
        "By Dhruv Rachakonda <p>\n",
        "u1244018\n",
        "\n"
      ],
      "metadata": {
        "id": "gtCEFKTaojcP"
      }
    },
    {
      "cell_type": "markdown",
      "source": [
        "#Introduction\n",
        "\n",
        "The purpose of this expoloratory data analysis is to determine if there is a relationship between the majority age of a country's population, and the cost of living in the country. Id est, is a country more like to have an increase, decrease, or no effect as its population age increases or decreases. As such, I have chosen the following question: **Is there a relationship between the majority age of a given country and its cost of living?** In other words, are certain age groups also impacting living costs?\n",
        "\n",
        "Let us start off by importing the neccesary libraries to conduct the test."
      ],
      "metadata": {
        "id": "Ce6GOEUypEub"
      }
    },
    {
      "cell_type": "code",
      "source": [
        "%matplotlib inline\n",
        "import matplotlib.pyplot as plt\n",
        "import seaborn as sb\n",
        "\n",
        "import numpy as np\n",
        "import pandas as pd\n",
        "\n",
        "import json"
      ],
      "metadata": {
        "id": "0jxTNK_mtxLz"
      },
      "execution_count": null,
      "outputs": []
    },
    {
      "cell_type": "markdown",
      "source": [
        "#Reading in Data\n",
        "\n",
        "We will be using two data sets here: The age structure of each country and various cost of living indexes for each country. The age structure is just percentages of people between ages 0-14, 15-65, and 65+ while the living index set is just an index rating of cost of living for each country, with categories such as average rent cost, grocery cost, and an overall cost section.\n",
        "\n",
        "This is just some code to allow me to use a CSV file uploaded on google drive. It provides a security clearance to allow us to download that file"
      ],
      "metadata": {
        "id": "PbeZkyr2vRkq"
      }
    },
    {
      "cell_type": "code",
      "source": [
        "import pandas as pd\n",
        "!pip install -U -q PyDrive\n",
        "from pydrive.auth import GoogleAuth\n",
        "from pydrive.drive import GoogleDrive\n",
        "from google.colab import auth\n",
        "from oauth2client.client import GoogleCredentials\n",
        "# Authenticate and create the PyDrive client.\n",
        "auth.authenticate_user()\n",
        "gauth = GoogleAuth()\n",
        "gauth.credentials = GoogleCredentials.get_application_default()\n",
        "drive = GoogleDrive(gauth)\n",
        "link = 'https://drive.google.com/file/d/1XyZeS3Ob4jitafcmBV3RIfLFqB7ZBiQL/view' # The shareable link\n",
        "id = '1XyZeS3Ob4jitafcmBV3RIfLFqB7ZBiQL' # After the /d/ and before the /view?\n",
        "downloaded = drive.CreateFile({'id':id})\n",
        "downloaded.GetContentFile('Cost of living index by country 2020.csv')  # Put the name of the file here\n",
        "cost_df = pd.read_csv('Cost of living index by country 2020.csv') # and here\n"
      ],
      "metadata": {
        "id": "6CLqzUS4wY3r"
      },
      "execution_count": null,
      "outputs": []
    },
    {
      "cell_type": "code",
      "source": [
        "cost_df.head()"
      ],
      "metadata": {
        "colab": {
          "base_uri": "https://localhost:8080/",
          "height": 206
        },
        "id": "t-4C6qCGBPg_",
        "outputId": "035e0419-decb-4f5b-ae12-0acaa9db6878"
      },
      "execution_count": null,
      "outputs": [
        {
          "output_type": "execute_result",
          "data": {
            "text/plain": [
              "       Country  Cost of Living Index  Rent Index  \\\n",
              "0  Switzerland                122.40       50.25   \n",
              "1       Norway                101.43       36.15   \n",
              "2      Iceland                100.48       46.95   \n",
              "3        Japan                 83.35       25.97   \n",
              "4      Denmark                 83.00       31.92   \n",
              "\n",
              "   Cost of Living Plus Rent Index  Groceries Index  Restaurant Price Index  \\\n",
              "0                           87.89           120.27                  123.01   \n",
              "1                           70.21            91.14                  109.28   \n",
              "2                           74.88            86.89                  113.74   \n",
              "3                           55.90            81.82                   48.95   \n",
              "4                           58.57            61.74                  100.75   \n",
              "\n",
              "   Local Purchasing Power Index  \n",
              "0                        119.53  \n",
              "1                         88.38  \n",
              "2                         79.44  \n",
              "3                         87.28  \n",
              "4                        100.88  "
            ],
            "text/html": [
              "\n",
              "  <div id=\"df-a57dc4c4-6d34-4a23-85ee-37eceeb3403e\">\n",
              "    <div class=\"colab-df-container\">\n",
              "      <div>\n",
              "<style scoped>\n",
              "    .dataframe tbody tr th:only-of-type {\n",
              "        vertical-align: middle;\n",
              "    }\n",
              "\n",
              "    .dataframe tbody tr th {\n",
              "        vertical-align: top;\n",
              "    }\n",
              "\n",
              "    .dataframe thead th {\n",
              "        text-align: right;\n",
              "    }\n",
              "</style>\n",
              "<table border=\"1\" class=\"dataframe\">\n",
              "  <thead>\n",
              "    <tr style=\"text-align: right;\">\n",
              "      <th></th>\n",
              "      <th>Country</th>\n",
              "      <th>Cost of Living Index</th>\n",
              "      <th>Rent Index</th>\n",
              "      <th>Cost of Living Plus Rent Index</th>\n",
              "      <th>Groceries Index</th>\n",
              "      <th>Restaurant Price Index</th>\n",
              "      <th>Local Purchasing Power Index</th>\n",
              "    </tr>\n",
              "  </thead>\n",
              "  <tbody>\n",
              "    <tr>\n",
              "      <th>0</th>\n",
              "      <td>Switzerland</td>\n",
              "      <td>122.40</td>\n",
              "      <td>50.25</td>\n",
              "      <td>87.89</td>\n",
              "      <td>120.27</td>\n",
              "      <td>123.01</td>\n",
              "      <td>119.53</td>\n",
              "    </tr>\n",
              "    <tr>\n",
              "      <th>1</th>\n",
              "      <td>Norway</td>\n",
              "      <td>101.43</td>\n",
              "      <td>36.15</td>\n",
              "      <td>70.21</td>\n",
              "      <td>91.14</td>\n",
              "      <td>109.28</td>\n",
              "      <td>88.38</td>\n",
              "    </tr>\n",
              "    <tr>\n",
              "      <th>2</th>\n",
              "      <td>Iceland</td>\n",
              "      <td>100.48</td>\n",
              "      <td>46.95</td>\n",
              "      <td>74.88</td>\n",
              "      <td>86.89</td>\n",
              "      <td>113.74</td>\n",
              "      <td>79.44</td>\n",
              "    </tr>\n",
              "    <tr>\n",
              "      <th>3</th>\n",
              "      <td>Japan</td>\n",
              "      <td>83.35</td>\n",
              "      <td>25.97</td>\n",
              "      <td>55.90</td>\n",
              "      <td>81.82</td>\n",
              "      <td>48.95</td>\n",
              "      <td>87.28</td>\n",
              "    </tr>\n",
              "    <tr>\n",
              "      <th>4</th>\n",
              "      <td>Denmark</td>\n",
              "      <td>83.00</td>\n",
              "      <td>31.92</td>\n",
              "      <td>58.57</td>\n",
              "      <td>61.74</td>\n",
              "      <td>100.75</td>\n",
              "      <td>100.88</td>\n",
              "    </tr>\n",
              "  </tbody>\n",
              "</table>\n",
              "</div>\n",
              "      <button class=\"colab-df-convert\" onclick=\"convertToInteractive('df-a57dc4c4-6d34-4a23-85ee-37eceeb3403e')\"\n",
              "              title=\"Convert this dataframe to an interactive table.\"\n",
              "              style=\"display:none;\">\n",
              "        \n",
              "  <svg xmlns=\"http://www.w3.org/2000/svg\" height=\"24px\"viewBox=\"0 0 24 24\"\n",
              "       width=\"24px\">\n",
              "    <path d=\"M0 0h24v24H0V0z\" fill=\"none\"/>\n",
              "    <path d=\"M18.56 5.44l.94 2.06.94-2.06 2.06-.94-2.06-.94-.94-2.06-.94 2.06-2.06.94zm-11 1L8.5 8.5l.94-2.06 2.06-.94-2.06-.94L8.5 2.5l-.94 2.06-2.06.94zm10 10l.94 2.06.94-2.06 2.06-.94-2.06-.94-.94-2.06-.94 2.06-2.06.94z\"/><path d=\"M17.41 7.96l-1.37-1.37c-.4-.4-.92-.59-1.43-.59-.52 0-1.04.2-1.43.59L10.3 9.45l-7.72 7.72c-.78.78-.78 2.05 0 2.83L4 21.41c.39.39.9.59 1.41.59.51 0 1.02-.2 1.41-.59l7.78-7.78 2.81-2.81c.8-.78.8-2.07 0-2.86zM5.41 20L4 18.59l7.72-7.72 1.47 1.35L5.41 20z\"/>\n",
              "  </svg>\n",
              "      </button>\n",
              "      \n",
              "  <style>\n",
              "    .colab-df-container {\n",
              "      display:flex;\n",
              "      flex-wrap:wrap;\n",
              "      gap: 12px;\n",
              "    }\n",
              "\n",
              "    .colab-df-convert {\n",
              "      background-color: #E8F0FE;\n",
              "      border: none;\n",
              "      border-radius: 50%;\n",
              "      cursor: pointer;\n",
              "      display: none;\n",
              "      fill: #1967D2;\n",
              "      height: 32px;\n",
              "      padding: 0 0 0 0;\n",
              "      width: 32px;\n",
              "    }\n",
              "\n",
              "    .colab-df-convert:hover {\n",
              "      background-color: #E2EBFA;\n",
              "      box-shadow: 0px 1px 2px rgba(60, 64, 67, 0.3), 0px 1px 3px 1px rgba(60, 64, 67, 0.15);\n",
              "      fill: #174EA6;\n",
              "    }\n",
              "\n",
              "    [theme=dark] .colab-df-convert {\n",
              "      background-color: #3B4455;\n",
              "      fill: #D2E3FC;\n",
              "    }\n",
              "\n",
              "    [theme=dark] .colab-df-convert:hover {\n",
              "      background-color: #434B5C;\n",
              "      box-shadow: 0px 1px 3px 1px rgba(0, 0, 0, 0.15);\n",
              "      filter: drop-shadow(0px 1px 2px rgba(0, 0, 0, 0.3));\n",
              "      fill: #FFFFFF;\n",
              "    }\n",
              "  </style>\n",
              "\n",
              "      <script>\n",
              "        const buttonEl =\n",
              "          document.querySelector('#df-a57dc4c4-6d34-4a23-85ee-37eceeb3403e button.colab-df-convert');\n",
              "        buttonEl.style.display =\n",
              "          google.colab.kernel.accessAllowed ? 'block' : 'none';\n",
              "\n",
              "        async function convertToInteractive(key) {\n",
              "          const element = document.querySelector('#df-a57dc4c4-6d34-4a23-85ee-37eceeb3403e');\n",
              "          const dataTable =\n",
              "            await google.colab.kernel.invokeFunction('convertToInteractive',\n",
              "                                                     [key], {});\n",
              "          if (!dataTable) return;\n",
              "\n",
              "          const docLinkHtml = 'Like what you see? Visit the ' +\n",
              "            '<a target=\"_blank\" href=https://colab.research.google.com/notebooks/data_table.ipynb>data table notebook</a>'\n",
              "            + ' to learn more about interactive tables.';\n",
              "          element.innerHTML = '';\n",
              "          dataTable['output_type'] = 'display_data';\n",
              "          await google.colab.output.renderOutput(dataTable, element);\n",
              "          const docLink = document.createElement('div');\n",
              "          docLink.innerHTML = docLinkHtml;\n",
              "          element.appendChild(docLink);\n",
              "        }\n",
              "      </script>\n",
              "    </div>\n",
              "  </div>\n",
              "  "
            ]
          },
          "metadata": {},
          "execution_count": 7
        }
      ]
    },
    {
      "cell_type": "code",
      "source": [
        "cost_df.tail()"
      ],
      "metadata": {
        "colab": {
          "base_uri": "https://localhost:8080/",
          "height": 206
        },
        "id": "LwmH_kqZBT-9",
        "outputId": "e334a60e-03a9-470d-8e9a-a431706d8267"
      },
      "execution_count": null,
      "outputs": [
        {
          "output_type": "execute_result",
          "data": {
            "text/plain": [
              "         Country  Cost of Living Index  Rent Index  \\\n",
              "127   Uzbekistan                 26.01        7.54   \n",
              "128        Syria                 25.31        5.68   \n",
              "129        India                 24.58        5.68   \n",
              "130  Afghanistan                 24.24        4.03   \n",
              "131     Pakistan                 21.98        4.59   \n",
              "\n",
              "     Cost of Living Plus Rent Index  Groceries Index  Restaurant Price Index  \\\n",
              "127                           17.18            21.59                   20.17   \n",
              "128                           15.92            22.42                   21.38   \n",
              "129                           15.54            24.55                   17.17   \n",
              "130                           14.58            17.70                   17.38   \n",
              "131                           13.66            19.08                   16.78   \n",
              "\n",
              "     Local Purchasing Power Index  \n",
              "127                         24.31  \n",
              "128                         11.46  \n",
              "129                         54.30  \n",
              "130                         28.20  \n",
              "131                         30.57  "
            ],
            "text/html": [
              "\n",
              "  <div id=\"df-8d51842e-a6d4-49ca-ac1a-8bce6850401c\">\n",
              "    <div class=\"colab-df-container\">\n",
              "      <div>\n",
              "<style scoped>\n",
              "    .dataframe tbody tr th:only-of-type {\n",
              "        vertical-align: middle;\n",
              "    }\n",
              "\n",
              "    .dataframe tbody tr th {\n",
              "        vertical-align: top;\n",
              "    }\n",
              "\n",
              "    .dataframe thead th {\n",
              "        text-align: right;\n",
              "    }\n",
              "</style>\n",
              "<table border=\"1\" class=\"dataframe\">\n",
              "  <thead>\n",
              "    <tr style=\"text-align: right;\">\n",
              "      <th></th>\n",
              "      <th>Country</th>\n",
              "      <th>Cost of Living Index</th>\n",
              "      <th>Rent Index</th>\n",
              "      <th>Cost of Living Plus Rent Index</th>\n",
              "      <th>Groceries Index</th>\n",
              "      <th>Restaurant Price Index</th>\n",
              "      <th>Local Purchasing Power Index</th>\n",
              "    </tr>\n",
              "  </thead>\n",
              "  <tbody>\n",
              "    <tr>\n",
              "      <th>127</th>\n",
              "      <td>Uzbekistan</td>\n",
              "      <td>26.01</td>\n",
              "      <td>7.54</td>\n",
              "      <td>17.18</td>\n",
              "      <td>21.59</td>\n",
              "      <td>20.17</td>\n",
              "      <td>24.31</td>\n",
              "    </tr>\n",
              "    <tr>\n",
              "      <th>128</th>\n",
              "      <td>Syria</td>\n",
              "      <td>25.31</td>\n",
              "      <td>5.68</td>\n",
              "      <td>15.92</td>\n",
              "      <td>22.42</td>\n",
              "      <td>21.38</td>\n",
              "      <td>11.46</td>\n",
              "    </tr>\n",
              "    <tr>\n",
              "      <th>129</th>\n",
              "      <td>India</td>\n",
              "      <td>24.58</td>\n",
              "      <td>5.68</td>\n",
              "      <td>15.54</td>\n",
              "      <td>24.55</td>\n",
              "      <td>17.17</td>\n",
              "      <td>54.30</td>\n",
              "    </tr>\n",
              "    <tr>\n",
              "      <th>130</th>\n",
              "      <td>Afghanistan</td>\n",
              "      <td>24.24</td>\n",
              "      <td>4.03</td>\n",
              "      <td>14.58</td>\n",
              "      <td>17.70</td>\n",
              "      <td>17.38</td>\n",
              "      <td>28.20</td>\n",
              "    </tr>\n",
              "    <tr>\n",
              "      <th>131</th>\n",
              "      <td>Pakistan</td>\n",
              "      <td>21.98</td>\n",
              "      <td>4.59</td>\n",
              "      <td>13.66</td>\n",
              "      <td>19.08</td>\n",
              "      <td>16.78</td>\n",
              "      <td>30.57</td>\n",
              "    </tr>\n",
              "  </tbody>\n",
              "</table>\n",
              "</div>\n",
              "      <button class=\"colab-df-convert\" onclick=\"convertToInteractive('df-8d51842e-a6d4-49ca-ac1a-8bce6850401c')\"\n",
              "              title=\"Convert this dataframe to an interactive table.\"\n",
              "              style=\"display:none;\">\n",
              "        \n",
              "  <svg xmlns=\"http://www.w3.org/2000/svg\" height=\"24px\"viewBox=\"0 0 24 24\"\n",
              "       width=\"24px\">\n",
              "    <path d=\"M0 0h24v24H0V0z\" fill=\"none\"/>\n",
              "    <path d=\"M18.56 5.44l.94 2.06.94-2.06 2.06-.94-2.06-.94-.94-2.06-.94 2.06-2.06.94zm-11 1L8.5 8.5l.94-2.06 2.06-.94-2.06-.94L8.5 2.5l-.94 2.06-2.06.94zm10 10l.94 2.06.94-2.06 2.06-.94-2.06-.94-.94-2.06-.94 2.06-2.06.94z\"/><path d=\"M17.41 7.96l-1.37-1.37c-.4-.4-.92-.59-1.43-.59-.52 0-1.04.2-1.43.59L10.3 9.45l-7.72 7.72c-.78.78-.78 2.05 0 2.83L4 21.41c.39.39.9.59 1.41.59.51 0 1.02-.2 1.41-.59l7.78-7.78 2.81-2.81c.8-.78.8-2.07 0-2.86zM5.41 20L4 18.59l7.72-7.72 1.47 1.35L5.41 20z\"/>\n",
              "  </svg>\n",
              "      </button>\n",
              "      \n",
              "  <style>\n",
              "    .colab-df-container {\n",
              "      display:flex;\n",
              "      flex-wrap:wrap;\n",
              "      gap: 12px;\n",
              "    }\n",
              "\n",
              "    .colab-df-convert {\n",
              "      background-color: #E8F0FE;\n",
              "      border: none;\n",
              "      border-radius: 50%;\n",
              "      cursor: pointer;\n",
              "      display: none;\n",
              "      fill: #1967D2;\n",
              "      height: 32px;\n",
              "      padding: 0 0 0 0;\n",
              "      width: 32px;\n",
              "    }\n",
              "\n",
              "    .colab-df-convert:hover {\n",
              "      background-color: #E2EBFA;\n",
              "      box-shadow: 0px 1px 2px rgba(60, 64, 67, 0.3), 0px 1px 3px 1px rgba(60, 64, 67, 0.15);\n",
              "      fill: #174EA6;\n",
              "    }\n",
              "\n",
              "    [theme=dark] .colab-df-convert {\n",
              "      background-color: #3B4455;\n",
              "      fill: #D2E3FC;\n",
              "    }\n",
              "\n",
              "    [theme=dark] .colab-df-convert:hover {\n",
              "      background-color: #434B5C;\n",
              "      box-shadow: 0px 1px 3px 1px rgba(0, 0, 0, 0.15);\n",
              "      filter: drop-shadow(0px 1px 2px rgba(0, 0, 0, 0.3));\n",
              "      fill: #FFFFFF;\n",
              "    }\n",
              "  </style>\n",
              "\n",
              "      <script>\n",
              "        const buttonEl =\n",
              "          document.querySelector('#df-8d51842e-a6d4-49ca-ac1a-8bce6850401c button.colab-df-convert');\n",
              "        buttonEl.style.display =\n",
              "          google.colab.kernel.accessAllowed ? 'block' : 'none';\n",
              "\n",
              "        async function convertToInteractive(key) {\n",
              "          const element = document.querySelector('#df-8d51842e-a6d4-49ca-ac1a-8bce6850401c');\n",
              "          const dataTable =\n",
              "            await google.colab.kernel.invokeFunction('convertToInteractive',\n",
              "                                                     [key], {});\n",
              "          if (!dataTable) return;\n",
              "\n",
              "          const docLinkHtml = 'Like what you see? Visit the ' +\n",
              "            '<a target=\"_blank\" href=https://colab.research.google.com/notebooks/data_table.ipynb>data table notebook</a>'\n",
              "            + ' to learn more about interactive tables.';\n",
              "          element.innerHTML = '';\n",
              "          dataTable['output_type'] = 'display_data';\n",
              "          await google.colab.output.renderOutput(dataTable, element);\n",
              "          const docLink = document.createElement('div');\n",
              "          docLink.innerHTML = docLinkHtml;\n",
              "          element.appendChild(docLink);\n",
              "        }\n",
              "      </script>\n",
              "    </div>\n",
              "  </div>\n",
              "  "
            ]
          },
          "metadata": {},
          "execution_count": 8
        }
      ]
    },
    {
      "cell_type": "markdown",
      "source": [
        "Here is the same code for the other file."
      ],
      "metadata": {
        "id": "yLO1tGqFPgC9"
      }
    },
    {
      "cell_type": "code",
      "source": [
        "link = 'https://drive.google.com/file/d/1Gxj-x19Hc43OZLiYKZsOQobp28dy_zrj/view?usp=sharing' # The shareable link\n",
        "id = '1Gxj-x19Hc43OZLiYKZsOQobp28dy_zrj' # After the /d/ and before the /view?\n",
        "downloaded = drive.CreateFile({'id':id})\n",
        "downloaded.GetContentFile('Cost of living index by country 2020.csv')  # Put the name of the file here\n",
        "age_df = pd.read_csv('Cost of living index by country 2020.csv') # and here"
      ],
      "metadata": {
        "id": "wdPwSo9bBysS"
      },
      "execution_count": null,
      "outputs": []
    },
    {
      "cell_type": "code",
      "source": [
        "age_df.head()"
      ],
      "metadata": {
        "colab": {
          "base_uri": "https://localhost:8080/",
          "height": 206
        },
        "id": "ult8W68xCT_o",
        "outputId": "d195216c-55aa-4303-8c94-dcb4bd2d7580"
      },
      "execution_count": null,
      "outputs": [
        {
          "output_type": "execute_result",
          "data": {
            "text/plain": [
              "    Country Age 0 to 14 Years Age 15 to 64 Years Age above 65 Years\n",
              "0     Japan            12.90%             60.10%                27%\n",
              "1     Italy            13.50%             63.50%                23%\n",
              "2  Portugal            13.60%             64.90%                22%\n",
              "3   Germany            13.10%             65.50%                22%\n",
              "4   Finland            16.40%             62.40%                21%"
            ],
            "text/html": [
              "\n",
              "  <div id=\"df-2f91ed89-9139-4027-a6c8-40fec8ab50c2\">\n",
              "    <div class=\"colab-df-container\">\n",
              "      <div>\n",
              "<style scoped>\n",
              "    .dataframe tbody tr th:only-of-type {\n",
              "        vertical-align: middle;\n",
              "    }\n",
              "\n",
              "    .dataframe tbody tr th {\n",
              "        vertical-align: top;\n",
              "    }\n",
              "\n",
              "    .dataframe thead th {\n",
              "        text-align: right;\n",
              "    }\n",
              "</style>\n",
              "<table border=\"1\" class=\"dataframe\">\n",
              "  <thead>\n",
              "    <tr style=\"text-align: right;\">\n",
              "      <th></th>\n",
              "      <th>Country</th>\n",
              "      <th>Age 0 to 14 Years</th>\n",
              "      <th>Age 15 to 64 Years</th>\n",
              "      <th>Age above 65 Years</th>\n",
              "    </tr>\n",
              "  </thead>\n",
              "  <tbody>\n",
              "    <tr>\n",
              "      <th>0</th>\n",
              "      <td>Japan</td>\n",
              "      <td>12.90%</td>\n",
              "      <td>60.10%</td>\n",
              "      <td>27%</td>\n",
              "    </tr>\n",
              "    <tr>\n",
              "      <th>1</th>\n",
              "      <td>Italy</td>\n",
              "      <td>13.50%</td>\n",
              "      <td>63.50%</td>\n",
              "      <td>23%</td>\n",
              "    </tr>\n",
              "    <tr>\n",
              "      <th>2</th>\n",
              "      <td>Portugal</td>\n",
              "      <td>13.60%</td>\n",
              "      <td>64.90%</td>\n",
              "      <td>22%</td>\n",
              "    </tr>\n",
              "    <tr>\n",
              "      <th>3</th>\n",
              "      <td>Germany</td>\n",
              "      <td>13.10%</td>\n",
              "      <td>65.50%</td>\n",
              "      <td>22%</td>\n",
              "    </tr>\n",
              "    <tr>\n",
              "      <th>4</th>\n",
              "      <td>Finland</td>\n",
              "      <td>16.40%</td>\n",
              "      <td>62.40%</td>\n",
              "      <td>21%</td>\n",
              "    </tr>\n",
              "  </tbody>\n",
              "</table>\n",
              "</div>\n",
              "      <button class=\"colab-df-convert\" onclick=\"convertToInteractive('df-2f91ed89-9139-4027-a6c8-40fec8ab50c2')\"\n",
              "              title=\"Convert this dataframe to an interactive table.\"\n",
              "              style=\"display:none;\">\n",
              "        \n",
              "  <svg xmlns=\"http://www.w3.org/2000/svg\" height=\"24px\"viewBox=\"0 0 24 24\"\n",
              "       width=\"24px\">\n",
              "    <path d=\"M0 0h24v24H0V0z\" fill=\"none\"/>\n",
              "    <path d=\"M18.56 5.44l.94 2.06.94-2.06 2.06-.94-2.06-.94-.94-2.06-.94 2.06-2.06.94zm-11 1L8.5 8.5l.94-2.06 2.06-.94-2.06-.94L8.5 2.5l-.94 2.06-2.06.94zm10 10l.94 2.06.94-2.06 2.06-.94-2.06-.94-.94-2.06-.94 2.06-2.06.94z\"/><path d=\"M17.41 7.96l-1.37-1.37c-.4-.4-.92-.59-1.43-.59-.52 0-1.04.2-1.43.59L10.3 9.45l-7.72 7.72c-.78.78-.78 2.05 0 2.83L4 21.41c.39.39.9.59 1.41.59.51 0 1.02-.2 1.41-.59l7.78-7.78 2.81-2.81c.8-.78.8-2.07 0-2.86zM5.41 20L4 18.59l7.72-7.72 1.47 1.35L5.41 20z\"/>\n",
              "  </svg>\n",
              "      </button>\n",
              "      \n",
              "  <style>\n",
              "    .colab-df-container {\n",
              "      display:flex;\n",
              "      flex-wrap:wrap;\n",
              "      gap: 12px;\n",
              "    }\n",
              "\n",
              "    .colab-df-convert {\n",
              "      background-color: #E8F0FE;\n",
              "      border: none;\n",
              "      border-radius: 50%;\n",
              "      cursor: pointer;\n",
              "      display: none;\n",
              "      fill: #1967D2;\n",
              "      height: 32px;\n",
              "      padding: 0 0 0 0;\n",
              "      width: 32px;\n",
              "    }\n",
              "\n",
              "    .colab-df-convert:hover {\n",
              "      background-color: #E2EBFA;\n",
              "      box-shadow: 0px 1px 2px rgba(60, 64, 67, 0.3), 0px 1px 3px 1px rgba(60, 64, 67, 0.15);\n",
              "      fill: #174EA6;\n",
              "    }\n",
              "\n",
              "    [theme=dark] .colab-df-convert {\n",
              "      background-color: #3B4455;\n",
              "      fill: #D2E3FC;\n",
              "    }\n",
              "\n",
              "    [theme=dark] .colab-df-convert:hover {\n",
              "      background-color: #434B5C;\n",
              "      box-shadow: 0px 1px 3px 1px rgba(0, 0, 0, 0.15);\n",
              "      filter: drop-shadow(0px 1px 2px rgba(0, 0, 0, 0.3));\n",
              "      fill: #FFFFFF;\n",
              "    }\n",
              "  </style>\n",
              "\n",
              "      <script>\n",
              "        const buttonEl =\n",
              "          document.querySelector('#df-2f91ed89-9139-4027-a6c8-40fec8ab50c2 button.colab-df-convert');\n",
              "        buttonEl.style.display =\n",
              "          google.colab.kernel.accessAllowed ? 'block' : 'none';\n",
              "\n",
              "        async function convertToInteractive(key) {\n",
              "          const element = document.querySelector('#df-2f91ed89-9139-4027-a6c8-40fec8ab50c2');\n",
              "          const dataTable =\n",
              "            await google.colab.kernel.invokeFunction('convertToInteractive',\n",
              "                                                     [key], {});\n",
              "          if (!dataTable) return;\n",
              "\n",
              "          const docLinkHtml = 'Like what you see? Visit the ' +\n",
              "            '<a target=\"_blank\" href=https://colab.research.google.com/notebooks/data_table.ipynb>data table notebook</a>'\n",
              "            + ' to learn more about interactive tables.';\n",
              "          element.innerHTML = '';\n",
              "          dataTable['output_type'] = 'display_data';\n",
              "          await google.colab.output.renderOutput(dataTable, element);\n",
              "          const docLink = document.createElement('div');\n",
              "          docLink.innerHTML = docLinkHtml;\n",
              "          element.appendChild(docLink);\n",
              "        }\n",
              "      </script>\n",
              "    </div>\n",
              "  </div>\n",
              "  "
            ]
          },
          "metadata": {},
          "execution_count": 10
        }
      ]
    },
    {
      "cell_type": "code",
      "source": [
        "age_df.tail()"
      ],
      "metadata": {
        "id": "hh4ck5-BCcIC",
        "outputId": "2f0af2c2-daf8-463a-9cab-ad1192810d96",
        "colab": {
          "base_uri": "https://localhost:8080/",
          "height": 206
        }
      },
      "execution_count": null,
      "outputs": [
        {
          "output_type": "execute_result",
          "data": {
            "text/plain": [
              "                  Country Age 0 to 14 Years Age 15 to 64 Years  \\\n",
              "186                Gambia            45.30%             52.30%   \n",
              "187                Kuwait            21.10%             76.60%   \n",
              "188                Uganda            47.70%             50.10%   \n",
              "189                 Qatar            13.90%             84.80%   \n",
              "190  United Arab Emirates            13.90%             85.00%   \n",
              "\n",
              "    Age above 65 Years  \n",
              "186                 2%  \n",
              "187                 2%  \n",
              "188                 2%  \n",
              "189                 1%  \n",
              "190                 1%  "
            ],
            "text/html": [
              "\n",
              "  <div id=\"df-5e8091d7-b899-4db5-a17d-fb068f31a962\">\n",
              "    <div class=\"colab-df-container\">\n",
              "      <div>\n",
              "<style scoped>\n",
              "    .dataframe tbody tr th:only-of-type {\n",
              "        vertical-align: middle;\n",
              "    }\n",
              "\n",
              "    .dataframe tbody tr th {\n",
              "        vertical-align: top;\n",
              "    }\n",
              "\n",
              "    .dataframe thead th {\n",
              "        text-align: right;\n",
              "    }\n",
              "</style>\n",
              "<table border=\"1\" class=\"dataframe\">\n",
              "  <thead>\n",
              "    <tr style=\"text-align: right;\">\n",
              "      <th></th>\n",
              "      <th>Country</th>\n",
              "      <th>Age 0 to 14 Years</th>\n",
              "      <th>Age 15 to 64 Years</th>\n",
              "      <th>Age above 65 Years</th>\n",
              "    </tr>\n",
              "  </thead>\n",
              "  <tbody>\n",
              "    <tr>\n",
              "      <th>186</th>\n",
              "      <td>Gambia</td>\n",
              "      <td>45.30%</td>\n",
              "      <td>52.30%</td>\n",
              "      <td>2%</td>\n",
              "    </tr>\n",
              "    <tr>\n",
              "      <th>187</th>\n",
              "      <td>Kuwait</td>\n",
              "      <td>21.10%</td>\n",
              "      <td>76.60%</td>\n",
              "      <td>2%</td>\n",
              "    </tr>\n",
              "    <tr>\n",
              "      <th>188</th>\n",
              "      <td>Uganda</td>\n",
              "      <td>47.70%</td>\n",
              "      <td>50.10%</td>\n",
              "      <td>2%</td>\n",
              "    </tr>\n",
              "    <tr>\n",
              "      <th>189</th>\n",
              "      <td>Qatar</td>\n",
              "      <td>13.90%</td>\n",
              "      <td>84.80%</td>\n",
              "      <td>1%</td>\n",
              "    </tr>\n",
              "    <tr>\n",
              "      <th>190</th>\n",
              "      <td>United Arab Emirates</td>\n",
              "      <td>13.90%</td>\n",
              "      <td>85.00%</td>\n",
              "      <td>1%</td>\n",
              "    </tr>\n",
              "  </tbody>\n",
              "</table>\n",
              "</div>\n",
              "      <button class=\"colab-df-convert\" onclick=\"convertToInteractive('df-5e8091d7-b899-4db5-a17d-fb068f31a962')\"\n",
              "              title=\"Convert this dataframe to an interactive table.\"\n",
              "              style=\"display:none;\">\n",
              "        \n",
              "  <svg xmlns=\"http://www.w3.org/2000/svg\" height=\"24px\"viewBox=\"0 0 24 24\"\n",
              "       width=\"24px\">\n",
              "    <path d=\"M0 0h24v24H0V0z\" fill=\"none\"/>\n",
              "    <path d=\"M18.56 5.44l.94 2.06.94-2.06 2.06-.94-2.06-.94-.94-2.06-.94 2.06-2.06.94zm-11 1L8.5 8.5l.94-2.06 2.06-.94-2.06-.94L8.5 2.5l-.94 2.06-2.06.94zm10 10l.94 2.06.94-2.06 2.06-.94-2.06-.94-.94-2.06-.94 2.06-2.06.94z\"/><path d=\"M17.41 7.96l-1.37-1.37c-.4-.4-.92-.59-1.43-.59-.52 0-1.04.2-1.43.59L10.3 9.45l-7.72 7.72c-.78.78-.78 2.05 0 2.83L4 21.41c.39.39.9.59 1.41.59.51 0 1.02-.2 1.41-.59l7.78-7.78 2.81-2.81c.8-.78.8-2.07 0-2.86zM5.41 20L4 18.59l7.72-7.72 1.47 1.35L5.41 20z\"/>\n",
              "  </svg>\n",
              "      </button>\n",
              "      \n",
              "  <style>\n",
              "    .colab-df-container {\n",
              "      display:flex;\n",
              "      flex-wrap:wrap;\n",
              "      gap: 12px;\n",
              "    }\n",
              "\n",
              "    .colab-df-convert {\n",
              "      background-color: #E8F0FE;\n",
              "      border: none;\n",
              "      border-radius: 50%;\n",
              "      cursor: pointer;\n",
              "      display: none;\n",
              "      fill: #1967D2;\n",
              "      height: 32px;\n",
              "      padding: 0 0 0 0;\n",
              "      width: 32px;\n",
              "    }\n",
              "\n",
              "    .colab-df-convert:hover {\n",
              "      background-color: #E2EBFA;\n",
              "      box-shadow: 0px 1px 2px rgba(60, 64, 67, 0.3), 0px 1px 3px 1px rgba(60, 64, 67, 0.15);\n",
              "      fill: #174EA6;\n",
              "    }\n",
              "\n",
              "    [theme=dark] .colab-df-convert {\n",
              "      background-color: #3B4455;\n",
              "      fill: #D2E3FC;\n",
              "    }\n",
              "\n",
              "    [theme=dark] .colab-df-convert:hover {\n",
              "      background-color: #434B5C;\n",
              "      box-shadow: 0px 1px 3px 1px rgba(0, 0, 0, 0.15);\n",
              "      filter: drop-shadow(0px 1px 2px rgba(0, 0, 0, 0.3));\n",
              "      fill: #FFFFFF;\n",
              "    }\n",
              "  </style>\n",
              "\n",
              "      <script>\n",
              "        const buttonEl =\n",
              "          document.querySelector('#df-5e8091d7-b899-4db5-a17d-fb068f31a962 button.colab-df-convert');\n",
              "        buttonEl.style.display =\n",
              "          google.colab.kernel.accessAllowed ? 'block' : 'none';\n",
              "\n",
              "        async function convertToInteractive(key) {\n",
              "          const element = document.querySelector('#df-5e8091d7-b899-4db5-a17d-fb068f31a962');\n",
              "          const dataTable =\n",
              "            await google.colab.kernel.invokeFunction('convertToInteractive',\n",
              "                                                     [key], {});\n",
              "          if (!dataTable) return;\n",
              "\n",
              "          const docLinkHtml = 'Like what you see? Visit the ' +\n",
              "            '<a target=\"_blank\" href=https://colab.research.google.com/notebooks/data_table.ipynb>data table notebook</a>'\n",
              "            + ' to learn more about interactive tables.';\n",
              "          element.innerHTML = '';\n",
              "          dataTable['output_type'] = 'display_data';\n",
              "          await google.colab.output.renderOutput(dataTable, element);\n",
              "          const docLink = document.createElement('div');\n",
              "          docLink.innerHTML = docLinkHtml;\n",
              "          element.appendChild(docLink);\n",
              "        }\n",
              "      </script>\n",
              "    </div>\n",
              "  </div>\n",
              "  "
            ]
          },
          "metadata": {},
          "execution_count": 11
        }
      ]
    },
    {
      "cell_type": "markdown",
      "source": [
        "My intentions here are to combined both of these data sets by adding the three columns in the age data set to the cost data set. First, let us go through the checklist of combining data sets.\n",
        "\n",
        "# **Variables:** <p>\n",
        "Let us see what variables these two sets have in common, although I'm sure country is the only thing they do have in common"
      ],
      "metadata": {
        "id": "i-So2EpqDe3u"
      }
    },
    {
      "cell_type": "code",
      "source": [
        "set(age_df.columns) & set(cost_df.columns)"
      ],
      "metadata": {
        "colab": {
          "base_uri": "https://localhost:8080/"
        },
        "id": "AWZxdV4HFgM0",
        "outputId": "ba761553-f0c3-4770-8241-43b08f113952"
      },
      "execution_count": null,
      "outputs": [
        {
          "output_type": "execute_result",
          "data": {
            "text/plain": [
              "{'Country'}"
            ]
          },
          "metadata": {},
          "execution_count": 13
        }
      ]
    },
    {
      "cell_type": "markdown",
      "source": [
        "I am going to use the \"Country\" column as the key for joining. Let us also check how the two cantidate variables overlap:"
      ],
      "metadata": {
        "id": "MTOb1T0RFtXL"
      }
    },
    {
      "cell_type": "code",
      "source": [
        "\"There are {0:,} unique values in the 'Cost Index Set\".format(len(cost_df['Country'].unique()))"
      ],
      "metadata": {
        "colab": {
          "base_uri": "https://localhost:8080/",
          "height": 35
        },
        "id": "WivGsfnTFyam",
        "outputId": "065dc524-f32d-489c-c1ec-782007df109c"
      },
      "execution_count": null,
      "outputs": [
        {
          "output_type": "execute_result",
          "data": {
            "text/plain": [
              "\"There are 132 unique values in the 'Cost Index Set\""
            ],
            "application/vnd.google.colaboratory.intrinsic+json": {
              "type": "string"
            }
          },
          "metadata": {},
          "execution_count": 14
        }
      ]
    },
    {
      "cell_type": "code",
      "source": [
        "\"There are {0:,} unique values in the 'Ages Set\".format(len(age_df['Country'].unique()))"
      ],
      "metadata": {
        "colab": {
          "base_uri": "https://localhost:8080/",
          "height": 35
        },
        "id": "iPT8q4J5F-zc",
        "outputId": "00454b08-6ae9-4dd4-d767-a76ea895ca9f"
      },
      "execution_count": null,
      "outputs": [
        {
          "output_type": "execute_result",
          "data": {
            "text/plain": [
              "\"There are 191 unique values in the 'Ages Set\""
            ],
            "application/vnd.google.colaboratory.intrinsic+json": {
              "type": "string"
            }
          },
          "metadata": {},
          "execution_count": 15
        }
      ]
    },
    {
      "cell_type": "markdown",
      "source": [
        "It looks like there are more countries in the ages set than in the cost index set."
      ],
      "metadata": {
        "id": "QsgPHioDGL9m"
      }
    },
    {
      "cell_type": "markdown",
      "source": [
        "Let us also see what values are NOT in each other's sets"
      ],
      "metadata": {
        "id": "x4QU-JmrGXzy"
      }
    },
    {
      "cell_type": "code",
      "source": [
        "in_ages_but_not_cost_set = set(age_df['Country'].unique()) - set(cost_df['Country'].unique())\n",
        "\n",
        "in_cost_but_not_ages_set = set(cost_df['Country'].unique()) - set(age_df['Country'].unique())\n",
        "\n",
        "print(\"There are {0:,} \\\"Country\\\"s in ages but not in cost.\".format(len(in_ages_but_not_cost_set)))\n",
        "print(\"There are {0:,} \\\"Country\\\"s in cost but not in ages.\".format(len(in_cost_but_not_ages_set)))"
      ],
      "metadata": {
        "colab": {
          "base_uri": "https://localhost:8080/"
        },
        "id": "alooSogwGb9Y",
        "outputId": "05996409-12e4-4ba4-8824-3a0a068605dc"
      },
      "execution_count": null,
      "outputs": [
        {
          "output_type": "stream",
          "name": "stdout",
          "text": [
            "There are 64 \"Country\"s in ages but not in cost.\n",
            "There are 5 \"Country\"s in cost but not in ages.\n"
          ]
        }
      ]
    },
    {
      "cell_type": "markdown",
      "source": [
        "# **Coverage**\n",
        "\n",
        "We can determine if the coverage of both sets is within the same or generally close range of time, as a country's age is extremely unlikely to change within the span of a few years. However, we can see based on the description from Kaggle that all the data sets, including cost index and age structure is from the year 2020: https://www.kaggle.com/datasets/dumbgeek/countries-dataset-2020?select=Cost+of+living+index+by+country+2020.csv\n"
      ],
      "metadata": {
        "id": "Yuk4U12YHhJC"
      }
    },
    {
      "cell_type": "markdown",
      "source": [
        "# **Duplicates**\n",
        "\n",
        "Let us also see if there are any duplicate values in both our data sets"
      ],
      "metadata": {
        "id": "U4ATxBldJW1o"
      }
    },
    {
      "cell_type": "code",
      "source": [
        "age_df['Country'].value_counts().head()"
      ],
      "metadata": {
        "colab": {
          "base_uri": "https://localhost:8080/"
        },
        "id": "vh5bqPSEJsoX",
        "outputId": "5a8f9eb6-af8f-49f0-a728-3a3d1c4f0a46"
      },
      "execution_count": null,
      "outputs": [
        {
          "output_type": "execute_result",
          "data": {
            "text/plain": [
              "Japan         1\n",
              "Laos          1\n",
              "Gabon         1\n",
              "Uzbekistan    1\n",
              "Libya         1\n",
              "Name: Country, dtype: int64"
            ]
          },
          "metadata": {},
          "execution_count": 18
        }
      ]
    },
    {
      "cell_type": "code",
      "source": [
        "cost_df['Country'].value_counts().head()"
      ],
      "metadata": {
        "colab": {
          "base_uri": "https://localhost:8080/"
        },
        "id": "y2DIDa3gJxJ2",
        "outputId": "9b4005b6-d4fe-43ae-d261-d6132a94eb20"
      },
      "execution_count": null,
      "outputs": [
        {
          "output_type": "execute_result",
          "data": {
            "text/plain": [
              "Switzerland               1\n",
              "Malaysia                  1\n",
              "Serbia                    1\n",
              "Mexico                    1\n",
              "Bosnia And Herzegovina    1\n",
              "Name: Country, dtype: int64"
            ]
          },
          "metadata": {},
          "execution_count": 19
        }
      ]
    },
    {
      "cell_type": "markdown",
      "source": [
        "It appears there are no duplicated data sets at all, which is completely expected. We can continue with our conjoining prechecks."
      ],
      "metadata": {
        "id": "NtUh4K_aJ2WY"
      }
    },
    {
      "cell_type": "markdown",
      "source": [
        "#Strategy\n",
        "\n",
        "For this join, where ages is the left data set and cost is the right data set, I intend to do a left join. This is because joining with ages would result in the most amount of countries kept post merge, and will give me more control as to what I would like to do with the expected null values during the cleaning phase."
      ],
      "metadata": {
        "id": "RzaKOX5CKAxb"
      }
    },
    {
      "cell_type": "code",
      "source": [
        "left_df = pd.merge(left = age_df,\n",
        "                                  right = cost_df,\n",
        "                                  left_on = 'Country',\n",
        "                                  right_on = 'Country',\n",
        "                                  how='left')\n",
        "print(\"Merge Complete\")"
      ],
      "metadata": {
        "colab": {
          "base_uri": "https://localhost:8080/"
        },
        "id": "GV2Jo89ZL8rt",
        "outputId": "11f88314-c7d1-4f25-b05c-71e4e647c972"
      },
      "execution_count": null,
      "outputs": [
        {
          "output_type": "stream",
          "name": "stdout",
          "text": [
            "Merge Complete\n"
          ]
        }
      ]
    },
    {
      "cell_type": "markdown",
      "source": [
        "#Shape\n",
        "\n",
        "After the join, I am expecting 191 columns and 10 rows. This is because the age had three rows and cost had six, and both had the country row. Since we are doing a left based merge where age was the left data set, I am expecting the  merged data to have 191 columns"
      ],
      "metadata": {
        "id": "yrlkOcUoMjHQ"
      }
    },
    {
      "cell_type": "code",
      "source": [
        "\n",
        "print(\"There are {0:,} rows and {1:,} columns.\".format(*left_df.shape))\n",
        "print(\"There are {:,} unique values for \\\"Country\\\" in the left join.\".format(len(left_df['Country'].unique())))\n",
        "\n"
      ],
      "metadata": {
        "colab": {
          "base_uri": "https://localhost:8080/"
        },
        "id": "N8hZzJtxNKDD",
        "outputId": "93ed706e-74e7-4edc-ce5d-3c3ca61ede2a"
      },
      "execution_count": null,
      "outputs": [
        {
          "output_type": "stream",
          "name": "stdout",
          "text": [
            "There are 191 rows and 10 columns.\n",
            "There are 191 unique values for \"Country\" in the left join.\n"
          ]
        }
      ]
    },
    {
      "cell_type": "markdown",
      "source": [
        "I am expecting ZERO repeat values\n"
      ],
      "metadata": {
        "id": "QuGlegy9Nhli"
      }
    },
    {
      "cell_type": "code",
      "source": [
        "left_df['Country'].value_counts().head()"
      ],
      "metadata": {
        "colab": {
          "base_uri": "https://localhost:8080/"
        },
        "id": "mNDjJ1dkNkrR",
        "outputId": "8c056dba-9900-420d-c28c-bdec0419c00e"
      },
      "execution_count": null,
      "outputs": [
        {
          "output_type": "execute_result",
          "data": {
            "text/plain": [
              "Japan         1\n",
              "Laos          1\n",
              "Gabon         1\n",
              "Uzbekistan    1\n",
              "Libya         1\n",
              "Name: Country, dtype: int64"
            ]
          },
          "metadata": {},
          "execution_count": 22
        }
      ]
    },
    {
      "cell_type": "markdown",
      "source": [
        "I am, however, expecting some null values. These will be null values for countries that were not in cost, but were in ages. So those countries that were not in age, but were in costs, will have null values for all the cost related columns, such as rent index and overall cost index."
      ],
      "metadata": {
        "id": "2upaYEvTNm53"
      }
    },
    {
      "cell_type": "code",
      "source": [
        "left_df.isna().sum()"
      ],
      "metadata": {
        "colab": {
          "base_uri": "https://localhost:8080/"
        },
        "id": "0D6o7W3eOOR8",
        "outputId": "7a6a042a-37d2-45bf-ecd0-d8fe4f584ff9"
      },
      "execution_count": null,
      "outputs": [
        {
          "output_type": "execute_result",
          "data": {
            "text/plain": [
              "Country                            0\n",
              "Age 0 to 14 Years                  0\n",
              "Age 15 to 64 Years                 0\n",
              "Age above 65 Years                 0\n",
              "Cost of Living Index              64\n",
              "Rent Index                        64\n",
              "Cost of Living Plus Rent Index    64\n",
              "Groceries Index                   64\n",
              "Restaurant Price Index            64\n",
              "Local Purchasing Power Index      64\n",
              "dtype: int64"
            ]
          },
          "metadata": {},
          "execution_count": 23
        }
      ]
    },
    {
      "cell_type": "markdown",
      "source": [
        "Referring to earlier, we did notice that there were 64 countries that were not present in the ages index, so as such this makes sense.\n",
        "\n",
        "I intend to do standard cleaning from here with the null values, and will decide later on in the analysis whether to do imputing or deletion.\n",
        "\n",
        "We can now begin the exploratory data analysis."
      ],
      "metadata": {
        "id": "2Ry5HfMeORpT"
      }
    },
    {
      "cell_type": "code",
      "source": [
        "countries = left_df #renaming to nicer name for data frame"
      ],
      "metadata": {
        "id": "izW1NK3DrWj3"
      },
      "execution_count": null,
      "outputs": []
    },
    {
      "cell_type": "markdown",
      "source": [
        "#Reading in Data\n",
        "\n",
        "We have already read in our data, and combined it. We can move on to the next phase here."
      ],
      "metadata": {
        "id": "xvamMLtoqk8M"
      }
    },
    {
      "cell_type": "markdown",
      "source": [
        "#Checking packaging"
      ],
      "metadata": {
        "id": "rFDUT6ixrPFc"
      }
    },
    {
      "cell_type": "code",
      "source": [
        "countries.shape"
      ],
      "metadata": {
        "colab": {
          "base_uri": "https://localhost:8080/"
        },
        "id": "0ykOgsBtqzXw",
        "outputId": "918adf74-a945-4edc-da0a-fd04ebdab1ab"
      },
      "execution_count": null,
      "outputs": [
        {
          "output_type": "execute_result",
          "data": {
            "text/plain": [
              "(191, 10)"
            ]
          },
          "metadata": {},
          "execution_count": 25
        }
      ]
    },
    {
      "cell_type": "markdown",
      "source": [
        "It appears that we are working with ten rows and 191 columns. However, the number of columns has potential to decrease, since there are countries with null values which are going to be dropped during our cleaning process. Additionally, we only care about the rows that have both percentage of a given age group. I will test out the three rows related to age group, and do three tests with age group vs cost of living."
      ],
      "metadata": {
        "id": "wmOkgfdysaYP"
      }
    },
    {
      "cell_type": "markdown",
      "source": [
        "#Examining Top and Bottom of Data\n",
        "\n"
      ],
      "metadata": {
        "id": "3cN8bR0QuN52"
      }
    },
    {
      "cell_type": "code",
      "source": [
        "countries.head()"
      ],
      "metadata": {
        "colab": {
          "base_uri": "https://localhost:8080/",
          "height": 267
        },
        "id": "nccdQ3Touh0n",
        "outputId": "f05f2cc4-93da-493d-f110-e61c87ea92d9"
      },
      "execution_count": null,
      "outputs": [
        {
          "output_type": "execute_result",
          "data": {
            "text/plain": [
              "    Country Age 0 to 14 Years Age 15 to 64 Years Age above 65 Years  \\\n",
              "0     Japan            12.90%             60.10%                27%   \n",
              "1     Italy            13.50%             63.50%                23%   \n",
              "2  Portugal            13.60%             64.90%                22%   \n",
              "3   Germany            13.10%             65.50%                22%   \n",
              "4   Finland            16.40%             62.40%                21%   \n",
              "\n",
              "   Cost of Living Index  Rent Index  Cost of Living Plus Rent Index  \\\n",
              "0                 83.35       25.97                           55.90   \n",
              "1                 67.26       21.22                           45.24   \n",
              "2                 49.52       21.81                           36.27   \n",
              "3                 65.26       27.06                           46.99   \n",
              "4                 70.29       26.16                           49.18   \n",
              "\n",
              "   Groceries Index  Restaurant Price Index  Local Purchasing Power Index  \n",
              "0            81.82                   48.95                         87.28  \n",
              "1            55.44                   72.32                         65.59  \n",
              "2            38.14                   42.48                         49.43  \n",
              "3            49.23                   61.58                        102.36  \n",
              "4            56.52                   76.81                         99.93  "
            ],
            "text/html": [
              "\n",
              "  <div id=\"df-4b605af8-a4b8-4e43-b12f-5d91062de134\">\n",
              "    <div class=\"colab-df-container\">\n",
              "      <div>\n",
              "<style scoped>\n",
              "    .dataframe tbody tr th:only-of-type {\n",
              "        vertical-align: middle;\n",
              "    }\n",
              "\n",
              "    .dataframe tbody tr th {\n",
              "        vertical-align: top;\n",
              "    }\n",
              "\n",
              "    .dataframe thead th {\n",
              "        text-align: right;\n",
              "    }\n",
              "</style>\n",
              "<table border=\"1\" class=\"dataframe\">\n",
              "  <thead>\n",
              "    <tr style=\"text-align: right;\">\n",
              "      <th></th>\n",
              "      <th>Country</th>\n",
              "      <th>Age 0 to 14 Years</th>\n",
              "      <th>Age 15 to 64 Years</th>\n",
              "      <th>Age above 65 Years</th>\n",
              "      <th>Cost of Living Index</th>\n",
              "      <th>Rent Index</th>\n",
              "      <th>Cost of Living Plus Rent Index</th>\n",
              "      <th>Groceries Index</th>\n",
              "      <th>Restaurant Price Index</th>\n",
              "      <th>Local Purchasing Power Index</th>\n",
              "    </tr>\n",
              "  </thead>\n",
              "  <tbody>\n",
              "    <tr>\n",
              "      <th>0</th>\n",
              "      <td>Japan</td>\n",
              "      <td>12.90%</td>\n",
              "      <td>60.10%</td>\n",
              "      <td>27%</td>\n",
              "      <td>83.35</td>\n",
              "      <td>25.97</td>\n",
              "      <td>55.90</td>\n",
              "      <td>81.82</td>\n",
              "      <td>48.95</td>\n",
              "      <td>87.28</td>\n",
              "    </tr>\n",
              "    <tr>\n",
              "      <th>1</th>\n",
              "      <td>Italy</td>\n",
              "      <td>13.50%</td>\n",
              "      <td>63.50%</td>\n",
              "      <td>23%</td>\n",
              "      <td>67.26</td>\n",
              "      <td>21.22</td>\n",
              "      <td>45.24</td>\n",
              "      <td>55.44</td>\n",
              "      <td>72.32</td>\n",
              "      <td>65.59</td>\n",
              "    </tr>\n",
              "    <tr>\n",
              "      <th>2</th>\n",
              "      <td>Portugal</td>\n",
              "      <td>13.60%</td>\n",
              "      <td>64.90%</td>\n",
              "      <td>22%</td>\n",
              "      <td>49.52</td>\n",
              "      <td>21.81</td>\n",
              "      <td>36.27</td>\n",
              "      <td>38.14</td>\n",
              "      <td>42.48</td>\n",
              "      <td>49.43</td>\n",
              "    </tr>\n",
              "    <tr>\n",
              "      <th>3</th>\n",
              "      <td>Germany</td>\n",
              "      <td>13.10%</td>\n",
              "      <td>65.50%</td>\n",
              "      <td>22%</td>\n",
              "      <td>65.26</td>\n",
              "      <td>27.06</td>\n",
              "      <td>46.99</td>\n",
              "      <td>49.23</td>\n",
              "      <td>61.58</td>\n",
              "      <td>102.36</td>\n",
              "    </tr>\n",
              "    <tr>\n",
              "      <th>4</th>\n",
              "      <td>Finland</td>\n",
              "      <td>16.40%</td>\n",
              "      <td>62.40%</td>\n",
              "      <td>21%</td>\n",
              "      <td>70.29</td>\n",
              "      <td>26.16</td>\n",
              "      <td>49.18</td>\n",
              "      <td>56.52</td>\n",
              "      <td>76.81</td>\n",
              "      <td>99.93</td>\n",
              "    </tr>\n",
              "  </tbody>\n",
              "</table>\n",
              "</div>\n",
              "      <button class=\"colab-df-convert\" onclick=\"convertToInteractive('df-4b605af8-a4b8-4e43-b12f-5d91062de134')\"\n",
              "              title=\"Convert this dataframe to an interactive table.\"\n",
              "              style=\"display:none;\">\n",
              "        \n",
              "  <svg xmlns=\"http://www.w3.org/2000/svg\" height=\"24px\"viewBox=\"0 0 24 24\"\n",
              "       width=\"24px\">\n",
              "    <path d=\"M0 0h24v24H0V0z\" fill=\"none\"/>\n",
              "    <path d=\"M18.56 5.44l.94 2.06.94-2.06 2.06-.94-2.06-.94-.94-2.06-.94 2.06-2.06.94zm-11 1L8.5 8.5l.94-2.06 2.06-.94-2.06-.94L8.5 2.5l-.94 2.06-2.06.94zm10 10l.94 2.06.94-2.06 2.06-.94-2.06-.94-.94-2.06-.94 2.06-2.06.94z\"/><path d=\"M17.41 7.96l-1.37-1.37c-.4-.4-.92-.59-1.43-.59-.52 0-1.04.2-1.43.59L10.3 9.45l-7.72 7.72c-.78.78-.78 2.05 0 2.83L4 21.41c.39.39.9.59 1.41.59.51 0 1.02-.2 1.41-.59l7.78-7.78 2.81-2.81c.8-.78.8-2.07 0-2.86zM5.41 20L4 18.59l7.72-7.72 1.47 1.35L5.41 20z\"/>\n",
              "  </svg>\n",
              "      </button>\n",
              "      \n",
              "  <style>\n",
              "    .colab-df-container {\n",
              "      display:flex;\n",
              "      flex-wrap:wrap;\n",
              "      gap: 12px;\n",
              "    }\n",
              "\n",
              "    .colab-df-convert {\n",
              "      background-color: #E8F0FE;\n",
              "      border: none;\n",
              "      border-radius: 50%;\n",
              "      cursor: pointer;\n",
              "      display: none;\n",
              "      fill: #1967D2;\n",
              "      height: 32px;\n",
              "      padding: 0 0 0 0;\n",
              "      width: 32px;\n",
              "    }\n",
              "\n",
              "    .colab-df-convert:hover {\n",
              "      background-color: #E2EBFA;\n",
              "      box-shadow: 0px 1px 2px rgba(60, 64, 67, 0.3), 0px 1px 3px 1px rgba(60, 64, 67, 0.15);\n",
              "      fill: #174EA6;\n",
              "    }\n",
              "\n",
              "    [theme=dark] .colab-df-convert {\n",
              "      background-color: #3B4455;\n",
              "      fill: #D2E3FC;\n",
              "    }\n",
              "\n",
              "    [theme=dark] .colab-df-convert:hover {\n",
              "      background-color: #434B5C;\n",
              "      box-shadow: 0px 1px 3px 1px rgba(0, 0, 0, 0.15);\n",
              "      filter: drop-shadow(0px 1px 2px rgba(0, 0, 0, 0.3));\n",
              "      fill: #FFFFFF;\n",
              "    }\n",
              "  </style>\n",
              "\n",
              "      <script>\n",
              "        const buttonEl =\n",
              "          document.querySelector('#df-4b605af8-a4b8-4e43-b12f-5d91062de134 button.colab-df-convert');\n",
              "        buttonEl.style.display =\n",
              "          google.colab.kernel.accessAllowed ? 'block' : 'none';\n",
              "\n",
              "        async function convertToInteractive(key) {\n",
              "          const element = document.querySelector('#df-4b605af8-a4b8-4e43-b12f-5d91062de134');\n",
              "          const dataTable =\n",
              "            await google.colab.kernel.invokeFunction('convertToInteractive',\n",
              "                                                     [key], {});\n",
              "          if (!dataTable) return;\n",
              "\n",
              "          const docLinkHtml = 'Like what you see? Visit the ' +\n",
              "            '<a target=\"_blank\" href=https://colab.research.google.com/notebooks/data_table.ipynb>data table notebook</a>'\n",
              "            + ' to learn more about interactive tables.';\n",
              "          element.innerHTML = '';\n",
              "          dataTable['output_type'] = 'display_data';\n",
              "          await google.colab.output.renderOutput(dataTable, element);\n",
              "          const docLink = document.createElement('div');\n",
              "          docLink.innerHTML = docLinkHtml;\n",
              "          element.appendChild(docLink);\n",
              "        }\n",
              "      </script>\n",
              "    </div>\n",
              "  </div>\n",
              "  "
            ]
          },
          "metadata": {},
          "execution_count": 26
        }
      ]
    },
    {
      "cell_type": "code",
      "source": [
        "countries.tail()"
      ],
      "metadata": {
        "colab": {
          "base_uri": "https://localhost:8080/",
          "height": 285
        },
        "id": "48WStxY7uj26",
        "outputId": "ab3733a1-4423-432d-b368-a58bca9dde40"
      },
      "execution_count": null,
      "outputs": [
        {
          "output_type": "execute_result",
          "data": {
            "text/plain": [
              "                  Country Age 0 to 14 Years Age 15 to 64 Years  \\\n",
              "186                Gambia            45.30%             52.30%   \n",
              "187                Kuwait            21.10%             76.60%   \n",
              "188                Uganda            47.70%             50.10%   \n",
              "189                 Qatar            13.90%             84.80%   \n",
              "190  United Arab Emirates            13.90%             85.00%   \n",
              "\n",
              "    Age above 65 Years  Cost of Living Index  Rent Index  \\\n",
              "186                 2%                   NaN         NaN   \n",
              "187                 2%                 50.37       31.21   \n",
              "188                 2%                 30.18       10.15   \n",
              "189                 1%                 64.04       47.44   \n",
              "190                 1%                 61.98       41.07   \n",
              "\n",
              "     Cost of Living Plus Rent Index  Groceries Index  Restaurant Price Index  \\\n",
              "186                             NaN              NaN                     NaN   \n",
              "187                           41.21            34.68                   47.08   \n",
              "188                           20.60            25.25                   22.14   \n",
              "189                           56.10            53.61                   66.83   \n",
              "190                           51.98            47.63                   61.32   \n",
              "\n",
              "     Local Purchasing Power Index  \n",
              "186                           NaN  \n",
              "187                         85.59  \n",
              "188                         20.50  \n",
              "189                        111.69  \n",
              "190                         91.58  "
            ],
            "text/html": [
              "\n",
              "  <div id=\"df-2fba1e68-70e8-4947-bb6d-bd0a04bb884f\">\n",
              "    <div class=\"colab-df-container\">\n",
              "      <div>\n",
              "<style scoped>\n",
              "    .dataframe tbody tr th:only-of-type {\n",
              "        vertical-align: middle;\n",
              "    }\n",
              "\n",
              "    .dataframe tbody tr th {\n",
              "        vertical-align: top;\n",
              "    }\n",
              "\n",
              "    .dataframe thead th {\n",
              "        text-align: right;\n",
              "    }\n",
              "</style>\n",
              "<table border=\"1\" class=\"dataframe\">\n",
              "  <thead>\n",
              "    <tr style=\"text-align: right;\">\n",
              "      <th></th>\n",
              "      <th>Country</th>\n",
              "      <th>Age 0 to 14 Years</th>\n",
              "      <th>Age 15 to 64 Years</th>\n",
              "      <th>Age above 65 Years</th>\n",
              "      <th>Cost of Living Index</th>\n",
              "      <th>Rent Index</th>\n",
              "      <th>Cost of Living Plus Rent Index</th>\n",
              "      <th>Groceries Index</th>\n",
              "      <th>Restaurant Price Index</th>\n",
              "      <th>Local Purchasing Power Index</th>\n",
              "    </tr>\n",
              "  </thead>\n",
              "  <tbody>\n",
              "    <tr>\n",
              "      <th>186</th>\n",
              "      <td>Gambia</td>\n",
              "      <td>45.30%</td>\n",
              "      <td>52.30%</td>\n",
              "      <td>2%</td>\n",
              "      <td>NaN</td>\n",
              "      <td>NaN</td>\n",
              "      <td>NaN</td>\n",
              "      <td>NaN</td>\n",
              "      <td>NaN</td>\n",
              "      <td>NaN</td>\n",
              "    </tr>\n",
              "    <tr>\n",
              "      <th>187</th>\n",
              "      <td>Kuwait</td>\n",
              "      <td>21.10%</td>\n",
              "      <td>76.60%</td>\n",
              "      <td>2%</td>\n",
              "      <td>50.37</td>\n",
              "      <td>31.21</td>\n",
              "      <td>41.21</td>\n",
              "      <td>34.68</td>\n",
              "      <td>47.08</td>\n",
              "      <td>85.59</td>\n",
              "    </tr>\n",
              "    <tr>\n",
              "      <th>188</th>\n",
              "      <td>Uganda</td>\n",
              "      <td>47.70%</td>\n",
              "      <td>50.10%</td>\n",
              "      <td>2%</td>\n",
              "      <td>30.18</td>\n",
              "      <td>10.15</td>\n",
              "      <td>20.60</td>\n",
              "      <td>25.25</td>\n",
              "      <td>22.14</td>\n",
              "      <td>20.50</td>\n",
              "    </tr>\n",
              "    <tr>\n",
              "      <th>189</th>\n",
              "      <td>Qatar</td>\n",
              "      <td>13.90%</td>\n",
              "      <td>84.80%</td>\n",
              "      <td>1%</td>\n",
              "      <td>64.04</td>\n",
              "      <td>47.44</td>\n",
              "      <td>56.10</td>\n",
              "      <td>53.61</td>\n",
              "      <td>66.83</td>\n",
              "      <td>111.69</td>\n",
              "    </tr>\n",
              "    <tr>\n",
              "      <th>190</th>\n",
              "      <td>United Arab Emirates</td>\n",
              "      <td>13.90%</td>\n",
              "      <td>85.00%</td>\n",
              "      <td>1%</td>\n",
              "      <td>61.98</td>\n",
              "      <td>41.07</td>\n",
              "      <td>51.98</td>\n",
              "      <td>47.63</td>\n",
              "      <td>61.32</td>\n",
              "      <td>91.58</td>\n",
              "    </tr>\n",
              "  </tbody>\n",
              "</table>\n",
              "</div>\n",
              "      <button class=\"colab-df-convert\" onclick=\"convertToInteractive('df-2fba1e68-70e8-4947-bb6d-bd0a04bb884f')\"\n",
              "              title=\"Convert this dataframe to an interactive table.\"\n",
              "              style=\"display:none;\">\n",
              "        \n",
              "  <svg xmlns=\"http://www.w3.org/2000/svg\" height=\"24px\"viewBox=\"0 0 24 24\"\n",
              "       width=\"24px\">\n",
              "    <path d=\"M0 0h24v24H0V0z\" fill=\"none\"/>\n",
              "    <path d=\"M18.56 5.44l.94 2.06.94-2.06 2.06-.94-2.06-.94-.94-2.06-.94 2.06-2.06.94zm-11 1L8.5 8.5l.94-2.06 2.06-.94-2.06-.94L8.5 2.5l-.94 2.06-2.06.94zm10 10l.94 2.06.94-2.06 2.06-.94-2.06-.94-.94-2.06-.94 2.06-2.06.94z\"/><path d=\"M17.41 7.96l-1.37-1.37c-.4-.4-.92-.59-1.43-.59-.52 0-1.04.2-1.43.59L10.3 9.45l-7.72 7.72c-.78.78-.78 2.05 0 2.83L4 21.41c.39.39.9.59 1.41.59.51 0 1.02-.2 1.41-.59l7.78-7.78 2.81-2.81c.8-.78.8-2.07 0-2.86zM5.41 20L4 18.59l7.72-7.72 1.47 1.35L5.41 20z\"/>\n",
              "  </svg>\n",
              "      </button>\n",
              "      \n",
              "  <style>\n",
              "    .colab-df-container {\n",
              "      display:flex;\n",
              "      flex-wrap:wrap;\n",
              "      gap: 12px;\n",
              "    }\n",
              "\n",
              "    .colab-df-convert {\n",
              "      background-color: #E8F0FE;\n",
              "      border: none;\n",
              "      border-radius: 50%;\n",
              "      cursor: pointer;\n",
              "      display: none;\n",
              "      fill: #1967D2;\n",
              "      height: 32px;\n",
              "      padding: 0 0 0 0;\n",
              "      width: 32px;\n",
              "    }\n",
              "\n",
              "    .colab-df-convert:hover {\n",
              "      background-color: #E2EBFA;\n",
              "      box-shadow: 0px 1px 2px rgba(60, 64, 67, 0.3), 0px 1px 3px 1px rgba(60, 64, 67, 0.15);\n",
              "      fill: #174EA6;\n",
              "    }\n",
              "\n",
              "    [theme=dark] .colab-df-convert {\n",
              "      background-color: #3B4455;\n",
              "      fill: #D2E3FC;\n",
              "    }\n",
              "\n",
              "    [theme=dark] .colab-df-convert:hover {\n",
              "      background-color: #434B5C;\n",
              "      box-shadow: 0px 1px 3px 1px rgba(0, 0, 0, 0.15);\n",
              "      filter: drop-shadow(0px 1px 2px rgba(0, 0, 0, 0.3));\n",
              "      fill: #FFFFFF;\n",
              "    }\n",
              "  </style>\n",
              "\n",
              "      <script>\n",
              "        const buttonEl =\n",
              "          document.querySelector('#df-2fba1e68-70e8-4947-bb6d-bd0a04bb884f button.colab-df-convert');\n",
              "        buttonEl.style.display =\n",
              "          google.colab.kernel.accessAllowed ? 'block' : 'none';\n",
              "\n",
              "        async function convertToInteractive(key) {\n",
              "          const element = document.querySelector('#df-2fba1e68-70e8-4947-bb6d-bd0a04bb884f');\n",
              "          const dataTable =\n",
              "            await google.colab.kernel.invokeFunction('convertToInteractive',\n",
              "                                                     [key], {});\n",
              "          if (!dataTable) return;\n",
              "\n",
              "          const docLinkHtml = 'Like what you see? Visit the ' +\n",
              "            '<a target=\"_blank\" href=https://colab.research.google.com/notebooks/data_table.ipynb>data table notebook</a>'\n",
              "            + ' to learn more about interactive tables.';\n",
              "          element.innerHTML = '';\n",
              "          dataTable['output_type'] = 'display_data';\n",
              "          await google.colab.output.renderOutput(dataTable, element);\n",
              "          const docLink = document.createElement('div');\n",
              "          docLink.innerHTML = docLinkHtml;\n",
              "          element.appendChild(docLink);\n",
              "        }\n",
              "      </script>\n",
              "    </div>\n",
              "  </div>\n",
              "  "
            ]
          },
          "metadata": {},
          "execution_count": 27
        }
      ]
    },
    {
      "cell_type": "markdown",
      "source": [
        "Through examining the tail, we can see an example of a country that is not in the  cost of living index, but is in the age index in the nation of Gambia. Nations like that are likely missing not at random (MNAR) since these are third world countries which may have data that is harder to get.  "
      ],
      "metadata": {
        "id": "jrdZf3AJunyi"
      }
    },
    {
      "cell_type": "markdown",
      "source": [
        "#Checking N's\n",
        "\n",
        "Since every column represents a singular nation, we are working with 193 columns here. Additionaly, each column has ten attributes."
      ],
      "metadata": {
        "id": "Yw35FWfIybDY"
      }
    },
    {
      "cell_type": "code",
      "source": [
        "countries.head(1)"
      ],
      "metadata": {
        "colab": {
          "base_uri": "https://localhost:8080/",
          "height": 142
        },
        "id": "Y6L10Ec_zCI0",
        "outputId": "904a3d9b-0c84-4e57-800f-ace7b75a0029"
      },
      "execution_count": null,
      "outputs": [
        {
          "output_type": "execute_result",
          "data": {
            "text/plain": [
              "  Country Age 0 to 14 Years Age 15 to 64 Years Age above 65 Years  \\\n",
              "0   Japan            12.90%             60.10%                27%   \n",
              "\n",
              "   Cost of Living Index  Rent Index  Cost of Living Plus Rent Index  \\\n",
              "0                 83.35       25.97                            55.9   \n",
              "\n",
              "   Groceries Index  Restaurant Price Index  Local Purchasing Power Index  \n",
              "0            81.82                   48.95                         87.28  "
            ],
            "text/html": [
              "\n",
              "  <div id=\"df-e730998f-deb0-4259-b4bf-1dc950c4e6c8\">\n",
              "    <div class=\"colab-df-container\">\n",
              "      <div>\n",
              "<style scoped>\n",
              "    .dataframe tbody tr th:only-of-type {\n",
              "        vertical-align: middle;\n",
              "    }\n",
              "\n",
              "    .dataframe tbody tr th {\n",
              "        vertical-align: top;\n",
              "    }\n",
              "\n",
              "    .dataframe thead th {\n",
              "        text-align: right;\n",
              "    }\n",
              "</style>\n",
              "<table border=\"1\" class=\"dataframe\">\n",
              "  <thead>\n",
              "    <tr style=\"text-align: right;\">\n",
              "      <th></th>\n",
              "      <th>Country</th>\n",
              "      <th>Age 0 to 14 Years</th>\n",
              "      <th>Age 15 to 64 Years</th>\n",
              "      <th>Age above 65 Years</th>\n",
              "      <th>Cost of Living Index</th>\n",
              "      <th>Rent Index</th>\n",
              "      <th>Cost of Living Plus Rent Index</th>\n",
              "      <th>Groceries Index</th>\n",
              "      <th>Restaurant Price Index</th>\n",
              "      <th>Local Purchasing Power Index</th>\n",
              "    </tr>\n",
              "  </thead>\n",
              "  <tbody>\n",
              "    <tr>\n",
              "      <th>0</th>\n",
              "      <td>Japan</td>\n",
              "      <td>12.90%</td>\n",
              "      <td>60.10%</td>\n",
              "      <td>27%</td>\n",
              "      <td>83.35</td>\n",
              "      <td>25.97</td>\n",
              "      <td>55.9</td>\n",
              "      <td>81.82</td>\n",
              "      <td>48.95</td>\n",
              "      <td>87.28</td>\n",
              "    </tr>\n",
              "  </tbody>\n",
              "</table>\n",
              "</div>\n",
              "      <button class=\"colab-df-convert\" onclick=\"convertToInteractive('df-e730998f-deb0-4259-b4bf-1dc950c4e6c8')\"\n",
              "              title=\"Convert this dataframe to an interactive table.\"\n",
              "              style=\"display:none;\">\n",
              "        \n",
              "  <svg xmlns=\"http://www.w3.org/2000/svg\" height=\"24px\"viewBox=\"0 0 24 24\"\n",
              "       width=\"24px\">\n",
              "    <path d=\"M0 0h24v24H0V0z\" fill=\"none\"/>\n",
              "    <path d=\"M18.56 5.44l.94 2.06.94-2.06 2.06-.94-2.06-.94-.94-2.06-.94 2.06-2.06.94zm-11 1L8.5 8.5l.94-2.06 2.06-.94-2.06-.94L8.5 2.5l-.94 2.06-2.06.94zm10 10l.94 2.06.94-2.06 2.06-.94-2.06-.94-.94-2.06-.94 2.06-2.06.94z\"/><path d=\"M17.41 7.96l-1.37-1.37c-.4-.4-.92-.59-1.43-.59-.52 0-1.04.2-1.43.59L10.3 9.45l-7.72 7.72c-.78.78-.78 2.05 0 2.83L4 21.41c.39.39.9.59 1.41.59.51 0 1.02-.2 1.41-.59l7.78-7.78 2.81-2.81c.8-.78.8-2.07 0-2.86zM5.41 20L4 18.59l7.72-7.72 1.47 1.35L5.41 20z\"/>\n",
              "  </svg>\n",
              "      </button>\n",
              "      \n",
              "  <style>\n",
              "    .colab-df-container {\n",
              "      display:flex;\n",
              "      flex-wrap:wrap;\n",
              "      gap: 12px;\n",
              "    }\n",
              "\n",
              "    .colab-df-convert {\n",
              "      background-color: #E8F0FE;\n",
              "      border: none;\n",
              "      border-radius: 50%;\n",
              "      cursor: pointer;\n",
              "      display: none;\n",
              "      fill: #1967D2;\n",
              "      height: 32px;\n",
              "      padding: 0 0 0 0;\n",
              "      width: 32px;\n",
              "    }\n",
              "\n",
              "    .colab-df-convert:hover {\n",
              "      background-color: #E2EBFA;\n",
              "      box-shadow: 0px 1px 2px rgba(60, 64, 67, 0.3), 0px 1px 3px 1px rgba(60, 64, 67, 0.15);\n",
              "      fill: #174EA6;\n",
              "    }\n",
              "\n",
              "    [theme=dark] .colab-df-convert {\n",
              "      background-color: #3B4455;\n",
              "      fill: #D2E3FC;\n",
              "    }\n",
              "\n",
              "    [theme=dark] .colab-df-convert:hover {\n",
              "      background-color: #434B5C;\n",
              "      box-shadow: 0px 1px 3px 1px rgba(0, 0, 0, 0.15);\n",
              "      filter: drop-shadow(0px 1px 2px rgba(0, 0, 0, 0.3));\n",
              "      fill: #FFFFFF;\n",
              "    }\n",
              "  </style>\n",
              "\n",
              "      <script>\n",
              "        const buttonEl =\n",
              "          document.querySelector('#df-e730998f-deb0-4259-b4bf-1dc950c4e6c8 button.colab-df-convert');\n",
              "        buttonEl.style.display =\n",
              "          google.colab.kernel.accessAllowed ? 'block' : 'none';\n",
              "\n",
              "        async function convertToInteractive(key) {\n",
              "          const element = document.querySelector('#df-e730998f-deb0-4259-b4bf-1dc950c4e6c8');\n",
              "          const dataTable =\n",
              "            await google.colab.kernel.invokeFunction('convertToInteractive',\n",
              "                                                     [key], {});\n",
              "          if (!dataTable) return;\n",
              "\n",
              "          const docLinkHtml = 'Like what you see? Visit the ' +\n",
              "            '<a target=\"_blank\" href=https://colab.research.google.com/notebooks/data_table.ipynb>data table notebook</a>'\n",
              "            + ' to learn more about interactive tables.';\n",
              "          element.innerHTML = '';\n",
              "          dataTable['output_type'] = 'display_data';\n",
              "          await google.colab.output.renderOutput(dataTable, element);\n",
              "          const docLink = document.createElement('div');\n",
              "          docLink.innerHTML = docLinkHtml;\n",
              "          element.appendChild(docLink);\n",
              "        }\n",
              "      </script>\n",
              "    </div>\n",
              "  </div>\n",
              "  "
            ]
          },
          "metadata": {},
          "execution_count": 28
        }
      ]
    },
    {
      "cell_type": "code",
      "source": [
        "countries.shape"
      ],
      "metadata": {
        "colab": {
          "base_uri": "https://localhost:8080/"
        },
        "id": "GuGYZ7aFzV1U",
        "outputId": "4dadd844-0e15-4a50-f16b-86e07caa2c53"
      },
      "execution_count": null,
      "outputs": [
        {
          "output_type": "execute_result",
          "data": {
            "text/plain": [
              "(191, 10)"
            ]
          },
          "metadata": {},
          "execution_count": 29
        }
      ]
    },
    {
      "cell_type": "markdown",
      "source": [
        "In this case, we are going to be doing three different tests. We will be making the x axis percent ages three times. Additionally, I have decided to test just cost of living plus rent index. It would be too messy and complicated to test multiple other cost facts such as rent and restaurant price indexes."
      ],
      "metadata": {
        "id": "YXHplC3YzFU6"
      }
    },
    {
      "cell_type": "markdown",
      "source": [
        "#Validation Against External Data Source"
      ],
      "metadata": {
        "id": "bolOE6dz1Rzt"
      }
    },
    {
      "cell_type": "markdown",
      "source": [
        "We can take just one country and see its percetage age for that year. I'm using japan here.\n",
        "\n",
        "https://www.stat.go.jp/english/data/handbook/c0117.html#:~:text=On%20the%20other%20hand%2C%20in,percent%20of%20the%20entire%20population.\n",
        "\n",
        "According to the statistical handbook of Japan, made by the Japanese Ministry of Internal Affairs, their ages 0-14 is 12%, which matches the data set. Tt was 60% for 15-64, and 65+ was also 28.8%. All of these values are extremely close to the given data set, and we can conclude that this data is accurate."
      ],
      "metadata": {
        "id": "EdO8GLFA1bD1"
      }
    },
    {
      "cell_type": "markdown",
      "source": [
        "#Cleaning Through Deletion"
      ],
      "metadata": {
        "id": "rfK0-LJt2bKa"
      }
    },
    {
      "cell_type": "markdown",
      "source": [
        "I have opted to proceed with this analysis by conducting deletion on any missing values. I would also attempt impution, but I cannot think of an efficient way of imputing missing values without having to google 69 individual countries times five columns worth of data. We will lose a large percentage of data, however there will still be a reasonable large amount of data, making this analysis valid."
      ],
      "metadata": {
        "id": "kgdmpnqx4AWu"
      }
    },
    {
      "cell_type": "markdown",
      "source": [
        "We'll go ahead and drop NaNs for any missing values in our relevent data."
      ],
      "metadata": {
        "id": "Fpr-9as7_2cq"
      }
    },
    {
      "cell_type": "code",
      "source": [
        "dropped_countries = countries.dropna(subset = ['Age 0 to 14 Years'])\n",
        "print(\"There are {0:,} rows of data after dropping, compared to {1:,} before.\".format(len(dropped_countries), len(countries)))\n"
      ],
      "metadata": {
        "colab": {
          "base_uri": "https://localhost:8080/"
        },
        "id": "oR8OoupyAGBh",
        "outputId": "b136286d-8f24-419c-fd2d-7f1f9d48d177"
      },
      "execution_count": null,
      "outputs": [
        {
          "output_type": "stream",
          "name": "stdout",
          "text": [
            "There are 191 rows of data after dropping, compared to 191 before.\n"
          ]
        }
      ]
    },
    {
      "cell_type": "markdown",
      "source": [
        "No NaN values in that row, we'll move to the next row"
      ],
      "metadata": {
        "id": "65e7-vF9Afsu"
      }
    },
    {
      "cell_type": "code",
      "source": [
        "dropped_countries = countries.dropna(subset = [\"Age 15 to 64 Years\"])\n",
        "print(\"There are {0:,} rows of data after dropping, compared to {1:,} before.\".format(len(dropped_countries), len(countries)))\n"
      ],
      "metadata": {
        "colab": {
          "base_uri": "https://localhost:8080/"
        },
        "id": "O-tJ0m80AlP2",
        "outputId": "d8b44c95-ad97-44ba-fcef-909c9fd30684"
      },
      "execution_count": null,
      "outputs": [
        {
          "output_type": "stream",
          "name": "stdout",
          "text": [
            "There are 191 rows of data after dropping, compared to 191 before.\n"
          ]
        }
      ]
    },
    {
      "cell_type": "markdown",
      "source": [
        "Still no NaN values. Moving on"
      ],
      "metadata": {
        "id": "rTJz21f1AosP"
      }
    },
    {
      "cell_type": "code",
      "source": [
        "dropped_countries = countries.dropna(subset = [\"Age above 65 Years\"])\n",
        "print(\"There are {0:,} rows of data after dropping, compared to {1:,} before.\".format(len(dropped_countries), len(countries)))\n"
      ],
      "metadata": {
        "colab": {
          "base_uri": "https://localhost:8080/"
        },
        "id": "8U6mH7m6AqeF",
        "outputId": "2d82aa3f-54f7-4d49-ceb0-0ea04a0a12ca"
      },
      "execution_count": null,
      "outputs": [
        {
          "output_type": "stream",
          "name": "stdout",
          "text": [
            "There are 191 rows of data after dropping, compared to 191 before.\n"
          ]
        }
      ]
    },
    {
      "cell_type": "markdown",
      "source": [
        "I know that there should be no NaN values being dropped since we did a left based join, which kept all the values in the age data set. However, I wanted to run a dropna function on the data set to prove this."
      ],
      "metadata": {
        "id": "GppWIeb4A0HN"
      }
    },
    {
      "cell_type": "markdown",
      "source": [
        "Since we only care about cost of living index here, we're going to drop any country that is missing a cost of living index."
      ],
      "metadata": {
        "id": "CQv3rzKoA-p0"
      }
    },
    {
      "cell_type": "code",
      "source": [
        "dropped_countries = countries.dropna(subset = [\"Cost of Living Index\"])\n",
        "print(\"There are {0:,} rows of data after dropping, compared to {1:,} before.\".format(len(dropped_countries), len(countries)))\n",
        "\n",
        "dropped_countries.head()"
      ],
      "metadata": {
        "colab": {
          "base_uri": "https://localhost:8080/",
          "height": 285
        },
        "id": "xSAyLtsmBG1H",
        "outputId": "822e1425-ea95-4bb4-c24f-7a1003256702"
      },
      "execution_count": null,
      "outputs": [
        {
          "output_type": "stream",
          "name": "stdout",
          "text": [
            "There are 127 rows of data after dropping, compared to 191 before.\n"
          ]
        },
        {
          "output_type": "execute_result",
          "data": {
            "text/plain": [
              "    Country Age 0 to 14 Years Age 15 to 64 Years Age above 65 Years  \\\n",
              "0     Japan            12.90%             60.10%                27%   \n",
              "1     Italy            13.50%             63.50%                23%   \n",
              "2  Portugal            13.60%             64.90%                22%   \n",
              "3   Germany            13.10%             65.50%                22%   \n",
              "4   Finland            16.40%             62.40%                21%   \n",
              "\n",
              "   Cost of Living Index  Rent Index  Cost of Living Plus Rent Index  \\\n",
              "0                 83.35       25.97                           55.90   \n",
              "1                 67.26       21.22                           45.24   \n",
              "2                 49.52       21.81                           36.27   \n",
              "3                 65.26       27.06                           46.99   \n",
              "4                 70.29       26.16                           49.18   \n",
              "\n",
              "   Groceries Index  Restaurant Price Index  Local Purchasing Power Index  \n",
              "0            81.82                   48.95                         87.28  \n",
              "1            55.44                   72.32                         65.59  \n",
              "2            38.14                   42.48                         49.43  \n",
              "3            49.23                   61.58                        102.36  \n",
              "4            56.52                   76.81                         99.93  "
            ],
            "text/html": [
              "\n",
              "  <div id=\"df-4a66232d-32b7-4320-9ef7-781fcfad58a8\">\n",
              "    <div class=\"colab-df-container\">\n",
              "      <div>\n",
              "<style scoped>\n",
              "    .dataframe tbody tr th:only-of-type {\n",
              "        vertical-align: middle;\n",
              "    }\n",
              "\n",
              "    .dataframe tbody tr th {\n",
              "        vertical-align: top;\n",
              "    }\n",
              "\n",
              "    .dataframe thead th {\n",
              "        text-align: right;\n",
              "    }\n",
              "</style>\n",
              "<table border=\"1\" class=\"dataframe\">\n",
              "  <thead>\n",
              "    <tr style=\"text-align: right;\">\n",
              "      <th></th>\n",
              "      <th>Country</th>\n",
              "      <th>Age 0 to 14 Years</th>\n",
              "      <th>Age 15 to 64 Years</th>\n",
              "      <th>Age above 65 Years</th>\n",
              "      <th>Cost of Living Index</th>\n",
              "      <th>Rent Index</th>\n",
              "      <th>Cost of Living Plus Rent Index</th>\n",
              "      <th>Groceries Index</th>\n",
              "      <th>Restaurant Price Index</th>\n",
              "      <th>Local Purchasing Power Index</th>\n",
              "    </tr>\n",
              "  </thead>\n",
              "  <tbody>\n",
              "    <tr>\n",
              "      <th>0</th>\n",
              "      <td>Japan</td>\n",
              "      <td>12.90%</td>\n",
              "      <td>60.10%</td>\n",
              "      <td>27%</td>\n",
              "      <td>83.35</td>\n",
              "      <td>25.97</td>\n",
              "      <td>55.90</td>\n",
              "      <td>81.82</td>\n",
              "      <td>48.95</td>\n",
              "      <td>87.28</td>\n",
              "    </tr>\n",
              "    <tr>\n",
              "      <th>1</th>\n",
              "      <td>Italy</td>\n",
              "      <td>13.50%</td>\n",
              "      <td>63.50%</td>\n",
              "      <td>23%</td>\n",
              "      <td>67.26</td>\n",
              "      <td>21.22</td>\n",
              "      <td>45.24</td>\n",
              "      <td>55.44</td>\n",
              "      <td>72.32</td>\n",
              "      <td>65.59</td>\n",
              "    </tr>\n",
              "    <tr>\n",
              "      <th>2</th>\n",
              "      <td>Portugal</td>\n",
              "      <td>13.60%</td>\n",
              "      <td>64.90%</td>\n",
              "      <td>22%</td>\n",
              "      <td>49.52</td>\n",
              "      <td>21.81</td>\n",
              "      <td>36.27</td>\n",
              "      <td>38.14</td>\n",
              "      <td>42.48</td>\n",
              "      <td>49.43</td>\n",
              "    </tr>\n",
              "    <tr>\n",
              "      <th>3</th>\n",
              "      <td>Germany</td>\n",
              "      <td>13.10%</td>\n",
              "      <td>65.50%</td>\n",
              "      <td>22%</td>\n",
              "      <td>65.26</td>\n",
              "      <td>27.06</td>\n",
              "      <td>46.99</td>\n",
              "      <td>49.23</td>\n",
              "      <td>61.58</td>\n",
              "      <td>102.36</td>\n",
              "    </tr>\n",
              "    <tr>\n",
              "      <th>4</th>\n",
              "      <td>Finland</td>\n",
              "      <td>16.40%</td>\n",
              "      <td>62.40%</td>\n",
              "      <td>21%</td>\n",
              "      <td>70.29</td>\n",
              "      <td>26.16</td>\n",
              "      <td>49.18</td>\n",
              "      <td>56.52</td>\n",
              "      <td>76.81</td>\n",
              "      <td>99.93</td>\n",
              "    </tr>\n",
              "  </tbody>\n",
              "</table>\n",
              "</div>\n",
              "      <button class=\"colab-df-convert\" onclick=\"convertToInteractive('df-4a66232d-32b7-4320-9ef7-781fcfad58a8')\"\n",
              "              title=\"Convert this dataframe to an interactive table.\"\n",
              "              style=\"display:none;\">\n",
              "        \n",
              "  <svg xmlns=\"http://www.w3.org/2000/svg\" height=\"24px\"viewBox=\"0 0 24 24\"\n",
              "       width=\"24px\">\n",
              "    <path d=\"M0 0h24v24H0V0z\" fill=\"none\"/>\n",
              "    <path d=\"M18.56 5.44l.94 2.06.94-2.06 2.06-.94-2.06-.94-.94-2.06-.94 2.06-2.06.94zm-11 1L8.5 8.5l.94-2.06 2.06-.94-2.06-.94L8.5 2.5l-.94 2.06-2.06.94zm10 10l.94 2.06.94-2.06 2.06-.94-2.06-.94-.94-2.06-.94 2.06-2.06.94z\"/><path d=\"M17.41 7.96l-1.37-1.37c-.4-.4-.92-.59-1.43-.59-.52 0-1.04.2-1.43.59L10.3 9.45l-7.72 7.72c-.78.78-.78 2.05 0 2.83L4 21.41c.39.39.9.59 1.41.59.51 0 1.02-.2 1.41-.59l7.78-7.78 2.81-2.81c.8-.78.8-2.07 0-2.86zM5.41 20L4 18.59l7.72-7.72 1.47 1.35L5.41 20z\"/>\n",
              "  </svg>\n",
              "      </button>\n",
              "      \n",
              "  <style>\n",
              "    .colab-df-container {\n",
              "      display:flex;\n",
              "      flex-wrap:wrap;\n",
              "      gap: 12px;\n",
              "    }\n",
              "\n",
              "    .colab-df-convert {\n",
              "      background-color: #E8F0FE;\n",
              "      border: none;\n",
              "      border-radius: 50%;\n",
              "      cursor: pointer;\n",
              "      display: none;\n",
              "      fill: #1967D2;\n",
              "      height: 32px;\n",
              "      padding: 0 0 0 0;\n",
              "      width: 32px;\n",
              "    }\n",
              "\n",
              "    .colab-df-convert:hover {\n",
              "      background-color: #E2EBFA;\n",
              "      box-shadow: 0px 1px 2px rgba(60, 64, 67, 0.3), 0px 1px 3px 1px rgba(60, 64, 67, 0.15);\n",
              "      fill: #174EA6;\n",
              "    }\n",
              "\n",
              "    [theme=dark] .colab-df-convert {\n",
              "      background-color: #3B4455;\n",
              "      fill: #D2E3FC;\n",
              "    }\n",
              "\n",
              "    [theme=dark] .colab-df-convert:hover {\n",
              "      background-color: #434B5C;\n",
              "      box-shadow: 0px 1px 3px 1px rgba(0, 0, 0, 0.15);\n",
              "      filter: drop-shadow(0px 1px 2px rgba(0, 0, 0, 0.3));\n",
              "      fill: #FFFFFF;\n",
              "    }\n",
              "  </style>\n",
              "\n",
              "      <script>\n",
              "        const buttonEl =\n",
              "          document.querySelector('#df-4a66232d-32b7-4320-9ef7-781fcfad58a8 button.colab-df-convert');\n",
              "        buttonEl.style.display =\n",
              "          google.colab.kernel.accessAllowed ? 'block' : 'none';\n",
              "\n",
              "        async function convertToInteractive(key) {\n",
              "          const element = document.querySelector('#df-4a66232d-32b7-4320-9ef7-781fcfad58a8');\n",
              "          const dataTable =\n",
              "            await google.colab.kernel.invokeFunction('convertToInteractive',\n",
              "                                                     [key], {});\n",
              "          if (!dataTable) return;\n",
              "\n",
              "          const docLinkHtml = 'Like what you see? Visit the ' +\n",
              "            '<a target=\"_blank\" href=https://colab.research.google.com/notebooks/data_table.ipynb>data table notebook</a>'\n",
              "            + ' to learn more about interactive tables.';\n",
              "          element.innerHTML = '';\n",
              "          dataTable['output_type'] = 'display_data';\n",
              "          await google.colab.output.renderOutput(dataTable, element);\n",
              "          const docLink = document.createElement('div');\n",
              "          docLink.innerHTML = docLinkHtml;\n",
              "          element.appendChild(docLink);\n",
              "        }\n",
              "      </script>\n",
              "    </div>\n",
              "  </div>\n",
              "  "
            ]
          },
          "metadata": {},
          "execution_count": 220
        }
      ]
    },
    {
      "cell_type": "markdown",
      "source": [
        "This results in a 33% loss rate. Certainly not ideal, however it is not too high that it may affect our conclusion."
      ],
      "metadata": {
        "id": "qGIkadL8Blz-"
      }
    },
    {
      "cell_type": "markdown",
      "source": [
        "Indeed, I am aware that we could have simply done a right join. I did a left join because I wanted to keep all the countries in the data set, and it would allow me to have control of what data values I would want to drop. Since that joining occured earlier in the analysis, I would not have known much about how the data would have looked like post deletion and post joining. However, now I know that our data is nothing but a post right join data. I just preferred a method that would give a loss of the least data initially before doing more familiar clean up methods"
      ],
      "metadata": {
        "id": "KeLlMStjBt9Z"
      }
    },
    {
      "cell_type": "markdown",
      "source": [
        "Let's also remove the percentage symbol and convert all the values to int"
      ],
      "metadata": {
        "id": "PED8oIW2-Yz7"
      }
    },
    {
      "cell_type": "code",
      "source": [
        "dropped_countries[\"Age above 65 Years\"] = dropped_countries[\"Age above 65 Years\"].str[:-1]\n",
        "dropped_countries[\"Age above 65 Years\"] = dropped_countries[\"Age above 65 Years\"].str.strip()\n"
      ],
      "metadata": {
        "colab": {
          "base_uri": "https://localhost:8080/"
        },
        "id": "uaGZAMt7-j-p",
        "outputId": "8451ce68-da99-459a-81c4-d9862fa739a6"
      },
      "execution_count": null,
      "outputs": [
        {
          "output_type": "stream",
          "name": "stderr",
          "text": [
            "/usr/local/lib/python3.7/dist-packages/ipykernel_launcher.py:1: SettingWithCopyWarning: \n",
            "A value is trying to be set on a copy of a slice from a DataFrame.\n",
            "Try using .loc[row_indexer,col_indexer] = value instead\n",
            "\n",
            "See the caveats in the documentation: https://pandas.pydata.org/pandas-docs/stable/user_guide/indexing.html#returning-a-view-versus-a-copy\n",
            "  \"\"\"Entry point for launching an IPython kernel.\n",
            "/usr/local/lib/python3.7/dist-packages/ipykernel_launcher.py:2: SettingWithCopyWarning: \n",
            "A value is trying to be set on a copy of a slice from a DataFrame.\n",
            "Try using .loc[row_indexer,col_indexer] = value instead\n",
            "\n",
            "See the caveats in the documentation: https://pandas.pydata.org/pandas-docs/stable/user_guide/indexing.html#returning-a-view-versus-a-copy\n",
            "  \n"
          ]
        }
      ]
    },
    {
      "cell_type": "code",
      "source": [
        "dropped_countries[\"Age above 65 Years\"] = pd.to_numeric(dropped_countries[\"Age above 65 Years\"])"
      ],
      "metadata": {
        "colab": {
          "base_uri": "https://localhost:8080/"
        },
        "id": "7OpdiBhHCeiJ",
        "outputId": "1863a281-cc1f-4e14-a76a-33693491921a"
      },
      "execution_count": null,
      "outputs": [
        {
          "output_type": "stream",
          "name": "stderr",
          "text": [
            "/usr/local/lib/python3.7/dist-packages/ipykernel_launcher.py:1: SettingWithCopyWarning: \n",
            "A value is trying to be set on a copy of a slice from a DataFrame.\n",
            "Try using .loc[row_indexer,col_indexer] = value instead\n",
            "\n",
            "See the caveats in the documentation: https://pandas.pydata.org/pandas-docs/stable/user_guide/indexing.html#returning-a-view-versus-a-copy\n",
            "  \"\"\"Entry point for launching an IPython kernel.\n"
          ]
        }
      ]
    },
    {
      "cell_type": "code",
      "source": [
        "dropped_countries.head()"
      ],
      "metadata": {
        "colab": {
          "base_uri": "https://localhost:8080/",
          "height": 267
        },
        "id": "P6nodCfmwGE7",
        "outputId": "b78cf22d-505c-40de-bb03-72ee55e638d0"
      },
      "execution_count": null,
      "outputs": [
        {
          "output_type": "execute_result",
          "data": {
            "text/plain": [
              "    Country Age 0 to 14 Years Age 15 to 64 Years  Age above 65 Years  \\\n",
              "0     Japan            12.90%             60.10%                  27   \n",
              "1     Italy            13.50%             63.50%                  23   \n",
              "2  Portugal            13.60%             64.90%                  22   \n",
              "3   Germany            13.10%             65.50%                  22   \n",
              "4   Finland            16.40%             62.40%                  21   \n",
              "\n",
              "   Cost of Living Index  Rent Index  Cost of Living Plus Rent Index  \\\n",
              "0                 83.35       25.97                           55.90   \n",
              "1                 67.26       21.22                           45.24   \n",
              "2                 49.52       21.81                           36.27   \n",
              "3                 65.26       27.06                           46.99   \n",
              "4                 70.29       26.16                           49.18   \n",
              "\n",
              "   Groceries Index  Restaurant Price Index  Local Purchasing Power Index  \n",
              "0            81.82                   48.95                         87.28  \n",
              "1            55.44                   72.32                         65.59  \n",
              "2            38.14                   42.48                         49.43  \n",
              "3            49.23                   61.58                        102.36  \n",
              "4            56.52                   76.81                         99.93  "
            ],
            "text/html": [
              "\n",
              "  <div id=\"df-75a78007-4ecc-4c99-9fea-d14f9ce104a9\">\n",
              "    <div class=\"colab-df-container\">\n",
              "      <div>\n",
              "<style scoped>\n",
              "    .dataframe tbody tr th:only-of-type {\n",
              "        vertical-align: middle;\n",
              "    }\n",
              "\n",
              "    .dataframe tbody tr th {\n",
              "        vertical-align: top;\n",
              "    }\n",
              "\n",
              "    .dataframe thead th {\n",
              "        text-align: right;\n",
              "    }\n",
              "</style>\n",
              "<table border=\"1\" class=\"dataframe\">\n",
              "  <thead>\n",
              "    <tr style=\"text-align: right;\">\n",
              "      <th></th>\n",
              "      <th>Country</th>\n",
              "      <th>Age 0 to 14 Years</th>\n",
              "      <th>Age 15 to 64 Years</th>\n",
              "      <th>Age above 65 Years</th>\n",
              "      <th>Cost of Living Index</th>\n",
              "      <th>Rent Index</th>\n",
              "      <th>Cost of Living Plus Rent Index</th>\n",
              "      <th>Groceries Index</th>\n",
              "      <th>Restaurant Price Index</th>\n",
              "      <th>Local Purchasing Power Index</th>\n",
              "    </tr>\n",
              "  </thead>\n",
              "  <tbody>\n",
              "    <tr>\n",
              "      <th>0</th>\n",
              "      <td>Japan</td>\n",
              "      <td>12.90%</td>\n",
              "      <td>60.10%</td>\n",
              "      <td>27</td>\n",
              "      <td>83.35</td>\n",
              "      <td>25.97</td>\n",
              "      <td>55.90</td>\n",
              "      <td>81.82</td>\n",
              "      <td>48.95</td>\n",
              "      <td>87.28</td>\n",
              "    </tr>\n",
              "    <tr>\n",
              "      <th>1</th>\n",
              "      <td>Italy</td>\n",
              "      <td>13.50%</td>\n",
              "      <td>63.50%</td>\n",
              "      <td>23</td>\n",
              "      <td>67.26</td>\n",
              "      <td>21.22</td>\n",
              "      <td>45.24</td>\n",
              "      <td>55.44</td>\n",
              "      <td>72.32</td>\n",
              "      <td>65.59</td>\n",
              "    </tr>\n",
              "    <tr>\n",
              "      <th>2</th>\n",
              "      <td>Portugal</td>\n",
              "      <td>13.60%</td>\n",
              "      <td>64.90%</td>\n",
              "      <td>22</td>\n",
              "      <td>49.52</td>\n",
              "      <td>21.81</td>\n",
              "      <td>36.27</td>\n",
              "      <td>38.14</td>\n",
              "      <td>42.48</td>\n",
              "      <td>49.43</td>\n",
              "    </tr>\n",
              "    <tr>\n",
              "      <th>3</th>\n",
              "      <td>Germany</td>\n",
              "      <td>13.10%</td>\n",
              "      <td>65.50%</td>\n",
              "      <td>22</td>\n",
              "      <td>65.26</td>\n",
              "      <td>27.06</td>\n",
              "      <td>46.99</td>\n",
              "      <td>49.23</td>\n",
              "      <td>61.58</td>\n",
              "      <td>102.36</td>\n",
              "    </tr>\n",
              "    <tr>\n",
              "      <th>4</th>\n",
              "      <td>Finland</td>\n",
              "      <td>16.40%</td>\n",
              "      <td>62.40%</td>\n",
              "      <td>21</td>\n",
              "      <td>70.29</td>\n",
              "      <td>26.16</td>\n",
              "      <td>49.18</td>\n",
              "      <td>56.52</td>\n",
              "      <td>76.81</td>\n",
              "      <td>99.93</td>\n",
              "    </tr>\n",
              "  </tbody>\n",
              "</table>\n",
              "</div>\n",
              "      <button class=\"colab-df-convert\" onclick=\"convertToInteractive('df-75a78007-4ecc-4c99-9fea-d14f9ce104a9')\"\n",
              "              title=\"Convert this dataframe to an interactive table.\"\n",
              "              style=\"display:none;\">\n",
              "        \n",
              "  <svg xmlns=\"http://www.w3.org/2000/svg\" height=\"24px\"viewBox=\"0 0 24 24\"\n",
              "       width=\"24px\">\n",
              "    <path d=\"M0 0h24v24H0V0z\" fill=\"none\"/>\n",
              "    <path d=\"M18.56 5.44l.94 2.06.94-2.06 2.06-.94-2.06-.94-.94-2.06-.94 2.06-2.06.94zm-11 1L8.5 8.5l.94-2.06 2.06-.94-2.06-.94L8.5 2.5l-.94 2.06-2.06.94zm10 10l.94 2.06.94-2.06 2.06-.94-2.06-.94-.94-2.06-.94 2.06-2.06.94z\"/><path d=\"M17.41 7.96l-1.37-1.37c-.4-.4-.92-.59-1.43-.59-.52 0-1.04.2-1.43.59L10.3 9.45l-7.72 7.72c-.78.78-.78 2.05 0 2.83L4 21.41c.39.39.9.59 1.41.59.51 0 1.02-.2 1.41-.59l7.78-7.78 2.81-2.81c.8-.78.8-2.07 0-2.86zM5.41 20L4 18.59l7.72-7.72 1.47 1.35L5.41 20z\"/>\n",
              "  </svg>\n",
              "      </button>\n",
              "      \n",
              "  <style>\n",
              "    .colab-df-container {\n",
              "      display:flex;\n",
              "      flex-wrap:wrap;\n",
              "      gap: 12px;\n",
              "    }\n",
              "\n",
              "    .colab-df-convert {\n",
              "      background-color: #E8F0FE;\n",
              "      border: none;\n",
              "      border-radius: 50%;\n",
              "      cursor: pointer;\n",
              "      display: none;\n",
              "      fill: #1967D2;\n",
              "      height: 32px;\n",
              "      padding: 0 0 0 0;\n",
              "      width: 32px;\n",
              "    }\n",
              "\n",
              "    .colab-df-convert:hover {\n",
              "      background-color: #E2EBFA;\n",
              "      box-shadow: 0px 1px 2px rgba(60, 64, 67, 0.3), 0px 1px 3px 1px rgba(60, 64, 67, 0.15);\n",
              "      fill: #174EA6;\n",
              "    }\n",
              "\n",
              "    [theme=dark] .colab-df-convert {\n",
              "      background-color: #3B4455;\n",
              "      fill: #D2E3FC;\n",
              "    }\n",
              "\n",
              "    [theme=dark] .colab-df-convert:hover {\n",
              "      background-color: #434B5C;\n",
              "      box-shadow: 0px 1px 3px 1px rgba(0, 0, 0, 0.15);\n",
              "      filter: drop-shadow(0px 1px 2px rgba(0, 0, 0, 0.3));\n",
              "      fill: #FFFFFF;\n",
              "    }\n",
              "  </style>\n",
              "\n",
              "      <script>\n",
              "        const buttonEl =\n",
              "          document.querySelector('#df-75a78007-4ecc-4c99-9fea-d14f9ce104a9 button.colab-df-convert');\n",
              "        buttonEl.style.display =\n",
              "          google.colab.kernel.accessAllowed ? 'block' : 'none';\n",
              "\n",
              "        async function convertToInteractive(key) {\n",
              "          const element = document.querySelector('#df-75a78007-4ecc-4c99-9fea-d14f9ce104a9');\n",
              "          const dataTable =\n",
              "            await google.colab.kernel.invokeFunction('convertToInteractive',\n",
              "                                                     [key], {});\n",
              "          if (!dataTable) return;\n",
              "\n",
              "          const docLinkHtml = 'Like what you see? Visit the ' +\n",
              "            '<a target=\"_blank\" href=https://colab.research.google.com/notebooks/data_table.ipynb>data table notebook</a>'\n",
              "            + ' to learn more about interactive tables.';\n",
              "          element.innerHTML = '';\n",
              "          dataTable['output_type'] = 'display_data';\n",
              "          await google.colab.output.renderOutput(dataTable, element);\n",
              "          const docLink = document.createElement('div');\n",
              "          docLink.innerHTML = docLinkHtml;\n",
              "          element.appendChild(docLink);\n",
              "        }\n",
              "      </script>\n",
              "    </div>\n",
              "  </div>\n",
              "  "
            ]
          },
          "metadata": {},
          "execution_count": 224
        }
      ]
    },
    {
      "cell_type": "code",
      "source": [
        "dropped_countries.tail()"
      ],
      "metadata": {
        "colab": {
          "base_uri": "https://localhost:8080/",
          "height": 285
        },
        "id": "Qcy2PpY3yaGP",
        "outputId": "3f42dbef-9b52-40eb-febd-5a60d22f4e75"
      },
      "execution_count": null,
      "outputs": [
        {
          "output_type": "execute_result",
          "data": {
            "text/plain": [
              "                  Country Age 0 to 14 Years Age 15 to 64 Years  \\\n",
              "184               Bahrain            19.70%             77.90%   \n",
              "187                Kuwait            21.10%             76.60%   \n",
              "188                Uganda            47.70%             50.10%   \n",
              "189                 Qatar            13.90%             84.80%   \n",
              "190  United Arab Emirates            13.90%             85.00%   \n",
              "\n",
              "     Age above 65 Years  Cost of Living Index  Rent Index  \\\n",
              "184                   2                 58.94       30.95   \n",
              "187                   2                 50.37       31.21   \n",
              "188                   2                 30.18       10.15   \n",
              "189                   1                 64.04       47.44   \n",
              "190                   1                 61.98       41.07   \n",
              "\n",
              "     Cost of Living Plus Rent Index  Groceries Index  Restaurant Price Index  \\\n",
              "184                           45.55            48.11                   54.55   \n",
              "187                           41.21            34.68                   47.08   \n",
              "188                           20.60            25.25                   22.14   \n",
              "189                           56.10            53.61                   66.83   \n",
              "190                           51.98            47.63                   61.32   \n",
              "\n",
              "     Local Purchasing Power Index  \n",
              "184                         57.88  \n",
              "187                         85.59  \n",
              "188                         20.50  \n",
              "189                        111.69  \n",
              "190                         91.58  "
            ],
            "text/html": [
              "\n",
              "  <div id=\"df-326aaac8-4a98-4955-8492-f42e344b40a3\">\n",
              "    <div class=\"colab-df-container\">\n",
              "      <div>\n",
              "<style scoped>\n",
              "    .dataframe tbody tr th:only-of-type {\n",
              "        vertical-align: middle;\n",
              "    }\n",
              "\n",
              "    .dataframe tbody tr th {\n",
              "        vertical-align: top;\n",
              "    }\n",
              "\n",
              "    .dataframe thead th {\n",
              "        text-align: right;\n",
              "    }\n",
              "</style>\n",
              "<table border=\"1\" class=\"dataframe\">\n",
              "  <thead>\n",
              "    <tr style=\"text-align: right;\">\n",
              "      <th></th>\n",
              "      <th>Country</th>\n",
              "      <th>Age 0 to 14 Years</th>\n",
              "      <th>Age 15 to 64 Years</th>\n",
              "      <th>Age above 65 Years</th>\n",
              "      <th>Cost of Living Index</th>\n",
              "      <th>Rent Index</th>\n",
              "      <th>Cost of Living Plus Rent Index</th>\n",
              "      <th>Groceries Index</th>\n",
              "      <th>Restaurant Price Index</th>\n",
              "      <th>Local Purchasing Power Index</th>\n",
              "    </tr>\n",
              "  </thead>\n",
              "  <tbody>\n",
              "    <tr>\n",
              "      <th>184</th>\n",
              "      <td>Bahrain</td>\n",
              "      <td>19.70%</td>\n",
              "      <td>77.90%</td>\n",
              "      <td>2</td>\n",
              "      <td>58.94</td>\n",
              "      <td>30.95</td>\n",
              "      <td>45.55</td>\n",
              "      <td>48.11</td>\n",
              "      <td>54.55</td>\n",
              "      <td>57.88</td>\n",
              "    </tr>\n",
              "    <tr>\n",
              "      <th>187</th>\n",
              "      <td>Kuwait</td>\n",
              "      <td>21.10%</td>\n",
              "      <td>76.60%</td>\n",
              "      <td>2</td>\n",
              "      <td>50.37</td>\n",
              "      <td>31.21</td>\n",
              "      <td>41.21</td>\n",
              "      <td>34.68</td>\n",
              "      <td>47.08</td>\n",
              "      <td>85.59</td>\n",
              "    </tr>\n",
              "    <tr>\n",
              "      <th>188</th>\n",
              "      <td>Uganda</td>\n",
              "      <td>47.70%</td>\n",
              "      <td>50.10%</td>\n",
              "      <td>2</td>\n",
              "      <td>30.18</td>\n",
              "      <td>10.15</td>\n",
              "      <td>20.60</td>\n",
              "      <td>25.25</td>\n",
              "      <td>22.14</td>\n",
              "      <td>20.50</td>\n",
              "    </tr>\n",
              "    <tr>\n",
              "      <th>189</th>\n",
              "      <td>Qatar</td>\n",
              "      <td>13.90%</td>\n",
              "      <td>84.80%</td>\n",
              "      <td>1</td>\n",
              "      <td>64.04</td>\n",
              "      <td>47.44</td>\n",
              "      <td>56.10</td>\n",
              "      <td>53.61</td>\n",
              "      <td>66.83</td>\n",
              "      <td>111.69</td>\n",
              "    </tr>\n",
              "    <tr>\n",
              "      <th>190</th>\n",
              "      <td>United Arab Emirates</td>\n",
              "      <td>13.90%</td>\n",
              "      <td>85.00%</td>\n",
              "      <td>1</td>\n",
              "      <td>61.98</td>\n",
              "      <td>41.07</td>\n",
              "      <td>51.98</td>\n",
              "      <td>47.63</td>\n",
              "      <td>61.32</td>\n",
              "      <td>91.58</td>\n",
              "    </tr>\n",
              "  </tbody>\n",
              "</table>\n",
              "</div>\n",
              "      <button class=\"colab-df-convert\" onclick=\"convertToInteractive('df-326aaac8-4a98-4955-8492-f42e344b40a3')\"\n",
              "              title=\"Convert this dataframe to an interactive table.\"\n",
              "              style=\"display:none;\">\n",
              "        \n",
              "  <svg xmlns=\"http://www.w3.org/2000/svg\" height=\"24px\"viewBox=\"0 0 24 24\"\n",
              "       width=\"24px\">\n",
              "    <path d=\"M0 0h24v24H0V0z\" fill=\"none\"/>\n",
              "    <path d=\"M18.56 5.44l.94 2.06.94-2.06 2.06-.94-2.06-.94-.94-2.06-.94 2.06-2.06.94zm-11 1L8.5 8.5l.94-2.06 2.06-.94-2.06-.94L8.5 2.5l-.94 2.06-2.06.94zm10 10l.94 2.06.94-2.06 2.06-.94-2.06-.94-.94-2.06-.94 2.06-2.06.94z\"/><path d=\"M17.41 7.96l-1.37-1.37c-.4-.4-.92-.59-1.43-.59-.52 0-1.04.2-1.43.59L10.3 9.45l-7.72 7.72c-.78.78-.78 2.05 0 2.83L4 21.41c.39.39.9.59 1.41.59.51 0 1.02-.2 1.41-.59l7.78-7.78 2.81-2.81c.8-.78.8-2.07 0-2.86zM5.41 20L4 18.59l7.72-7.72 1.47 1.35L5.41 20z\"/>\n",
              "  </svg>\n",
              "      </button>\n",
              "      \n",
              "  <style>\n",
              "    .colab-df-container {\n",
              "      display:flex;\n",
              "      flex-wrap:wrap;\n",
              "      gap: 12px;\n",
              "    }\n",
              "\n",
              "    .colab-df-convert {\n",
              "      background-color: #E8F0FE;\n",
              "      border: none;\n",
              "      border-radius: 50%;\n",
              "      cursor: pointer;\n",
              "      display: none;\n",
              "      fill: #1967D2;\n",
              "      height: 32px;\n",
              "      padding: 0 0 0 0;\n",
              "      width: 32px;\n",
              "    }\n",
              "\n",
              "    .colab-df-convert:hover {\n",
              "      background-color: #E2EBFA;\n",
              "      box-shadow: 0px 1px 2px rgba(60, 64, 67, 0.3), 0px 1px 3px 1px rgba(60, 64, 67, 0.15);\n",
              "      fill: #174EA6;\n",
              "    }\n",
              "\n",
              "    [theme=dark] .colab-df-convert {\n",
              "      background-color: #3B4455;\n",
              "      fill: #D2E3FC;\n",
              "    }\n",
              "\n",
              "    [theme=dark] .colab-df-convert:hover {\n",
              "      background-color: #434B5C;\n",
              "      box-shadow: 0px 1px 3px 1px rgba(0, 0, 0, 0.15);\n",
              "      filter: drop-shadow(0px 1px 2px rgba(0, 0, 0, 0.3));\n",
              "      fill: #FFFFFF;\n",
              "    }\n",
              "  </style>\n",
              "\n",
              "      <script>\n",
              "        const buttonEl =\n",
              "          document.querySelector('#df-326aaac8-4a98-4955-8492-f42e344b40a3 button.colab-df-convert');\n",
              "        buttonEl.style.display =\n",
              "          google.colab.kernel.accessAllowed ? 'block' : 'none';\n",
              "\n",
              "        async function convertToInteractive(key) {\n",
              "          const element = document.querySelector('#df-326aaac8-4a98-4955-8492-f42e344b40a3');\n",
              "          const dataTable =\n",
              "            await google.colab.kernel.invokeFunction('convertToInteractive',\n",
              "                                                     [key], {});\n",
              "          if (!dataTable) return;\n",
              "\n",
              "          const docLinkHtml = 'Like what you see? Visit the ' +\n",
              "            '<a target=\"_blank\" href=https://colab.research.google.com/notebooks/data_table.ipynb>data table notebook</a>'\n",
              "            + ' to learn more about interactive tables.';\n",
              "          element.innerHTML = '';\n",
              "          dataTable['output_type'] = 'display_data';\n",
              "          await google.colab.output.renderOutput(dataTable, element);\n",
              "          const docLink = document.createElement('div');\n",
              "          docLink.innerHTML = docLinkHtml;\n",
              "          element.appendChild(docLink);\n",
              "        }\n",
              "      </script>\n",
              "    </div>\n",
              "  </div>\n",
              "  "
            ]
          },
          "metadata": {},
          "execution_count": 225
        }
      ]
    },
    {
      "cell_type": "markdown",
      "source": [
        "#Visualization\n",
        "\n",
        "I intend to use a dot plot due to the number of values. There are around 120 values, so as such it would make sense to be able to see all the individual points and their correlation.\n",
        "\n",
        "The x-axis here is going to be percent ages 0 to 14.\n",
        "\n",
        "Let's sort the original x-axis first."
      ],
      "metadata": {
        "id": "0pbPWCWozvm5"
      }
    },
    {
      "cell_type": "code",
      "source": [
        "dropped_countries = dropped_countries.sort_values(by=['Age above 65 Years'])"
      ],
      "metadata": {
        "id": "YOH7eFHA-G3N"
      },
      "execution_count": null,
      "outputs": []
    },
    {
      "cell_type": "code",
      "source": [
        "dropped_countries.head()"
      ],
      "metadata": {
        "colab": {
          "base_uri": "https://localhost:8080/",
          "height": 285
        },
        "id": "LZd_gmLf9YVc",
        "outputId": "08fade72-2c7a-4352-d716-9466808635ad"
      },
      "execution_count": null,
      "outputs": [
        {
          "output_type": "execute_result",
          "data": {
            "text/plain": [
              "                  Country Age 0 to 14 Years Age 15 to 64 Years  \\\n",
              "190  United Arab Emirates            13.90%             85.00%   \n",
              "189                 Qatar            13.90%             84.80%   \n",
              "187                Kuwait            21.10%             76.60%   \n",
              "184               Bahrain            19.70%             77.90%   \n",
              "182                  Oman            21.80%             75.80%   \n",
              "\n",
              "     Age above 65 Years  Cost of Living Index  Rent Index  \\\n",
              "190                   1                 61.98       41.07   \n",
              "189                   1                 64.04       47.44   \n",
              "187                   2                 50.37       31.21   \n",
              "184                   2                 58.94       30.95   \n",
              "182                   2                 49.28       17.98   \n",
              "\n",
              "     Cost of Living Plus Rent Index  Groceries Index  Restaurant Price Index  \\\n",
              "190                           51.98            47.63                   61.32   \n",
              "189                           56.10            53.61                   66.83   \n",
              "187                           41.21            34.68                   47.08   \n",
              "184                           45.55            48.11                   54.55   \n",
              "182                           34.31            43.50                   44.26   \n",
              "\n",
              "     Local Purchasing Power Index  \n",
              "190                         91.58  \n",
              "189                        111.69  \n",
              "187                         85.59  \n",
              "184                         57.88  \n",
              "182                         80.97  "
            ],
            "text/html": [
              "\n",
              "  <div id=\"df-3c27ea86-80d0-40c9-bc73-ee3f785a0791\">\n",
              "    <div class=\"colab-df-container\">\n",
              "      <div>\n",
              "<style scoped>\n",
              "    .dataframe tbody tr th:only-of-type {\n",
              "        vertical-align: middle;\n",
              "    }\n",
              "\n",
              "    .dataframe tbody tr th {\n",
              "        vertical-align: top;\n",
              "    }\n",
              "\n",
              "    .dataframe thead th {\n",
              "        text-align: right;\n",
              "    }\n",
              "</style>\n",
              "<table border=\"1\" class=\"dataframe\">\n",
              "  <thead>\n",
              "    <tr style=\"text-align: right;\">\n",
              "      <th></th>\n",
              "      <th>Country</th>\n",
              "      <th>Age 0 to 14 Years</th>\n",
              "      <th>Age 15 to 64 Years</th>\n",
              "      <th>Age above 65 Years</th>\n",
              "      <th>Cost of Living Index</th>\n",
              "      <th>Rent Index</th>\n",
              "      <th>Cost of Living Plus Rent Index</th>\n",
              "      <th>Groceries Index</th>\n",
              "      <th>Restaurant Price Index</th>\n",
              "      <th>Local Purchasing Power Index</th>\n",
              "    </tr>\n",
              "  </thead>\n",
              "  <tbody>\n",
              "    <tr>\n",
              "      <th>190</th>\n",
              "      <td>United Arab Emirates</td>\n",
              "      <td>13.90%</td>\n",
              "      <td>85.00%</td>\n",
              "      <td>1</td>\n",
              "      <td>61.98</td>\n",
              "      <td>41.07</td>\n",
              "      <td>51.98</td>\n",
              "      <td>47.63</td>\n",
              "      <td>61.32</td>\n",
              "      <td>91.58</td>\n",
              "    </tr>\n",
              "    <tr>\n",
              "      <th>189</th>\n",
              "      <td>Qatar</td>\n",
              "      <td>13.90%</td>\n",
              "      <td>84.80%</td>\n",
              "      <td>1</td>\n",
              "      <td>64.04</td>\n",
              "      <td>47.44</td>\n",
              "      <td>56.10</td>\n",
              "      <td>53.61</td>\n",
              "      <td>66.83</td>\n",
              "      <td>111.69</td>\n",
              "    </tr>\n",
              "    <tr>\n",
              "      <th>187</th>\n",
              "      <td>Kuwait</td>\n",
              "      <td>21.10%</td>\n",
              "      <td>76.60%</td>\n",
              "      <td>2</td>\n",
              "      <td>50.37</td>\n",
              "      <td>31.21</td>\n",
              "      <td>41.21</td>\n",
              "      <td>34.68</td>\n",
              "      <td>47.08</td>\n",
              "      <td>85.59</td>\n",
              "    </tr>\n",
              "    <tr>\n",
              "      <th>184</th>\n",
              "      <td>Bahrain</td>\n",
              "      <td>19.70%</td>\n",
              "      <td>77.90%</td>\n",
              "      <td>2</td>\n",
              "      <td>58.94</td>\n",
              "      <td>30.95</td>\n",
              "      <td>45.55</td>\n",
              "      <td>48.11</td>\n",
              "      <td>54.55</td>\n",
              "      <td>57.88</td>\n",
              "    </tr>\n",
              "    <tr>\n",
              "      <th>182</th>\n",
              "      <td>Oman</td>\n",
              "      <td>21.80%</td>\n",
              "      <td>75.80%</td>\n",
              "      <td>2</td>\n",
              "      <td>49.28</td>\n",
              "      <td>17.98</td>\n",
              "      <td>34.31</td>\n",
              "      <td>43.50</td>\n",
              "      <td>44.26</td>\n",
              "      <td>80.97</td>\n",
              "    </tr>\n",
              "  </tbody>\n",
              "</table>\n",
              "</div>\n",
              "      <button class=\"colab-df-convert\" onclick=\"convertToInteractive('df-3c27ea86-80d0-40c9-bc73-ee3f785a0791')\"\n",
              "              title=\"Convert this dataframe to an interactive table.\"\n",
              "              style=\"display:none;\">\n",
              "        \n",
              "  <svg xmlns=\"http://www.w3.org/2000/svg\" height=\"24px\"viewBox=\"0 0 24 24\"\n",
              "       width=\"24px\">\n",
              "    <path d=\"M0 0h24v24H0V0z\" fill=\"none\"/>\n",
              "    <path d=\"M18.56 5.44l.94 2.06.94-2.06 2.06-.94-2.06-.94-.94-2.06-.94 2.06-2.06.94zm-11 1L8.5 8.5l.94-2.06 2.06-.94-2.06-.94L8.5 2.5l-.94 2.06-2.06.94zm10 10l.94 2.06.94-2.06 2.06-.94-2.06-.94-.94-2.06-.94 2.06-2.06.94z\"/><path d=\"M17.41 7.96l-1.37-1.37c-.4-.4-.92-.59-1.43-.59-.52 0-1.04.2-1.43.59L10.3 9.45l-7.72 7.72c-.78.78-.78 2.05 0 2.83L4 21.41c.39.39.9.59 1.41.59.51 0 1.02-.2 1.41-.59l7.78-7.78 2.81-2.81c.8-.78.8-2.07 0-2.86zM5.41 20L4 18.59l7.72-7.72 1.47 1.35L5.41 20z\"/>\n",
              "  </svg>\n",
              "      </button>\n",
              "      \n",
              "  <style>\n",
              "    .colab-df-container {\n",
              "      display:flex;\n",
              "      flex-wrap:wrap;\n",
              "      gap: 12px;\n",
              "    }\n",
              "\n",
              "    .colab-df-convert {\n",
              "      background-color: #E8F0FE;\n",
              "      border: none;\n",
              "      border-radius: 50%;\n",
              "      cursor: pointer;\n",
              "      display: none;\n",
              "      fill: #1967D2;\n",
              "      height: 32px;\n",
              "      padding: 0 0 0 0;\n",
              "      width: 32px;\n",
              "    }\n",
              "\n",
              "    .colab-df-convert:hover {\n",
              "      background-color: #E2EBFA;\n",
              "      box-shadow: 0px 1px 2px rgba(60, 64, 67, 0.3), 0px 1px 3px 1px rgba(60, 64, 67, 0.15);\n",
              "      fill: #174EA6;\n",
              "    }\n",
              "\n",
              "    [theme=dark] .colab-df-convert {\n",
              "      background-color: #3B4455;\n",
              "      fill: #D2E3FC;\n",
              "    }\n",
              "\n",
              "    [theme=dark] .colab-df-convert:hover {\n",
              "      background-color: #434B5C;\n",
              "      box-shadow: 0px 1px 3px 1px rgba(0, 0, 0, 0.15);\n",
              "      filter: drop-shadow(0px 1px 2px rgba(0, 0, 0, 0.3));\n",
              "      fill: #FFFFFF;\n",
              "    }\n",
              "  </style>\n",
              "\n",
              "      <script>\n",
              "        const buttonEl =\n",
              "          document.querySelector('#df-3c27ea86-80d0-40c9-bc73-ee3f785a0791 button.colab-df-convert');\n",
              "        buttonEl.style.display =\n",
              "          google.colab.kernel.accessAllowed ? 'block' : 'none';\n",
              "\n",
              "        async function convertToInteractive(key) {\n",
              "          const element = document.querySelector('#df-3c27ea86-80d0-40c9-bc73-ee3f785a0791');\n",
              "          const dataTable =\n",
              "            await google.colab.kernel.invokeFunction('convertToInteractive',\n",
              "                                                     [key], {});\n",
              "          if (!dataTable) return;\n",
              "\n",
              "          const docLinkHtml = 'Like what you see? Visit the ' +\n",
              "            '<a target=\"_blank\" href=https://colab.research.google.com/notebooks/data_table.ipynb>data table notebook</a>'\n",
              "            + ' to learn more about interactive tables.';\n",
              "          element.innerHTML = '';\n",
              "          dataTable['output_type'] = 'display_data';\n",
              "          await google.colab.output.renderOutput(dataTable, element);\n",
              "          const docLink = document.createElement('div');\n",
              "          docLink.innerHTML = docLinkHtml;\n",
              "          element.appendChild(docLink);\n",
              "        }\n",
              "      </script>\n",
              "    </div>\n",
              "  </div>\n",
              "  "
            ]
          },
          "metadata": {},
          "execution_count": 227
        }
      ]
    },
    {
      "cell_type": "code",
      "source": [
        "dropped_countries.tail()"
      ],
      "metadata": {
        "colab": {
          "base_uri": "https://localhost:8080/",
          "height": 267
        },
        "id": "U_InIlVeS9oj",
        "outputId": "cea7a3e2-4dff-4d8a-8bd2-e35b8450d97c"
      },
      "execution_count": null,
      "outputs": [
        {
          "output_type": "execute_result",
          "data": {
            "text/plain": [
              "    Country Age 0 to 14 Years Age 15 to 64 Years  Age above 65 Years  \\\n",
              "4   Finland            16.40%             62.40%                  21   \n",
              "3   Germany            13.10%             65.50%                  22   \n",
              "2  Portugal            13.60%             64.90%                  22   \n",
              "1     Italy            13.50%             63.50%                  23   \n",
              "0     Japan            12.90%             60.10%                  27   \n",
              "\n",
              "   Cost of Living Index  Rent Index  Cost of Living Plus Rent Index  \\\n",
              "4                 70.29       26.16                           49.18   \n",
              "3                 65.26       27.06                           46.99   \n",
              "2                 49.52       21.81                           36.27   \n",
              "1                 67.26       21.22                           45.24   \n",
              "0                 83.35       25.97                           55.90   \n",
              "\n",
              "   Groceries Index  Restaurant Price Index  Local Purchasing Power Index  \n",
              "4            56.52                   76.81                         99.93  \n",
              "3            49.23                   61.58                        102.36  \n",
              "2            38.14                   42.48                         49.43  \n",
              "1            55.44                   72.32                         65.59  \n",
              "0            81.82                   48.95                         87.28  "
            ],
            "text/html": [
              "\n",
              "  <div id=\"df-3283c9f3-b12b-45fb-bf1a-1fb55bf0f16d\">\n",
              "    <div class=\"colab-df-container\">\n",
              "      <div>\n",
              "<style scoped>\n",
              "    .dataframe tbody tr th:only-of-type {\n",
              "        vertical-align: middle;\n",
              "    }\n",
              "\n",
              "    .dataframe tbody tr th {\n",
              "        vertical-align: top;\n",
              "    }\n",
              "\n",
              "    .dataframe thead th {\n",
              "        text-align: right;\n",
              "    }\n",
              "</style>\n",
              "<table border=\"1\" class=\"dataframe\">\n",
              "  <thead>\n",
              "    <tr style=\"text-align: right;\">\n",
              "      <th></th>\n",
              "      <th>Country</th>\n",
              "      <th>Age 0 to 14 Years</th>\n",
              "      <th>Age 15 to 64 Years</th>\n",
              "      <th>Age above 65 Years</th>\n",
              "      <th>Cost of Living Index</th>\n",
              "      <th>Rent Index</th>\n",
              "      <th>Cost of Living Plus Rent Index</th>\n",
              "      <th>Groceries Index</th>\n",
              "      <th>Restaurant Price Index</th>\n",
              "      <th>Local Purchasing Power Index</th>\n",
              "    </tr>\n",
              "  </thead>\n",
              "  <tbody>\n",
              "    <tr>\n",
              "      <th>4</th>\n",
              "      <td>Finland</td>\n",
              "      <td>16.40%</td>\n",
              "      <td>62.40%</td>\n",
              "      <td>21</td>\n",
              "      <td>70.29</td>\n",
              "      <td>26.16</td>\n",
              "      <td>49.18</td>\n",
              "      <td>56.52</td>\n",
              "      <td>76.81</td>\n",
              "      <td>99.93</td>\n",
              "    </tr>\n",
              "    <tr>\n",
              "      <th>3</th>\n",
              "      <td>Germany</td>\n",
              "      <td>13.10%</td>\n",
              "      <td>65.50%</td>\n",
              "      <td>22</td>\n",
              "      <td>65.26</td>\n",
              "      <td>27.06</td>\n",
              "      <td>46.99</td>\n",
              "      <td>49.23</td>\n",
              "      <td>61.58</td>\n",
              "      <td>102.36</td>\n",
              "    </tr>\n",
              "    <tr>\n",
              "      <th>2</th>\n",
              "      <td>Portugal</td>\n",
              "      <td>13.60%</td>\n",
              "      <td>64.90%</td>\n",
              "      <td>22</td>\n",
              "      <td>49.52</td>\n",
              "      <td>21.81</td>\n",
              "      <td>36.27</td>\n",
              "      <td>38.14</td>\n",
              "      <td>42.48</td>\n",
              "      <td>49.43</td>\n",
              "    </tr>\n",
              "    <tr>\n",
              "      <th>1</th>\n",
              "      <td>Italy</td>\n",
              "      <td>13.50%</td>\n",
              "      <td>63.50%</td>\n",
              "      <td>23</td>\n",
              "      <td>67.26</td>\n",
              "      <td>21.22</td>\n",
              "      <td>45.24</td>\n",
              "      <td>55.44</td>\n",
              "      <td>72.32</td>\n",
              "      <td>65.59</td>\n",
              "    </tr>\n",
              "    <tr>\n",
              "      <th>0</th>\n",
              "      <td>Japan</td>\n",
              "      <td>12.90%</td>\n",
              "      <td>60.10%</td>\n",
              "      <td>27</td>\n",
              "      <td>83.35</td>\n",
              "      <td>25.97</td>\n",
              "      <td>55.90</td>\n",
              "      <td>81.82</td>\n",
              "      <td>48.95</td>\n",
              "      <td>87.28</td>\n",
              "    </tr>\n",
              "  </tbody>\n",
              "</table>\n",
              "</div>\n",
              "      <button class=\"colab-df-convert\" onclick=\"convertToInteractive('df-3283c9f3-b12b-45fb-bf1a-1fb55bf0f16d')\"\n",
              "              title=\"Convert this dataframe to an interactive table.\"\n",
              "              style=\"display:none;\">\n",
              "        \n",
              "  <svg xmlns=\"http://www.w3.org/2000/svg\" height=\"24px\"viewBox=\"0 0 24 24\"\n",
              "       width=\"24px\">\n",
              "    <path d=\"M0 0h24v24H0V0z\" fill=\"none\"/>\n",
              "    <path d=\"M18.56 5.44l.94 2.06.94-2.06 2.06-.94-2.06-.94-.94-2.06-.94 2.06-2.06.94zm-11 1L8.5 8.5l.94-2.06 2.06-.94-2.06-.94L8.5 2.5l-.94 2.06-2.06.94zm10 10l.94 2.06.94-2.06 2.06-.94-2.06-.94-.94-2.06-.94 2.06-2.06.94z\"/><path d=\"M17.41 7.96l-1.37-1.37c-.4-.4-.92-.59-1.43-.59-.52 0-1.04.2-1.43.59L10.3 9.45l-7.72 7.72c-.78.78-.78 2.05 0 2.83L4 21.41c.39.39.9.59 1.41.59.51 0 1.02-.2 1.41-.59l7.78-7.78 2.81-2.81c.8-.78.8-2.07 0-2.86zM5.41 20L4 18.59l7.72-7.72 1.47 1.35L5.41 20z\"/>\n",
              "  </svg>\n",
              "      </button>\n",
              "      \n",
              "  <style>\n",
              "    .colab-df-container {\n",
              "      display:flex;\n",
              "      flex-wrap:wrap;\n",
              "      gap: 12px;\n",
              "    }\n",
              "\n",
              "    .colab-df-convert {\n",
              "      background-color: #E8F0FE;\n",
              "      border: none;\n",
              "      border-radius: 50%;\n",
              "      cursor: pointer;\n",
              "      display: none;\n",
              "      fill: #1967D2;\n",
              "      height: 32px;\n",
              "      padding: 0 0 0 0;\n",
              "      width: 32px;\n",
              "    }\n",
              "\n",
              "    .colab-df-convert:hover {\n",
              "      background-color: #E2EBFA;\n",
              "      box-shadow: 0px 1px 2px rgba(60, 64, 67, 0.3), 0px 1px 3px 1px rgba(60, 64, 67, 0.15);\n",
              "      fill: #174EA6;\n",
              "    }\n",
              "\n",
              "    [theme=dark] .colab-df-convert {\n",
              "      background-color: #3B4455;\n",
              "      fill: #D2E3FC;\n",
              "    }\n",
              "\n",
              "    [theme=dark] .colab-df-convert:hover {\n",
              "      background-color: #434B5C;\n",
              "      box-shadow: 0px 1px 3px 1px rgba(0, 0, 0, 0.15);\n",
              "      filter: drop-shadow(0px 1px 2px rgba(0, 0, 0, 0.3));\n",
              "      fill: #FFFFFF;\n",
              "    }\n",
              "  </style>\n",
              "\n",
              "      <script>\n",
              "        const buttonEl =\n",
              "          document.querySelector('#df-3283c9f3-b12b-45fb-bf1a-1fb55bf0f16d button.colab-df-convert');\n",
              "        buttonEl.style.display =\n",
              "          google.colab.kernel.accessAllowed ? 'block' : 'none';\n",
              "\n",
              "        async function convertToInteractive(key) {\n",
              "          const element = document.querySelector('#df-3283c9f3-b12b-45fb-bf1a-1fb55bf0f16d');\n",
              "          const dataTable =\n",
              "            await google.colab.kernel.invokeFunction('convertToInteractive',\n",
              "                                                     [key], {});\n",
              "          if (!dataTable) return;\n",
              "\n",
              "          const docLinkHtml = 'Like what you see? Visit the ' +\n",
              "            '<a target=\"_blank\" href=https://colab.research.google.com/notebooks/data_table.ipynb>data table notebook</a>'\n",
              "            + ' to learn more about interactive tables.';\n",
              "          element.innerHTML = '';\n",
              "          dataTable['output_type'] = 'display_data';\n",
              "          await google.colab.output.renderOutput(dataTable, element);\n",
              "          const docLink = document.createElement('div');\n",
              "          docLink.innerHTML = docLinkHtml;\n",
              "          element.appendChild(docLink);\n",
              "        }\n",
              "      </script>\n",
              "    </div>\n",
              "  </div>\n",
              "  "
            ]
          },
          "metadata": {},
          "execution_count": 228
        }
      ]
    },
    {
      "cell_type": "code",
      "source": [
        "sb.set(rc = {'figure.figsize':(15,10)})\n"
      ],
      "metadata": {
        "id": "WbgrdsLRTHh5"
      },
      "execution_count": null,
      "outputs": []
    },
    {
      "cell_type": "code",
      "source": [
        "sb.scatterplot(data=dropped_countries, x=\"Age above 65 Years\", y=\"Cost of Living Index\")"
      ],
      "metadata": {
        "colab": {
          "base_uri": "https://localhost:8080/",
          "height": 629
        },
        "id": "nkDDJHfuTbtm",
        "outputId": "55cb3e6e-1179-47d5-96b5-9c94abdbb5ad"
      },
      "execution_count": null,
      "outputs": [
        {
          "output_type": "execute_result",
          "data": {
            "text/plain": [
              "<matplotlib.axes._subplots.AxesSubplot at 0x7f5a4269e710>"
            ]
          },
          "metadata": {},
          "execution_count": 234
        },
        {
          "output_type": "display_data",
          "data": {
            "text/plain": [
              "<Figure size 1080x720 with 1 Axes>"
            ],
            "image/png": "[encoded data removed]"
          },
          "metadata": {}
        }
      ]
    },
    {
      "cell_type": "markdown",
      "source": [
        "We'll visualise it with the X axis being between 15-64\n",
        "\n"
      ],
      "metadata": {
        "id": "XZPG7uZuTmHd"
      }
    },
    {
      "cell_type": "code",
      "source": [
        "dropped_countries[\"Age 15 to 64 Years\"] = dropped_countries[\"Age 15 to 64 Years\"].str[:-1]\n",
        "dropped_countries[\"Age 15 to 64 Years\"] = dropped_countries[\"Age 15 to 64 Years\"].str.strip()\n",
        "dropped_countries[\"Age 15 to 64 Years\"] = pd.to_numeric(dropped_countries[\"Age 15 to 64 Years\"])\n",
        "dropped_countries = dropped_countries.sort_values(by=['Age 15 to 64 Years'])"
      ],
      "metadata": {
        "id": "FUCA_JUtTtri"
      },
      "execution_count": null,
      "outputs": []
    },
    {
      "cell_type": "code",
      "source": [
        "sb.scatterplot(data=dropped_countries, x=\"Age 15 to 64 Years\", y=\"Cost of Living Index\")"
      ],
      "metadata": {
        "colab": {
          "base_uri": "https://localhost:8080/",
          "height": 629
        },
        "id": "FDv1Dm-FT9mI",
        "outputId": "63044371-49f1-4488-b189-df2f2dcf229c"
      },
      "execution_count": null,
      "outputs": [
        {
          "output_type": "execute_result",
          "data": {
            "text/plain": [
              "<matplotlib.axes._subplots.AxesSubplot at 0x7f5a425a6e50>"
            ]
          },
          "metadata": {},
          "execution_count": 236
        },
        {
          "output_type": "display_data",
          "data": {
            "text/plain": [
              "<Figure size 1080x720 with 1 Axes>"
            ],
            "image/png": "[encoded data removed]"
          },
          "metadata": {}
        }
      ]
    },
    {
      "cell_type": "markdown",
      "source": [
        "And with the 0-14 axis"
      ],
      "metadata": {
        "id": "oG5D-RI0VmVi"
      }
    },
    {
      "cell_type": "code",
      "source": [
        "dropped_countries[\"Age 0 to 14 Years\"] = dropped_countries[\"Age 0 to 14 Years\"].str[:-1]\n",
        "dropped_countries[\"Age 0 to 14 Years\"] = dropped_countries[\"Age 0 to 14 Years\"].str.strip()\n",
        "dropped_countries[\"Age 0 to 14 Years\"] = pd.to_numeric(dropped_countries[\"Age 0 to 14 Years\"])\n",
        "dropped_countries = dropped_countries.sort_values(by=['Age 0 to 14 Years'])"
      ],
      "metadata": {
        "id": "1xTVlnlFWQ_4"
      },
      "execution_count": null,
      "outputs": []
    },
    {
      "cell_type": "code",
      "source": [
        "sb.scatterplot(data=dropped_countries, x=\"Age 0 to 14 Years\", y=\"Cost of Living Index\")"
      ],
      "metadata": {
        "id": "mOEHYoOPWbJF",
        "outputId": "69ca7541-a6cd-40d4-adba-e4e1dea96608",
        "colab": {
          "base_uri": "https://localhost:8080/",
          "height": 629
        }
      },
      "execution_count": null,
      "outputs": [
        {
          "output_type": "execute_result",
          "data": {
            "text/plain": [
              "<matplotlib.axes._subplots.AxesSubplot at 0x7f5a42527a50>"
            ]
          },
          "metadata": {},
          "execution_count": 238
        },
        {
          "output_type": "display_data",
          "data": {
            "text/plain": [
              "<Figure size 1080x720 with 1 Axes>"
            ],
            "image/png": "[encoded data removed]"
          },
          "metadata": {}
        }
      ]
    },
    {
      "cell_type": "markdown",
      "source": [
        "#Simple Test\n",
        "\n",
        "An idea for a simple statistical test would be inserting a line of best fit for each of the graphs. Whichever graph regression has the highest slope with the line of best fit is the one that has the most impact on the cost of living index.\n",
        "\n",
        "We can add a regression line for all three graphs:"
      ],
      "metadata": {
        "id": "geRepftUVmTl"
      }
    },
    {
      "cell_type": "code",
      "source": [
        "sb.regplot( x=\"Age above 65 Years\", y=\"Cost of Living Index\", data=dropped_countries);\n"
      ],
      "metadata": {
        "colab": {
          "base_uri": "https://localhost:8080/",
          "height": 611
        },
        "id": "oLDRU0wNow2h",
        "outputId": "cea1eb82-1953-4f91-b760-4b1abc54cf7c"
      },
      "execution_count": null,
      "outputs": [
        {
          "output_type": "display_data",
          "data": {
            "text/plain": [
              "<Figure size 1080x720 with 1 Axes>"
            ],
            "image/png": "[encoded data removed]"
          },
          "metadata": {}
        }
      ]
    },
    {
      "cell_type": "code",
      "source": [
        "sb.regplot( x=\"Age 15 to 64 Years\", y=\"Cost of Living Index\", data=dropped_countries);\n"
      ],
      "metadata": {
        "colab": {
          "base_uri": "https://localhost:8080/",
          "height": 611
        },
        "id": "p8JLGUGbpjAB",
        "outputId": "01502693-4e70-4242-f8a8-fad25d34a788"
      },
      "execution_count": null,
      "outputs": [
        {
          "output_type": "display_data",
          "data": {
            "text/plain": [
              "<Figure size 1080x720 with 1 Axes>"
            ],
            "image/png": "[encoded data removed]"
          },
          "metadata": {}
        }
      ]
    },
    {
      "cell_type": "code",
      "source": [
        "sb.regplot( x=\"Age 0 to 14 Years\", y=\"Cost of Living Index\", data=dropped_countries);\n"
      ],
      "metadata": {
        "colab": {
          "base_uri": "https://localhost:8080/",
          "height": 611
        },
        "id": "RE-MzBEjp4rF",
        "outputId": "bc6a7328-67f8-44f7-db49-8104611bedbe"
      },
      "execution_count": null,
      "outputs": [
        {
          "output_type": "display_data",
          "data": {
            "text/plain": [
              "<Figure size 1080x720 with 1 Axes>"
            ],
            "image/png": "[encoded data removed]"
          },
          "metadata": {}
        }
      ]
    },
    {
      "cell_type": "markdown",
      "source": [
        "Based on the regression charts, the more 0-14 year olds that make up a country's population, the less the cost of living becomes. Although both 15-64 years percentage and 65+ percentage populations have a proportional increase as their population percentages increase, it appears from visually looking at the graph that **The Age Group of 65+ causes the highest increase in living costs in a country.**"
      ],
      "metadata": {
        "id": "uNelUMdkqVy_"
      }
    },
    {
      "cell_type": "markdown",
      "source": [
        "#Statistical Test\n",
        "\n",
        "We will be using the Pearson's Correlation Test here. I am going to determine how closely linearly correlated the data for each visualization is. The closer the value is to one, the better correlated the data is."
      ],
      "metadata": {
        "id": "AGXVN6R4tCFq"
      }
    },
    {
      "cell_type": "code",
      "source": [
        "from scipy.stats import pearsonr # pearson correlation\n"
      ],
      "metadata": {
        "id": "aaCCjCWUuioD"
      },
      "execution_count": null,
      "outputs": []
    },
    {
      "cell_type": "code",
      "source": [
        "r, p_value = pearsonr(dropped_countries['Age above 65 Years'], dropped_countries['Cost of Living Index'])\n",
        "print('Correlation: {}'.format(r))\n",
        "print('P value: {}'.format(p_value))"
      ],
      "metadata": {
        "colab": {
          "base_uri": "https://localhost:8080/"
        },
        "id": "ydvaXfT5uN5z",
        "outputId": "060e1eee-456b-4a3b-89f5-7e217ca5b4fb"
      },
      "execution_count": null,
      "outputs": [
        {
          "output_type": "stream",
          "name": "stdout",
          "text": [
            "Correlation: 0.48489556532349354\n",
            "P value: 7.601859770360424e-09\n"
          ]
        }
      ]
    },
    {
      "cell_type": "markdown",
      "source": [
        "While there is a correlation that certainly exists, it is only halfway to pure correlation. The results for x = age above 65 is statistically significant, but not to a very high extent.  "
      ],
      "metadata": {
        "id": "nelzbP9QupD4"
      }
    },
    {
      "cell_type": "code",
      "source": [
        "r, p_value = pearsonr(dropped_countries['Age 15 to 64 Years'], dropped_countries['Cost of Living Index'])\n",
        "print('Correlation: {}'.format(r))\n",
        "print('P value: {}'.format(p_value))"
      ],
      "metadata": {
        "colab": {
          "base_uri": "https://localhost:8080/"
        },
        "id": "NGjvhA_evpdC",
        "outputId": "59b9ccb1-2492-4821-90ba-57376f507327"
      },
      "execution_count": null,
      "outputs": [
        {
          "output_type": "stream",
          "name": "stdout",
          "text": [
            "Correlation: 0.18865461039069395\n",
            "P value: 0.033660032848852606\n"
          ]
        }
      ]
    },
    {
      "cell_type": "markdown",
      "source": [
        "This a very poor correlation. The results for x = [15 <= age <= 64] are not very statisically significant."
      ],
      "metadata": {
        "id": "SWR9TdjpvujS"
      }
    },
    {
      "cell_type": "code",
      "source": [
        "r, p_value = pearsonr(dropped_countries['Age 0 to 14 Years'], dropped_countries['Cost of Living Index'])\n",
        "print('Correlation: {}'.format(r))\n",
        "print('P value: {}'.format(p_value))"
      ],
      "metadata": {
        "colab": {
          "base_uri": "https://localhost:8080/"
        },
        "id": "CI_vB4B3wTXu",
        "outputId": "7ae89f98-e32a-4b3f-a60f-4469eeb175e3"
      },
      "execution_count": null,
      "outputs": [
        {
          "output_type": "stream",
          "name": "stdout",
          "text": [
            "Correlation: -0.46844342098615416\n",
            "P value: 2.7922653529829038e-08\n"
          ]
        }
      ]
    },
    {
      "cell_type": "markdown",
      "source": [
        "Similar to the dataset which had x = age above 65 years old, this data is only slightly significant. It's negative value or the correlation, which makes sense considering its downward trend. The results for this data set are statistically significant, but not to a very high extent."
      ],
      "metadata": {
        "id": "FiugpyGjwX5_"
      }
    },
    {
      "cell_type": "markdown",
      "source": [
        "**After the statistical tests, we can conclude with mild confidence that the age group of 65+ is the driving factor in the increase in cost index across the world.**"
      ],
      "metadata": {
        "id": "bPHp91zRxKX2"
      }
    },
    {
      "cell_type": "markdown",
      "source": [
        "#Write Up"
      ],
      "metadata": {
        "id": "ow3k1HM5358Y"
      }
    },
    {
      "cell_type": "markdown",
      "source": [
        "\n",
        "\n",
        "> The purpose of this exploratory data analysis was to determine if there was a relationship between the percentage that an age group contributed towards a population. For example, are the elderly the biggest driving factor in increasing or decreasing the cost of living in a nation. As such, the question that I decided to investigate was “Is there a certain relationship between the composition of a population’s age and its cost of living index.” I chose this question because I wanted to determine if countries across the world on average were spending more money on the elderly. For this investigation purpose, I have assumed that the cost of living is spiked by taxes.\n",
        "\n",
        "\n",
        "\n",
        "\n",
        "\n",
        "\n",
        "> My first step in this analysis was reading the data. I decided to use two sets of data. The first set of data was a list of countries and what percentage of age from the groups of ages 0-14, 15-64, and 65+ made up the population of that country. The other dataset was a list of countries that had data for cost indexes such as living cost index, average rent cost, and other costs such as grocery. Most of the values that were present in ages were not present in cost indexes, which was a difference of 64 values. I noticed the thing that was extremely common amongst both data sets was simply the countries, so I decided to use the countries as a key for joining the data sets. For this analysis, I planned to only use the cost of living index, since this index value combines all of these values into a numerical value. The ages data set had more countries missing than the cost data set. I did not want to lose many values of data yet, since I wanted to decide later on how to handle cleaning up the data on my own. As such, I opted for a left based join, which would keep all the countries that were missing in the ages data set, but not the cost data set. The joined data had 64 null values, which I did not believe was worth it to google every individual missing country’s data. As such, I would go ahead and drop these values. This was a near 30% drop rate, and while it wasn’t ideal, it was still an enough number of countries to make an accurate conclusion. Indeed, deleting these values is the same thing as doing a right join. However, I wanted to keep as many values as possible and clean up these values later. This just gave me more control over the data, as opposed to losing it during the joining process very early on. I ended up opting to just delete the NaN values, since imputing them proved to be difficult; they were missing not at random, as most of the countries missing were third world nations, which are naturally hard to obtain data from.\n",
        "\n",
        "\n",
        "\n",
        "\n",
        "\n",
        "\n",
        "\n",
        "\n",
        "> The visualization that I opted for was a scatter plot. This visualization was chosen because of the amount of data. Since it was in the hundreds, it would be easier to visualize all the data points as opposed to putting it into a line plot, which would make the visualization much less accurate looking. I made three visualizations for each type of x-axis: 0-14, 15-64, and 65+ age percentages. I also made more visualizations with a linear regression line in order to compare the average change of change between all the graphs. After examining the linear regression line, I noticed that the 65+ data set had the highest rate of change in its linear regression. I concluded that the 65+ age group increases the average cost of living the most compared to the other age groups. I did the Pearson correlation coefficient test to verify my results. The results were not very statistically significant, however they held some significance except for the 15-64 age group data set. The two values had pearson values close to 0.5, while the 15-64 set has a value close to 0.2, making it really statistically insignificant.\n",
        "\n",
        "\n",
        "\n",
        "  \n",
        "> Some limitations to my conjoining strategy include the fact that it appeared to be a right based join with extra steps. In reality, I could have honestly just joined right and not dropped any values. Additionally, there was truly no way of conjoining without losing values. Googling values, while it is an option, will make it really difficult to verify that the data that is manually being inserted is indeed within the same time frame of the data sets.  \n",
        "> The applications of this investigation are certainly applicable. Governments can learn to apply certain policies towards the elderly in order to prevent them from taking hits towards the cost of living.\n",
        "\n",
        "\n",
        "\n"
      ],
      "metadata": {
        "id": "P8fdIGRZJNql"
      }
    }
  ]
}